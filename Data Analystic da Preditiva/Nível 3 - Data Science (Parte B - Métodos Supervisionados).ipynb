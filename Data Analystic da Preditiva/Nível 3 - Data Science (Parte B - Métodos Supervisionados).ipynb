{
 "cells": [
  {
   "cell_type": "markdown",
   "id": "9ae84d52",
   "metadata": {},
   "source": [
    "<center><img width=\"25%\" src=\"https://www.camaramirimdoce.sc.gov.br/media/noticia/resumo-da-sessao-10-06-2019-111.png?w=848&h=450&t=P&c=f0f0f0&q=80&v=2\"></center>\n",
    "\n",
    "---\n",
    "\n",
    "<br>\n",
    "\n",
    "# Nível 3 - Data Science: Parte B - Métodos Supervisionados\n",
    "\n",
    "<br>"
   ]
  },
  {
   "cell_type": "markdown",
   "id": "1c3e2126",
   "metadata": {},
   "source": [
    "# **Sumário:**\n",
    "1. [Regressão Linear Múltipla no Python](#Regressão-Linear-Múltipla-no-Python)\n",
    "2. [Regressão Logística](#Regressão-Logística)\n",
    "3. [Diagnóstico e Interpretação de Modelos](#Diagnóstico-e-Interpretação-de-Modelos)\n",
    "4. [Redes Neurais Artificiais no Python](#Redes-Neurais-Artificiais-no-Python)\n",
    "5. [Árvores de Decisão](#Árvores-de-Decisão)\n",
    "6. [Ensemble de Modelos no Python](#Ensemble-de-Modelos-no-Python)"
   ]
  },
  {
   "cell_type": "markdown",
   "id": "d07cbb21",
   "metadata": {},
   "source": [
    "### **Regressão Linear Múltipla no Python** \n",
    "[&#x1F53C;](#Sumário:) Clique para voltar para o sumário"
   ]
  },
  {
   "cell_type": "markdown",
   "id": "754b10c6",
   "metadata": {},
   "source": [
    "### **Regressão Logística** \n",
    "[&#x1F53C;](#Sumário:) Clique para voltar para o sumário"
   ]
  },
  {
   "cell_type": "markdown",
   "id": "d50f6bcb",
   "metadata": {},
   "source": [
    "### **Diagnóstico e Interpretação de Modelos** \n",
    "[&#x1F53C;](#Sumário:) Clique para voltar para o sumário"
   ]
  },
  {
   "cell_type": "markdown",
   "id": "4cc68857",
   "metadata": {},
   "source": [
    "### **Redes Neurais Artificiais no Python** \n",
    "[&#x1F53C;](#Sumário:) Clique para voltar para o sumário"
   ]
  },
  {
   "cell_type": "markdown",
   "id": "03aa5840",
   "metadata": {},
   "source": [
    "### **Árvores de Decisão** \n",
    "[&#x1F53C;](#Sumário:) Clique para voltar para o sumário"
   ]
  },
  {
   "cell_type": "markdown",
   "id": "147d08e0",
   "metadata": {},
   "source": [
    "### **Ensemble de Modelos no Python** \n",
    "[&#x1F53C;](#Sumário:) Clique para voltar para o sumário"
   ]
  }
 ],
 "metadata": {
  "kernelspec": {
   "display_name": "Python 3 (ipykernel)",
   "language": "python",
   "name": "python3"
  },
  "language_info": {
   "codemirror_mode": {
    "name": "ipython",
    "version": 3
   },
   "file_extension": ".py",
   "mimetype": "text/x-python",
   "name": "python",
   "nbconvert_exporter": "python",
   "pygments_lexer": "ipython3",
   "version": "3.9.16"
  }
 },
 "nbformat": 4,
 "nbformat_minor": 5
}
