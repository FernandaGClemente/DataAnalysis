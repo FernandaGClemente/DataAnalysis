{
 "cells": [
  {
   "cell_type": "markdown",
   "id": "72c4aa71",
   "metadata": {},
   "source": [
    "<center><img width=\"25%\" src=\"https://www.camaramirimdoce.sc.gov.br/media/noticia/resumo-da-sessao-10-06-2019-111.png?w=848&h=450&t=P&c=f0f0f0&q=80&v=2\"></center>\n",
    "\n",
    "---\n",
    "\n",
    "<br>\n",
    "\n",
    "# Nível 1 - Fundamentos de Analytics\n",
    "\n",
    "<br>"
   ]
  },
  {
   "cell_type": "markdown",
   "id": "04552a0f",
   "metadata": {},
   "source": [
    "# **Sumário:**\n",
    "1. [Parte A: Análise Exploratória de Dados (EDA)](#Parte-A:-Análise-Exploratória-de-Dados-(EDA))\n",
    "    * Introdução ao Mundo dos Dados\n",
    "    * Microsoft Excel para Analytics\n",
    "    * Como resumir e interpretar dados?\n",
    "    * Análise de Correlação e Associação\n",
    "2. [Parte B: Análise Preditiva e Probabilidades](#Parte-B:-Análise-Preditiva-e-Probabilidades)\n",
    "    * Prevendo o futuro: Probabilidade Clássica e Frequentista\n",
    "    * Prevendo o futuro: Modelos de Probabilidade, Uniforme e Curva Normal\n",
    "3. [Parte C: Inferência e Metodologia de Projetos](#Parte-C:-Inferência-e-Metodologia-de-Projetos)\n",
    "    * Como trabalhar com amostras de dados\n",
    "    * SQL para Análise de Dados - Nível 1\n",
    "    * Método CRISP-DM\n",
    "    * Calculando o Valor de um Projeto de Dados e Apresentando os Resultados"
   ]
  },
  {
   "cell_type": "markdown",
   "id": "d125ae5a",
   "metadata": {},
   "source": [
    "### **Parte A: Análise Exploratória de Dados (EDA)** \n",
    "[&#x1F53C;](#Sumário:) Clique para voltar para o sumário"
   ]
  },
  {
   "cell_type": "markdown",
   "id": "3990d656",
   "metadata": {},
   "source": [
    "### <u>Introdução ao Mundo dos Dados</u><br>\n",
    "##### A Revolução Industrial 4.0 já começou e você pode estar atrasado: <br>\n",
    "O futuro é da automação e inteligência artificial\n",
    "* 1° revolução industrial: Mecanização dos equipamentos\n",
    "* 2° revolução industrial: Eletricidade e Produção em Massa\n",
    "* 3° revolução industrial: Produção Flexível e Informática\n",
    "* 4° revolução industrial: \n",
    "    * Conectivadade\n",
    "    * Internet das Coisas (Iot)\n",
    "    * Big Data - Volume: Milhões de registros e armazenamento, Velocidade: Processamento em lote e Tempo real / próximo, Variedade: Estruturados e Não estruturado, Veracidade: Qualidade e Disponibilidade e Valor: Tem utilidade? e Por que armazenar?)\n",
    "    * Ciência de Dados e IA: Junção das técnicas analíticas, ferramentas computacionais e conhecimento de negócio de forma a otimizar o processo decisócio das empresas ou mesmo resolver problemas de qualquer espécie com o apoio dos dados.\n",
    "    \n",
    "<br>\n",
    "\n",
    "##### Quais as habilidades a serem desenvolvidas neste ano em diante: <br>\n",
    "* Flexibidade: Capacidade de se adaptar facilmente a cenários diferentes do habitual.\n",
    "* Metodologias ágeis: Nomes como MVP (produto mínimo viável), validação, Sprints, Cultura do fail Fast (Tentativa e erro) e Testes A/B fazem parte dessa cultura. (Nova forma como as equipes trabalham para entregar valor no menor tempo possível).\n",
    "* Inteligência emocional: Capacidade de colocar-se no lugar do outro (Empatia).\n",
    "* Capacidade de auto gestão: Capacidade de gerir o prórprio desempenho e produtividade.\n",
    "* Criatividade: Propor novas formas de solucionar problemas.\n",
    "* Comunicação: habilidade para se comunicar em diversos tipos de cenários, contextos e pessoas.\n",
    "* Life Long Learning (Formação contínua): Capacidade de aprender de forma contínua. \n",
    "* Empreendedorismo: Transformar ideias em produtos tangíveis. \n",
    "* Análise de dados e mentalidade analítica: Atrelado ao pensamento crítico\n",
    "\n",
    "<br>\n",
    "\n",
    "##### O que são os \"dados\" e qual o papel das técnicas e ferramentas nisso tudo? <br>\n",
    "* Dados brutos e não estruturados → Preparação dos dados (Configurar) → Dados estruturados\n",
    "    * Dados estruturados: Requer menos espaço de armazenamento, mostrados como linhas, colunas e em bancos relacionais, mais fácil de ser protegidos com regras de negócios, são números, datas e textos e corresponde a 20% dos dados das empresas.\n",
    "    * Dados não estruturados: Requer mais espaço de armazenamento, não são mostrados como tabelas, é mais difícil de ser protegidos com regras de negócios, são imagens, vídeos, áudios, redes sociais, reviwes de usuários e correspondem a 80% dos dados das empresas.\n",
    "* Dados → Ferramentas de dados → Técnicas e Metodologias de dados → Valor gerado pelos dados (Tomada de decisão)\n",
    "    * Técnicas e Metodologias: Respondem as perguntas de negócio (Quanto mais técnicas conhecer, mas perguntas vai responder e mais valor vai gerar)\n",
    "    * Ferramentas: Geram produtividade para responder as perguntas.\n",
    "\n",
    "<br>\n",
    "\n",
    "##### Análise de Dados: É uma maquina de solução de problemas <br>\n",
    "* Técnicas (Arsenal analítico): Matemática, Ténicas de otimização, Estatística descritiva, Probabilidades, Inferência (ex: teste de hipótese), Modelagem estatísticas, Machine learning,..\n",
    "    * Estatísticas e Probabilidades: Resumir uma base de dados e entender a relação entre as variáveis.\n",
    "    * Inferência estatística: Estimar valores através de amostras e testar hipotéses através de amostras.\n",
    "    * Machine learning e AI: Estimar valores de forma automática, classificar coisas de forma automática e gerar dados de forma automática.\n",
    "* Ferramentas: Planilhas e tipos de arquivos, Linguagem de programação, Banco de dados, Visualização de dados, Infra estrutura (DWs, Data Lakes), ETL / Pipelines de dados, etc.\n",
    "* Conhecimento de negócio: Entendimento dos processos internos, Alinhamento com os objetivos da empresa, Entrosamento com as partes interessadas, Análise de concorrência, etc.\n",
    "\n",
    "<br>\n",
    "\n",
    "##### Técnicas de Análise de Dados: Estatísticas e Probabilidades <br>\n",
    "* Estatística Descritiva: Conjunto de técnicas para resumir dados de todos os tipos e tamanhos. Utilizada sempre que quiser resumir uma ou mais colunas de dados para interpretar o comportamento (Análise unidimensional). Exemplos: Tabelas de frequência, Medidas de resumo (Média, Mediana, Quartis, Desvio Padrão etc) e Gráficos analíticos (Barras, linhas, Pareto, Histograma, Box-plots etc) \n",
    "* Análise de Associação: Conjunto de técnica para analisar o comportamento de duas variáveis. Utilizada sempre que quiser resumir simultaneamente duas colunas e interpretar o comportamento e associação entre elas (Análise bidimensional). Exemplos: Correlação de Pearson (Para dados lineares), Coeficiente de Determinação (R Quadrado), Information Value (IV) e Estudo de Causalidade.\n",
    "* Probabilidade: Conjunto de técnicas para prever o acontecimento de algum evento. Utilizada quando envolver projeções futuras de indicadores e eventos de interesse como inadimplência de clientes, Churn, TurnOver, Vendas, etc. Exemplos: Teoria frequentista, Modelos de Probabilidade (Uniforme, t-student, Normal etc) e Machine Learning.\n",
    "\n",
    "<br>\n",
    "\n",
    "##### Técnicas de Análise de Dados: Inferência estatística <br>\n",
    "* Estimação: Conjunto de técnicas para estimar valores de interesse através de amostra de dados. Utilizada sempre que não tiver acesso a base completa (população) do evento de interesse. Exemplos: Extração de amostras randomizadas e com o menor viés possível e estimação por intervalos de confiança (Cálculo do Tamanho da Amostra e Controle da Margem de Erro)\n",
    "* Testes de hipóteses: Técnica para se testar valores da população através de amostras de dados. Utilizada sempre que tiver uma hipótese sobre a população e quiser ter um suporte estatístico para a tomada de decisão. Exemplos: Experimentos (Grupo de controle e teste), Testes de hipóteses para médias e proporções, Testes de hipóteses para grupos (Teste A/B) e Análise do p-valor.\n",
    "\n",
    "<br>\n",
    "\n",
    "##### Técnicas de Análise de Dados: Machine Learning e AI <br>\n",
    "* Modelos Supervisionados: Conjunto de técnicas que estimam valores numéricos (regressores) ou classificam \"eventos\" de forma automática (classificadores) = Variáveis explicativas, onde é obrigado a ter uma variável resposta (target) mensurada. Utilizada sempre que precisa tomar uma decisão estatística de forma automatizada, via sistema, algoritmo, etc. Exemplos: Regressões, Árvore de decisão, Redes neurais artificiais, Modelos combinados (ensemble).\n",
    "* Modelos não supervisionados: Conjunto de técnicas buscam padrões nos dados sem depender de uma variável resposta (target) mensurada. Utilizada sempre que quise entender concentrações, dados fora de padrão (outliers) e realizar visualizações de dados complexas com multiplas variáveis. Exemplos: Clusterizações (Método k-means, DBScan), Detecções de anomalias, PCA (Componentes principais) e t-SNE.\n",
    "\n",
    "<br>\n",
    "\n",
    "##### Principais ferramentas para Análise de Dados <br>\n",
    "* Excel\n",
    "* SQL\n",
    "* Power BI\n",
    "* Python\n",
    "\n",
    "<br>\n",
    "\n",
    "##### Metodologia em Projetos de Dados <br>\n",
    "##### A metodologia CRISP-DM é praticada em 6 grandes passos.\n",
    "1. Entendimento do negócio: Objetivo, Premissas, Riscos envolvidos, Custos x Benefícios, Critérios de sucesso e Planejamento do projeto e início da documentação.\n",
    "2. Entendimento dos dados: Descrição dos dados, Coleta, Análise Exploratória e Verificação da qualidade dos dados (Sanity Check).\n",
    "3. Preparação dos dados: Seleção de variáveis, Limpeza dos dados e Formatação dos dados.\n",
    "4. Modelagem / Análise: Escolha da técnica estatística que responde o problema, Desenvolvimento do estudo analítico ou modelo e Finalização.\n",
    "5. Validação: Verificação dos critérios de sucesso, Validação do estudo / modelo, Aprovação pelo cliente do trabalho e Atualização do Roadmap.\n",
    "6. Deploy (Implantação): Plano de implantação, Monitoramento do modelo/KPI’s e Finalização da documentação.\n",
    "##### Antes de olhar um resultado de um trabalho, olhe como ele foi construído. Só assim é possível confiar no resultado. \n",
    "\n",
    "<br>\n",
    "\n",
    "##### Cultura Data-Driven <br>\n",
    "Uma empresa com uma Cultura Data-Driven utiliza os dados em todo processo decisório. A empresa trata os dados como um ATIVO estratégico (Não é um subproduto) e busca disseminar o acesso aos dados de forma ampla para todos os colaboradores. Este processo foca em capturar, limpar e armazenar dados relevantes. A empresa promove a experimentação e aprendizado constantes através dos dados.\n",
    "* Dados → Informações → Conhecimento → Insight → Sabedoria\n",
    "* Passos para implementação:\n",
    "    * 1 - Mudança de Mentalidade (Os dados são o centro do processo decisório)\n",
    "        * Dados coletados, organizados e validados devem ser utilizados para a tomada de decisão.\n",
    "        * Experiências passadas precisam cada vez mais estar acompanhadas de análise de dados\n",
    "    * 2 - Fornecimento de Dados (Utilização de um único repositório de dados que tenha uma documentação de qualidade - Tenha um processo de governança)\n",
    "        * Cultura de coleta (Falta de acesso ou inexistência de dados → Quais dados serão armazenados? Onde serão armazenados? Por qual período? Em qual formato?)\n",
    "        * Governança e qualidade (As empresas devem ter dados consistentes, documentação acessíveis com as informações do tratamento e das transformações dos dados e considerar a LGPD)\n",
    "    * 3 - Alfabetização de Dados (Os colaboradores precisam ser capazes de explorar os dados da empresa para resolver problemas de negócio)\n",
    "\n",
    "<br>\n",
    "\n",
    "##### Letramento de dados (Data Literacy) <br>\n",
    "A Gartner define “Alfabetização de Dados” como a habilidade para ler, escrever e comunicar os dados em seu devido contexto, incluindo um entendimento de fontes de dados e suas transformações, dos métodos e técnicas analíticas aplicadas, descrevendo assim as aplicações dessas técnicas no problema de negócio e como espera-se obter valor disso (resultado tangível e esperado).\n",
    "\n",
    "<br>\n",
    "\n",
    "##### As principais funções analíticas: <br>\n",
    "* Processo de Transformação dos Dados = Dados precisam ser organizados, limpos, padronizados para serem armazenados no repositório.\n",
    "* Decisões são tomadas = Desenvolvimento de análises exploratórias e Dashboards interativos.\n",
    "* Decisões automáticas são tomadas = Desenvolvimento de modelos estatísticos e de Machine Learning/AI.\n",
    "* Produtização da decisão = Construção de códigos que asseguram uma eficiente implantação dos produtos de dados anteriores.\n",
    "\n",
    "* Dados Brutos → Processo de Transformação dos Dados → Data Lake (repositório) \n",
    "    * Data Lake (repositório) →  Decisões são tomadas →  Analytics e Dashboards →  Produtização da decisão → Produção/Deploy → Valor Tangível que os dados podem entregar\n",
    "    * Data Lake (repositório) →  Decisões automáticas são tomadas → Machine Learning e AI → Produtização da decisão → Produção/Deploy → Valor Tangível que os dados podem entregar\n",
    "\n",
    "<br>\n",
    "\n",
    "##### Profissionais dos dados: <br>\n",
    "* Arquiteto de Dados\n",
    "    * Dados Brutos → Processo de Transformação dos Dados → Data Lake (repositório)\n",
    "    * Planeja como o dado será armazenado, seu fluxo de tratamento e segurança.\n",
    "* Engenheiro de Dados\n",
    "    * Dados Brutos → Processo de Transformação dos Dados → Data Lake (repositório)\n",
    "    * Constrói fluxos de extração de dados brutos, com seus respectivos tratamentos e cargas em repositórios de dados.\n",
    "* Analista de Dados\n",
    "    * Data Lake (repositório) →  Decisões são tomadas →  Analytics e Dashboards\n",
    "    * Desenvolve análises exploratórias e Dashboards interativos\n",
    "* Cientista de Dados\n",
    "    * Data Lake (repositório) →  Decisões automáticas são tomadas → Machine Learning e AI \n",
    "    * Desenvolve modelos estatísticos e de Machine Learning/AI\n",
    "* Engenheiro de Analytics ou Machine Learning\n",
    "    * Analytics e Dashboards →  Produtização da decisão → Produção/Deploy → Valor Tangível que os dados podem entregar\n",
    "    * Machine Learning e AI → Produtização da decisão → Produção/Deploy → Valor Tangível que os dados podem entregar\n",
    "    * Constrói códigos que asseguram uma eficiente implantação dos produtos de dados anteriores"
   ]
  },
  {
   "cell_type": "markdown",
   "id": "883bb0e0",
   "metadata": {},
   "source": [
    "### <u>Microsoft Excel para analytics:</u><br>"
   ]
  },
  {
   "cell_type": "markdown",
   "id": "054699b6",
   "metadata": {},
   "source": [
    "### <u>Como resumir e interpretar dados:</u><br>"
   ]
  },
  {
   "cell_type": "markdown",
   "id": "d3507280",
   "metadata": {},
   "source": [
    "### <u>Análise de Correlação e Associação:</u><br>"
   ]
  },
  {
   "cell_type": "markdown",
   "id": "b33f648a",
   "metadata": {},
   "source": [
    "### **Parte B: Análise Preditiva e Probabilidades** \n",
    "[&#x1F53C;](#Sumário:) Clique para voltar para o sumário"
   ]
  },
  {
   "cell_type": "markdown",
   "id": "881c87f5",
   "metadata": {},
   "source": [
    "### <u>Prevendo o futuro: Probabilidade Clássica e Frequentista</u><br>"
   ]
  },
  {
   "cell_type": "markdown",
   "id": "b311eb7f",
   "metadata": {},
   "source": [
    "### <u>Prevendo o futuro: Modelos de Probabilidade, Uniforme e Curva Normal</u><br>"
   ]
  },
  {
   "cell_type": "markdown",
   "id": "20dc1ff7",
   "metadata": {},
   "source": [
    "### **Parte C: Inferência e Metodologia de Projetos** \n",
    "[&#x1F53C;](#Sumário:) Clique para voltar para o sumário"
   ]
  },
  {
   "cell_type": "markdown",
   "id": "7cbc6b0d",
   "metadata": {},
   "source": [
    "### <u>Como trabalhar com amostras de dados</u><br>"
   ]
  },
  {
   "cell_type": "markdown",
   "id": "32df67d4",
   "metadata": {},
   "source": [
    "### <u>SQL para Análise de Dados - Nível 1</u><br>"
   ]
  },
  {
   "cell_type": "markdown",
   "id": "5422e270",
   "metadata": {},
   "source": [
    "### <u>Método CRISP-DM</u><br>"
   ]
  },
  {
   "cell_type": "markdown",
   "id": "83eae9ed",
   "metadata": {},
   "source": [
    "### <u>Calculando o Valor de um Projeto de Dados e Apresentando os Resultados</u><br>"
   ]
  }
 ],
 "metadata": {
  "kernelspec": {
   "display_name": "Python 3 (ipykernel)",
   "language": "python",
   "name": "python3"
  },
  "language_info": {
   "codemirror_mode": {
    "name": "ipython",
    "version": 3
   },
   "file_extension": ".py",
   "mimetype": "text/x-python",
   "name": "python",
   "nbconvert_exporter": "python",
   "pygments_lexer": "ipython3",
   "version": "3.9.16"
  }
 },
 "nbformat": 4,
 "nbformat_minor": 5
}
