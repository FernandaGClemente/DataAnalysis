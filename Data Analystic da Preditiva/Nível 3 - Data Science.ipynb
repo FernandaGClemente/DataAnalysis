{
 "cells": [
  {
   "cell_type": "markdown",
   "id": "517ca1c1",
   "metadata": {},
   "source": [
    "<center><img width=\"25%\" src=\"https://www.camaramirimdoce.sc.gov.br/media/noticia/resumo-da-sessao-10-06-2019-111.png?w=848&h=450&t=P&c=f0f0f0&q=80&v=2\"></center>\n",
    "\n",
    "---\n",
    "\n",
    "<br>\n",
    "\n",
    "# Nível 3 - Data Science\n",
    "\n",
    "<br>"
   ]
  },
  {
   "cell_type": "markdown",
   "id": "832a3744",
   "metadata": {},
   "source": [
    "# **Sumário:**\n",
    "1. [Parte A: Fundamentos](#Parte-A:-Fundamentos)\n",
    "    * Tópicos de Data Science\n",
    "    * Nivelamento em Matemática para Data Science\n",
    "    * Python para Análise de Dados\n",
    "    * Preparação de Dados no Python\n",
    "2. [Parte B: Métodos Supervisionados](#Parte-B:-Métodos-Supervisionados)\n",
    "    * Regressão Linear Múltipla no Python\n",
    "    * Regressão Logística\n",
    "    * Diagnóstico e Interpretação de Modelos\n",
    "    * Redes Neurais Artificiais no Python\n",
    "    * Árvores de Decisão\n",
    "    * Ensemble de Modelos no Python\n",
    "3. [Parte C: Métodos Não-Supervisionados](#Parte-C:-Métodos-Não-Supervisionados)\n",
    "    * Clusterização\n",
    "    * Redução de Dimensionalidade\n",
    "    * Detecção de Outliers (anomalias)\n",
    "    * Otimização de Modelos\n",
    "4. [Parte D: Deep Learning e Inteligência Artificial](#Parte-D:-Deep-Learning-e-Inteligência-Artificial)\n",
    "    * Processamento de Linguagem Natural (NLP)\n",
    "    * Visão Computacional (Computer Vision)"
   ]
  },
  {
   "cell_type": "markdown",
   "id": "61442857",
   "metadata": {},
   "source": [
    "### **Parte A: Fundamentos** \n",
    "[&#x1F53C;](#Sumário:) Clique para voltar para o sumário"
   ]
  },
  {
   "cell_type": "markdown",
   "id": "815960da",
   "metadata": {},
   "source": [
    "### **Parte B: Métodos Supervisionados** \n",
    "[&#x1F53C;](#Sumário:) Clique para voltar para o sumário"
   ]
  },
  {
   "cell_type": "markdown",
   "id": "fbc4755f",
   "metadata": {},
   "source": [
    "### **Parte C: Métodos Não Supervisionados** \n",
    "[&#x1F53C;](#Sumário:) Clique para voltar para o sumário"
   ]
  },
  {
   "cell_type": "markdown",
   "id": "57416028",
   "metadata": {},
   "source": [
    "### **Parte D: Deep Learning e Inteligência Artificial** \n",
    "[&#x1F53C;](#Sumário:) Clique para voltar para o sumário"
   ]
  }
 ],
 "metadata": {
  "kernelspec": {
   "display_name": "Python 3 (ipykernel)",
   "language": "python",
   "name": "python3"
  },
  "language_info": {
   "codemirror_mode": {
    "name": "ipython",
    "version": 3
   },
   "file_extension": ".py",
   "mimetype": "text/x-python",
   "name": "python",
   "nbconvert_exporter": "python",
   "pygments_lexer": "ipython3",
   "version": "3.9.16"
  }
 },
 "nbformat": 4,
 "nbformat_minor": 5
}
