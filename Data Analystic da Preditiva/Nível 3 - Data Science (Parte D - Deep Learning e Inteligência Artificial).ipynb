{
 "cells": [
  {
   "cell_type": "markdown",
   "id": "c5c5c128",
   "metadata": {},
   "source": [
    "<center><img width=\"25%\" src=\"https://www.camaramirimdoce.sc.gov.br/media/noticia/resumo-da-sessao-10-06-2019-111.png?w=848&h=450&t=P&c=f0f0f0&q=80&v=2\"></center>\n",
    "\n",
    "---\n",
    "\n",
    "<br>\n",
    "\n",
    "# Nível 3 - Data Science: Parte D - Deep Learning e Inteligência Artificial\n",
    "\n",
    "<br>"
   ]
  },
  {
   "cell_type": "markdown",
   "id": "71bea6e3",
   "metadata": {},
   "source": [
    "# **Sumário:**\n",
    "1. [Processamento de Linguagem Natural](#Processamento-de-Linguagem-Natural)\n",
    "2. [Visão Computacional](#Visão-Computacional)"
   ]
  },
  {
   "cell_type": "markdown",
   "id": "b0601dd9",
   "metadata": {},
   "source": [
    "### **Processamento de Linguagem Natural** \n",
    "[&#x1F53C;](#Sumário:) Clique para voltar para o sumário"
   ]
  },
  {
   "cell_type": "markdown",
   "id": "372a5c5e",
   "metadata": {},
   "source": [
    "### **Visão Computacional** \n",
    "[&#x1F53C;](#Sumário:) Clique para voltar para o sumário"
   ]
  }
 ],
 "metadata": {
  "kernelspec": {
   "display_name": "Python 3 (ipykernel)",
   "language": "python",
   "name": "python3"
  },
  "language_info": {
   "codemirror_mode": {
    "name": "ipython",
    "version": 3
   },
   "file_extension": ".py",
   "mimetype": "text/x-python",
   "name": "python",
   "nbconvert_exporter": "python",
   "pygments_lexer": "ipython3",
   "version": "3.9.16"
  }
 },
 "nbformat": 4,
 "nbformat_minor": 5
}
