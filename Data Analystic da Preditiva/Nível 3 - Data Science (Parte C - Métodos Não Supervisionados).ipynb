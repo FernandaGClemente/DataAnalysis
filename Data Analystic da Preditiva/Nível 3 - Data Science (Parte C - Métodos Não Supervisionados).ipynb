{
 "cells": [
  {
   "cell_type": "markdown",
   "id": "0de00236",
   "metadata": {},
   "source": [
    "<center><img width=\"25%\" src=\"https://www.camaramirimdoce.sc.gov.br/media/noticia/resumo-da-sessao-10-06-2019-111.png?w=848&h=450&t=P&c=f0f0f0&q=80&v=2\"></center>\n",
    "\n",
    "---\n",
    "\n",
    "<br>\n",
    "\n",
    "# Nível 3 - Data Science: Parte C - Métodos Não Supervisionados\n",
    "\n",
    "<br>"
   ]
  },
  {
   "cell_type": "markdown",
   "id": "091f252d",
   "metadata": {},
   "source": [
    "# **Sumário:**\n",
    "1. [Clusterização](#Clusterização)\n",
    "2. [Redução de Dimensionalidade](#Redução-de-Dimensionalidade)\n",
    "3. [Detecção de Outliers](#Detecção-de-Outliers)\n",
    "4. [Otimização de Modelos](#Otimização-de-Modelos)"
   ]
  },
  {
   "cell_type": "markdown",
   "id": "784aa5c4",
   "metadata": {},
   "source": [
    "### **Clusterização** \n",
    "[&#x1F53C;](#Sumário:) Clique para voltar para o sumário"
   ]
  },
  {
   "cell_type": "markdown",
   "id": "faa9c7a4",
   "metadata": {},
   "source": [
    "### **Redução de Dimensionalidade** \n",
    "[&#x1F53C;](#Sumário:) Clique para voltar para o sumário"
   ]
  },
  {
   "cell_type": "markdown",
   "id": "aa008060",
   "metadata": {},
   "source": [
    "### **Detecção de Outliers** \n",
    "[&#x1F53C;](#Sumário:) Clique para voltar para o sumário"
   ]
  },
  {
   "cell_type": "markdown",
   "id": "0d996d4f",
   "metadata": {},
   "source": [
    "### **Otimização de Modelos** \n",
    "[&#x1F53C;](#Sumário:) Clique para voltar para o sumário"
   ]
  }
 ],
 "metadata": {
  "kernelspec": {
   "display_name": "Python 3 (ipykernel)",
   "language": "python",
   "name": "python3"
  },
  "language_info": {
   "codemirror_mode": {
    "name": "ipython",
    "version": 3
   },
   "file_extension": ".py",
   "mimetype": "text/x-python",
   "name": "python",
   "nbconvert_exporter": "python",
   "pygments_lexer": "ipython3",
   "version": "3.9.16"
  }
 },
 "nbformat": 4,
 "nbformat_minor": 5
}
