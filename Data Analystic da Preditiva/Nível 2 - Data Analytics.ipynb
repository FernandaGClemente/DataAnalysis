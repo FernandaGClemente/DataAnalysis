{
 "cells": [
  {
   "cell_type": "markdown",
   "id": "7dd8ef2a",
   "metadata": {},
   "source": [
    "<center><img width=\"25%\" src=\"https://www.camaramirimdoce.sc.gov.br/media/noticia/resumo-da-sessao-10-06-2019-111.png?w=848&h=450&t=P&c=f0f0f0&q=80&v=2\"></center>\n",
    "\n",
    "---\n",
    "\n",
    "<br>\n",
    "\n",
    "# Nível 2 - Data Analytics\n",
    "\n",
    "<br>"
   ]
  },
  {
   "cell_type": "markdown",
   "id": "52852123",
   "metadata": {},
   "source": [
    "# **Sumário:**\n",
    "1. [Testes A/B (Testes de Hipóteses)](#Testes-A/B-(Testes-de-Hipóteses))\n",
    "2. [Regressão Linear Múltipla](#Regressão-Linear-Múltipla)\n",
    "3. [SQL para Análise de Dados - Nível 2](#SQL-para-Análise-de-Dados:-Nível-2)\n",
    "4. [Power BI para Análise de Dados](#Power-BI-para-Análise-de-Dados)"
   ]
  },
  {
   "cell_type": "markdown",
   "id": "31a678de",
   "metadata": {},
   "source": [
    "### **Testes A/B (Testes de Hipóteses)** \n",
    "[&#x1F53C;](#Sumário:) Clique para voltar para o sumário"
   ]
  },
  {
   "cell_type": "markdown",
   "id": "3ef038ce",
   "metadata": {},
   "source": [
    "### **Regressão Linear Múltipla** \n",
    "[&#x1F53C;](#Sumário:) Clique para voltar para o sumário"
   ]
  },
  {
   "cell_type": "markdown",
   "id": "aa66723c",
   "metadata": {},
   "source": [
    "### **SQL para Análise de Dados: Nível 2** \n",
    "[&#x1F53C;](#Sumário:) Clique para voltar para o sumário"
   ]
  },
  {
   "cell_type": "markdown",
   "id": "384a0de7",
   "metadata": {},
   "source": [
    "### **Power BI para Análise de Dados** \n",
    "[&#x1F53C;](#Sumário:) Clique para voltar para o sumário"
   ]
  }
 ],
 "metadata": {
  "kernelspec": {
   "display_name": "Python 3 (ipykernel)",
   "language": "python",
   "name": "python3"
  },
  "language_info": {
   "codemirror_mode": {
    "name": "ipython",
    "version": 3
   },
   "file_extension": ".py",
   "mimetype": "text/x-python",
   "name": "python",
   "nbconvert_exporter": "python",
   "pygments_lexer": "ipython3",
   "version": "3.9.16"
  }
 },
 "nbformat": 4,
 "nbformat_minor": 5
}
