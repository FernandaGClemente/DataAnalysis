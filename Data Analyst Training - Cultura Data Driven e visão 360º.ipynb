{
 "cells": [
  {
   "cell_type": "markdown",
   "id": "790ccfa9",
   "metadata": {},
   "source": [
    "<center><img width=\"25%\" src=\"https://www.camaramirimdoce.sc.gov.br/media/noticia/resumo-da-sessao-10-06-2019-111.png?w=848&h=450&t=P&c=f0f0f0&q=80&v=2\"></center>\n",
    "\n",
    "---\n",
    "\n",
    "<br>\n",
    "\n",
    "# Data Analyst Training - Culrura Data Driven e visão 360º\n",
    "\n",
    "<br>"
   ]
  },
  {
   "cell_type": "markdown",
   "id": "f2cee186",
   "metadata": {},
   "source": [
    "# **<u>Sumário:</u>**\n",
    "1. [Cultura orientada a dados](#Cultura-orientada-a-dados)\n",
    "    * Introdução\n",
    "    * Conceito\n",
    "    * Big Data\n",
    "    * Benefícios\n",
    "    * Principais entraves\n",
    "    * Desafios\n",
    "    * Boas práticas\n",
    "    * Boas práticas\n",
    "    * Como usar as informações de forma estratégica\n",
    "2. [Visão 360 graus](#Visão-360-graus)\n",
    "    * Introdução\n",
    "    * Conceito\n",
    "    * Organização\n",
    "    * Planejamento\n",
    "    * Gestão\n",
    "    * Controle\n",
    "    * Vantagens \n",
    "        * Potencialização de processos e integração de setores\n",
    "        * Planejamento fundamentado\n",
    "        * Efeitos no relacionamento com o cliente\n",
    "    * Contribuição da tecnologia"
   ]
  },
  {
   "cell_type": "markdown",
   "id": "c25675ad",
   "metadata": {},
   "source": [
    "# Cultura orientada a dados\n",
    "[&#x1F53C;](#Sumário:) Clique para voltar para o sumário"
   ]
  },
  {
   "cell_type": "markdown",
   "id": "779bae66",
   "metadata": {},
   "source": [
    "### Introdução <br>\n",
    "#### Com a facilidade de acesso as informações no mundo digital, o gestor tem muito mais recursos para analisar a performance do seu negócio e planejar o futuro. Se antigamente essa coleta de dados sequer existia ou era feita de forma empírica e com base no feeling dos empreendedores, hoje esse processo evoluiu em um nível que é possível ter tudo em tempo real na palma da mão. Eliminadas as limitações de tecnologia, velocidade e até mesmo geográficas, temos um cenário extremamente promissor para as empresas que se derem conta de algo fundamental: Informação é a chave para o sucesso do negócio. <br>\n",
    "#### Mas o que fazer com esse mar de dados? Eles permitem uma análise muito mais sofisticada sobre diversos aspectos da gestão da empresa e são fundamentais para alimentar diversos indicadores. O maior desafio é fazer com que a data drive culture não seja apenas uma preocupação dos gestores, mas algo respirado por toda a organização."
   ]
  },
  {
   "cell_type": "markdown",
   "id": "e453867a",
   "metadata": {},
   "source": [
    "### Conceito <br>\n",
    "#### É aquela em que as decisões da organização são baseadas em informações, dados e estatísticas. Significa dizer que a cada dia a intuição vem dando lugar as ações apoiadas por números que apontem o caminho mais promissor. Atualmente, as resoluções dentro das empresas, não necessáriamente são aceitas por todos, porém, é imprescindível que elas sejam justificadas, de preferência, com informações confiáveis. Quando falamos de cultura organizacional, não podemos esquecer que se trata de um processo que nunca acontecerá do dia para a noite dentro da organizações. É preciso que ele seja estimulado pelos gestores. Apenas quando os profissionais entenderem a importância desse tipo de postura e incorporam isso em sua rotina é que a empresa poderá contar com os benefícios desse tipo de conduta."
   ]
  },
  {
   "cell_type": "markdown",
   "id": "af1dce3f",
   "metadata": {},
   "source": [
    "### Big Data <br>\n",
    "#### O que importa é a qualidade da informação e o que as empresas fazem com esses dados.\n",
    "#### O grande volume de dados da empresa pode ser usado para compreender melhor o negócio, melhorar o desempenho da organização, tomar decisões com embasamento, fazer previsões de cenários com base nos comportamentos passados, personalizar a relação com os clientes, entre outros benefícios que detalharemos melhor a seguir. "
   ]
  },
  {
   "cell_type": "markdown",
   "id": "308f66f1",
   "metadata": {},
   "source": [
    "### Benefícios <br>\n",
    "#### Passa a ter um posicionamento muito mais proativo do que reativo (Modelo de viver apagando incêndio para dedicar um tempo precioso no planejamento de ações estretégicas)\n",
    "* Inovação em áreas principais: Criação de novos modelos de negócios, descoberta de novas ofertas de produtos e monetização de dados a empresas externas. O uso dos dados por essas empresas de forma analítica permitiu a geração de insights para promover constante inovação.\n",
    "* Retorno de investimento (ROI): Desempenho financeiro\n",
    "* Competitividade: Os dados podem ser usados para decisões mais acertadas, gestão de riscos, redução de custos, aumento de receitas e melhores experiências com os clientes, o que acaba refletindo-se em uma maior competitividade das empresas.\n",
    "* Planejamento: Trabalhando com uma relação de causa e efeito é muito mais fácil ter sucesso no planejamento das próximas ações. \n",
    "* Conheça melhor sua empresa: Conhecer todos os processos do negócio, dos níveis operacionais, técnicos e estratégicos, olhar bem mais amplo do negócio, abrindo a possibilidade para revisar processos e eliminar erros. \n",
    "* Cotrole de receitas e despesas: Analisar dados financeiros e contábeis, despesas, receitas, fluxos de caixa, balancete, etc, traz uma visão muito mais completa sobre o desempenho financeiro da empresa para administrar esses recusros.\n",
    "* Indicadores de performance: É possível criar indicadores determinantes para o negócio, como o desempenho dos colaboradores, crescimento da empresa, melhorias em processos internos, entre outros."
   ]
  },
  {
   "cell_type": "markdown",
   "id": "bde5078d",
   "metadata": {},
   "source": [
    "### Principais entraves <br>\n",
    "#### Velhos modelos vão apenas sendo reproduzidos, sem questionamento e com nenhum ou pouco espaço para a inovação e adoção de novas práticas. isso reflete-se totalmente na resistência de muitas empresas a trabalharem com os dados de forma mais estretégicas. \n",
    "* Toda a empresa deve estar envolvida = Uso da análise dados é a abrnagência. Precisa estimular essa integração entre os departamentos.\n",
    "* Aversão aos números = É um dos motivos pelos quais muitas empresas ainda não conseguem extrair todos os benefícios que o uso e análise de métricas pode trazer para o negócio. \n",
    "* Questões culturais = Precisa ser construída dia a dia pelas pessoas que fazem parte da organização. Depois de traçar ações para os profissionais entendam a importância da mudança é primordial num processo de evolução e amadurecimento com objetivos muitos claros e alinhados aos objetivos estratégicos de negócio.\n",
    "* Dá muito trabalho = É dificil fazer uma empresa mais conservadora mudar seus hábitos. Quando essas mudanças de hábitos envolve processos organizacionais, estamos falando de medidas extremamente trabalhosas. Recompensar o uso dos dados e estimular a experimentação e criatividade por meio dessas análises também aparecem como grandes desafios culturais.\n",
    "* Ameaça = Sentem-se ameaçados com o uso dessas informações para a tomada de decisão. O feeling para o negócio estão sendo colocados a prova pelos números. Na gestão das empresas, o radicalismo não deve tomar o lugar de decisões equilibradas e do bom senso. Por isso, os dados não devem ser analisados de forma fria ou desconsiderando o contexto e a própria vivência dos profissionais dentro do negócio. Os dados não são a única pespectiva possível."
   ]
  },
  {
   "cell_type": "markdown",
   "id": "e479b21c",
   "metadata": {},
   "source": [
    "### Desafios <br>\n",
    "#### Poder da equipe = As organizaçõies que estão mais na vanguarda desse processo são aquelas que integram a cultura de dados em suas operações diárias, sendo colocados no centro de suas decisões que podem sempre ser questionadas, desde que isso seja apoiado em informação. É preciso contar com uma equipe com competências no gerenciamento de informação e capacidade analítica. Além disso, é fundamental capacitar o time para a seleção e análise das métricas corretas. <br>\n",
    "#### Democratização das informações = É a necessidade de democratizar as informações. Não deixem esses elementos apenas nas mãos dos especialistas e procurem treinar profissionais de diferentes níveis para a coleta e utilização das informações. "
   ]
  },
  {
   "cell_type": "markdown",
   "id": "9d4a3c5a",
   "metadata": {},
   "source": [
    "### Boas práticas <br>\n",
    "#### Como lidar com o não = Pode parecer chato, \"sempre fizemos assim\", etc. por isso, é tão importante manter a comunicação muito clara em realçao a importancia dessa mudança para o sucesso da empresa e consequentemente, os seus profissionais. <br>\n",
    "#### Não deixe para depois = Quanto mais tempo demorar para iniciar essa mudança, mas tarde as pessoas irão se habituar. Outra dica é deixar claro que não é apenas uma decisão e outra que deve ter um olhar mais rígido para os números, todas elas precisam ser direcionadas para esse ponto. <br>\n",
    "#### Selecione as métricas principais = Procure selecionar um grupo de métricas que realmente sejam importantes para o negócio, como receita anual, taxa de crescimento de vendas, custo de aquisição dos clientes etc.<br>\n",
    "#### Promova a transferência = Permita que os colaboradores tenham acesso a números de desempenho. A tendência é que eles percebam que seus esforços estão contribuindo para que a empresa chegue aos objetivos. <br>\n",
    "#### Não exagere na análise = Muitas empresas acabam se concentrando demais na análise das informações e ficam sem tomar uma decisão. <br>\n",
    "#### Democratize os dados = A ideia é que tudo seja levado a um nível mais simples e acessível para as pessoas que precisarem, ter contato com essas informações. As empresas líderes já compreenderam que ser bem sucedidas tem a ver também com permitir que as pessoas possam trabalhar com dados de forma fácil. <br>\n",
    "\n",
    "* Matriz BCG = Estágio de desenvolvimento (Introdução, crescimento, maturidade e declínio)"
   ]
  },
  {
   "cell_type": "markdown",
   "id": "3fe6a783",
   "metadata": {},
   "source": [
    "### Escolhas das ferramentas certas <br>\n",
    "#### As ferramentas contam com muito mais recursos para fazer as análises para ajudar a gestão do desempenho empresarial. Dessa forma, consegue ter acesso as informações em tempo real e em um nível de análise de detalhe que antes nem era imaginado. O desafio de coletar e analisar tudo. <br>\n",
    "#### A maior revolução organizacional acontecerá quando todas as decisões tomadas pela gestão não sejam feitas  fundamentadas em suspeitas ou palpites, mas que as informações coletadas virem.\n",
    "* Interface e usabilidade = Todas as funções devem estar acessíveis para o usuário, para que ele não tenha que perder muito tempo procurando. Tenha uma interface fácil e amigável.\n",
    "* Performance = Ofereça todas as funcionalidades necessárias. A ferramenta é rápida e eficiente na gestão dos dados e disponibiliza eles de forma concisa e confiável.\n",
    "* Histórico = Histórico de atendimento a sua área de negácio seja confiável.\n",
    "* Integração = A gestão fica mais fácil quando todas as informações estão centralizadas, mais tranquilas de administrar e manter contato com um só fornecedor.\n",
    "* Custo = É preciso considerar o treinamento da equipe, licenças e customização.\n",
    "* Experimente = Testar pensando na aplicação na rotina da empresa.\n",
    "* Coleta dos dados = Precisa ter uma capacidade robusta de coleta e análise de dados.\n",
    "* Classificação das informações = É preciso que a ferramenta organize as informações de forma intuitiva e customizável, de acordo com as necessidades da empresa."
   ]
  },
  {
   "cell_type": "markdown",
   "id": "e81b6139",
   "metadata": {},
   "source": [
    "### Como usar as informações de forma estratégica <br>\n",
    "#### É usar os dados de forma estratégica gerando valor para a empresa. É preciso entende-los para extrair o melhor dos dados, os insights, como: \n",
    "* Leve em conta o histórico: Faça uma análise da performance da empresa considerando a sua atuação em anos anteriores e os fatores que levaram a esses resultados. \n",
    "* Escolha as métricas certas: O segredo está na identificação de indicadores chaves essenciais para cada departamento e na transformações deles em itens importantes para todo o negócio.\n",
    "* Mire no futuro: As análises preditivas usam dados passados para tentar prever alguma predisposição de algo acontecer no futuro. Assim, com base nos resultados anteriores é possivel tomar decisões diferentes para o futuro. \n",
    "#### Insumo para medidas muito mais conscientes e assertivas. "
   ]
  },
  {
   "cell_type": "markdown",
   "id": "7ae6add8",
   "metadata": {},
   "source": [
    "# Visão 360 graus\n",
    "[&#x1F53C;](#Sumário:) Clique para voltar para o sumário"
   ]
  },
  {
   "cell_type": "markdown",
   "id": "fcecfc95",
   "metadata": {},
   "source": [
    "### Introdução <br>\n",
    "#### Conhecimento é poder. Essa é uma das grandes verdades do mundo corporativo, mas não está relacionada apenas aos currículos dos profissionais; e, sim, sobre ter uma visão 360 graus de todos os dados da operação da sua empresa, para uma tomada de decisão cirurgicamente eficiente.<br>\n",
    "#### Imagine investir sua força total, em um novo mercado, sem saber que o estoque, da principal matéria-prima do negócio, não comportaria o aumento repentino da demanda? E se, junto com esse contraponto, ainda houvessem outros fatores que poderiam comprometer a ação, como questões tributárias não resolvidas ou falta de funcionário capacitado? <br>\n",
    "#### A questão é que as estratégias e ações tomadas em um negócio nunca afetam somente um setor ou produto, mas toda a organização; e ter uma visão geral dessas conexões e do desempenho de cada uma delas, permite que o gestor tome decisões que, em vez de desequilibrar suas áreas, tornam suas conexões mais fortes e produtivas. <br>\n",
    "#### Quer entender melhor como a visão 360 graus funcionam nessa engrenagem? "
   ]
  },
  {
   "cell_type": "markdown",
   "id": "32ab8a01",
   "metadata": {},
   "source": [
    "### Conceito <br>\n",
    "#### Um giro completo, permite que uma pessoa visualize tudo que está a sua volta. Na empresa, a visão 360 graus é exatamente isso, ter ciência plena de tudo o que acontece, em seus diversos níveis organizacionais. Para conseguir executar essa ação, existem quatro pontos fundamentais para a administração."
   ]
  },
  {
   "cell_type": "markdown",
   "id": "a2088d7c",
   "metadata": {},
   "source": [
    "### Organização <br>\n",
    "#### A gestão é contínua, mas, para que ela tenha sucesso, precisa de uma organização detalhada em processos e conexões. Aqui, vale dizer, novamente, que conhecimento é poder. No compartilhamento de dados entre setores, por exemplo, quanto mais eficiente é sua organização, melhores são os resultados e a sintonia entre eles. Uma boa organização, na atualidade, deve ser fundamentada em um fluxo de trabalho — ou em um processo, desburocratizado, que conecte todas as áreas envolvidas e permita a análise global e individual de cada setor."
   ]
  },
  {
   "cell_type": "markdown",
   "id": "a8d58796",
   "metadata": {},
   "source": [
    "### Planejamento <br>\n",
    "#### Com a base estabelecida, o próximo passo – e um dos mais fundamentais para a visão 360 graus da empresa – é o planejamento. Nele, a determinação de objetivos irá ditar quais as melhores estratégias, a serem executadas na operação da empresa. Assim, considerando suas metas, o gestor e sua equipe determinam quais seus parâmetros de sucesso; ou melhor, seus indicadores de performances, que servirão de orientação para a direção das ações."
   ]
  },
  {
   "cell_type": "markdown",
   "id": "a93aca10",
   "metadata": {},
   "source": [
    "### Gestão <br>\n",
    "#### Determinando o direcionamento dos setores, para que o planejamento seja executado, o gestor precisará não somente dos dados de seus sistemas, mas também de sua liderança para engajar e colocar sua equipe focada nos objetivos determinados. A direção também envolve:\n",
    "* a delegação de responsabilidades;\n",
    "* estipulação de planos de metas individuais;\n",
    "* feedback da equipe;\n",
    "* e, principalmente, a capacidade de analisar todo o panorama de resultados e acontecimentos, para que tais ações sejam executadas, de acordo com as necessidades da empresa."
   ]
  },
  {
   "cell_type": "markdown",
   "id": "26968b75",
   "metadata": {},
   "source": [
    "### Controle <br>\n",
    "#### O controle deve ser pontual, em todas as etapas do negócio e considerando, sempre, os indicadores de sucesso e os resultados. Se eles estiverem aquém do estipulado, medidas corretivas precisam ser tomadas. Para isso, é necessário ter o embasamento de análises fiéis ao desempenho da empresa, pois, somente assim, as decisões realmente poderão corrigir a rota determinada no planejamento. Aplicando esses fundamentos, em um estilo de gestão e com as ferramentas certas, é possível ter um ciclo intermitente de boas tomadas de decisão, direcionamentos e ajustes pontuais; e, por fim, controle e apuração de resultados. Ou seja, essa visão sistêmica garante, à empresa, uma análise, interna e externa, bem minuciosas; melhor compreensão do mercado; estímulo do trabalho em equipe; e reconhecimento da contribuição de todos, para os resultados do negócio. <br>\n",
    "#### Uma solução gerencial, que traz como um de seus benefícios para a gestão o engajamento e melhoria do clima organizacional, merece atenção, não é mesmo? Então, vejamos suas outras contribuições."
   ]
  },
  {
   "cell_type": "markdown",
   "id": "63c6e2e7",
   "metadata": {},
   "source": [
    "### Vantagens <br>\n",
    "#### A integração dos setores, sem dúvidas, permite que seus colaboradores enxerguem as influências positivas dos demais colegas e funcionários do setor. Para o gestor, isso significa um clima organizacional mais produtivo e até mesmo inovador; afinal de contas, ideias que integram dois ou mais setores, no intuito de melhorar seus processos, podem trazer bons resultados para o negócio."
   ]
  },
  {
   "cell_type": "markdown",
   "id": "a92a73a4",
   "metadata": {},
   "source": [
    "### Potencialização de processos e integração de setores <br>\n",
    "#### Com uma visão 360 graus, também é possível enxergar gargalos nos processos, elementos que podem estar comprometendo os resultados da empresa e o impacto de cada área no sucesso do negócio. <br>\n",
    "#### Voltando ao exemplo da introdução, a visão sistêmica do negócio permite que a empresa avalie, antes das tomadas de decisão, quais serão os efeitos em cada setor e, então, antecipadamente, criar resoluções que garantam que a ação possa ser concretizada, com o máximo de eficiência. Assim, para entrar no novo mercado, a empresa pode, antes, aguardar o treinamento da equipe, pedir à área de compras para buscar novos fornecedores e, ainda, envolver os demais setores que precisariam atuar nessa nova estratégia, de maneira integrada. Ou seja, as áreas de marketing, comercial, operacional, estoque, logística, infraestrutura, TI e todos os demais relacionados e responsáveis poderiam atuar e ter conhecimento do andamento dos projetos, seus indicadores e resultados."
   ]
  },
  {
   "cell_type": "markdown",
   "id": "93879c4b",
   "metadata": {},
   "source": [
    "### Planejamento fundamentado <br>\n",
    "#### A visão 360 graus é uma ferramenta que permita seu controle e análise de resultados, garantem que os planejamentos sejam fundamentados em dados reais da operação. Então, em vez de criar metas inatingíveis ou ações impossíveis de serem executadas, o gestor pode planejar da forma correta, considerando os custos para as finanças da empresa e a disponibilidade de seus recursos humanos e materiais."
   ]
  },
  {
   "cell_type": "markdown",
   "id": "566f8fce",
   "metadata": {},
   "source": [
    "### Efeitos no relacionamento com o cliente <br>\n",
    "#### A visão 360 graus também trazem importantes efeitos no relacionamento com o seu cliente, pois, quanto mais se sabe sobre suas necessidades e seu comportamento, maiores são as chances de oferecer um atendimento realmente personalizado. Como um dos pilares da visão sistêmica é a integração de setores e informações, tanto a área de apoio, quanto a de relacionamento direto com o cliente, podem se beneficiar da troca de dados. <br>\n",
    "#### Isso garante, entre outros benefícios, a potencialização de processos internos, que afetam o atendimento do cliente; a redução de custos, que permite uma melhor gestão de preços; e o completo entendimento das necessidades do comprador, que por vezes, permitirá que a empresa antecipe suas demandas e ofereça soluções que os surpreendam positivamente."
   ]
  },
  {
   "cell_type": "markdown",
   "id": "09763181",
   "metadata": {},
   "source": [
    "### Contribuição da tecnologia <br>\n",
    "#### Se conhecimento é poder, um sistema que ga o levantamento de dados e integração real dos setores e demais ferramentas de gestão é primordial. Nesse sentido, um ERP é uma das principais bases para a realização desse projeto. Com ele, é possível realmente promover uma integração de setores e dados; e usar seus relatórios de análises para compreender as reações a cada tomada de decisão. <br>\n",
    "#### O mundo corporativo está cada vez mais tecnológico, garantindo, assim, que processos burocráticos e etapas de baixa complexidade sejam executadas de forma automatizada. <br>\n",
    "#### A visão 360 é valorizada por muitos gestores na administração de seus negócios, mas ela precisa ser vivenciada integralmente, o que nem todos os sistemas permitem. Além disso, é preciso sempre analisar as informações e saber como utilizá-las nas tomadas de decisão. <br>"
   ]
  }
 ],
 "metadata": {
  "kernelspec": {
   "display_name": "Python 3 (ipykernel)",
   "language": "python",
   "name": "python3"
  },
  "language_info": {
   "codemirror_mode": {
    "name": "ipython",
    "version": 3
   },
   "file_extension": ".py",
   "mimetype": "text/x-python",
   "name": "python",
   "nbconvert_exporter": "python",
   "pygments_lexer": "ipython3",
   "version": "3.9.16"
  }
 },
 "nbformat": 4,
 "nbformat_minor": 5
}
