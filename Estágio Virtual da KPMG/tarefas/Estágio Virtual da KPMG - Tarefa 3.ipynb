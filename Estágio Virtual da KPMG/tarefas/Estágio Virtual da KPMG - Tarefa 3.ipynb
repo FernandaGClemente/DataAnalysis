{
 "cells": [
  {
   "cell_type": "markdown",
   "id": "bae32733",
   "metadata": {},
   "source": [
    "<center><img width=\"25%\" src=\"https://www.camaramirimdoce.sc.gov.br/media/noticia/resumo-da-sessao-10-06-2019-111.png?w=848&h=450&t=P&c=f0f0f0&q=80&v=2\"></center>\n",
    "\n",
    "---\n",
    "\n",
    "<br>\n",
    "\n",
    "# Estágio Virtual da KPMG\n",
    "\n",
    "<br>\n",
    "\n",
    "> Link: https://www.theforage.com/virtual-internships/theme/m7W4GMqeT3bh9Nb2c/KPMG-Data-Analytics-Virtual-Internship"
   ]
  },
  {
   "cell_type": "markdown",
   "id": "130c9ab1",
   "metadata": {},
   "source": [
    "## Tarefa 3: Usando visualizações para apresentar insights"
   ]
  },
  {
   "cell_type": "markdown",
   "id": "9abc6c44",
   "metadata": {},
   "source": [
    "### Obtenha instruções para sua tarefa: <br>\n",
    "Agora que o cliente aprovou nosso plano de análise, precisamos começar a construir o modelo e apresentar nossas descobertas ao cliente. Visualizações, como painéis interativos, geralmente nos ajudam a destacar as principais descobertas e transmitir nossas ideias. Uma lista de clientes ou algoritmos não funcionará com o cliente. Precisamos apoiar nossos resultados com o uso de visualizações e garantir que essas visualizações respondam às principais perguntas que o cliente está solicitando. Anexei links para dois softwares chamados Power Bi e Tableau, que usamos para desenvolver esses painéis. Esses softwares são gratuitos ou contêm testes gratuitos, e é crucial que você os use para concluir essa tarefa. Um lembrete gentil para manter essas guias e o painel em torno de duas ou três, para destacar as principais mensagens que deseja entregar ao cliente."
   ]
  },
  {
   "cell_type": "markdown",
   "id": "cfabcb1f",
   "metadata": {},
   "source": [
    "### Aqui estão as informações básicas sobre sua tarefa: <br>\n",
    "O cliente está satisfeito com o plano de análise e gostaria que continuássemos. Depois de construir o modelo, precisamos apresentar nossos resultados de volta ao cliente. \n",
    "\n",
    "<br>\n",
    "\n",
    "Visualizações como painéis interativos geralmente nos ajudam a destacar as principais descobertas e transmitir nossas ideias de maneira mais sucinta. Uma lista de clientes ou algoritmo não vai funcionar com o cliente, precisamos apoiar nossos resultados com o uso de visualizações. "
   ]
  },
  {
   "cell_type": "markdown",
   "id": "c798ae83",
   "metadata": {},
   "source": [
    "### Aqui está sua tarefa: <br>\n",
    "Por favor, desenvolva um painel que possamos apresentar ao cliente em nossa próxima reunião. Exiba seu resumo de dados e resultados da análise em um painel (consulte ferramentas/referências para obter assistência). Máximo de 3 visualizações/guias do painel, criatividade no layout e na apresentação é bem-vinda. \n",
    "\n",
    "<br>\n",
    "\n",
    "Como este não é um produto da marca KPMG, anexamos um logotipo do cliente para incorporação.\n",
    "<img width=\"30%\" src=\"Logo Sprocket Central.png\">\n",
    "<br>\n",
    "\n",
    "É importante ter em mente o contexto do negócio ao apresentar suas descobertas:\n",
    "* 1. Quais são as tendências nos dados subjacentes?\n",
    "* 2. Qual segmento de cliente tem o maior valor para o cliente?\n",
    "* 3. O que você propõe deveria ser a estratégia de marketing e crescimento da Sprocket Central Pty Ltd?\n",
    "* 4. Quais conjuntos de dados externos adicionais podem ser úteis para obter maiores percepções sobre as preferências do cliente e propensão a comprar os produtos?\n",
    "\n",
    "<br>\n",
    "\n",
    "Especificamente, sua apresentação deve especificar quem a equipe de marketing da Sprocket Central Pty Ltd deve ter como alvo na nova lista de 1.000 clientes, bem como o segmento de mercado mais amplo a ser alcançado."
   ]
  },
  {
   "cell_type": "markdown",
   "id": "e8a42f91",
   "metadata": {},
   "source": [
    "### Recursos para ajudá-lo na tarefa: <br>\n",
    "> https://www.tableau.com/ <br>\n",
    "> https://powerbi.microsoft.com/en-us/"
   ]
  },
  {
   "cell_type": "markdown",
   "id": "27b1684c",
   "metadata": {},
   "source": [
    "<img width=\"60%\" src=\"Dashboard Marketing.png\">"
   ]
  },
  {
   "cell_type": "markdown",
   "id": "b61110a7",
   "metadata": {},
   "source": [
    "### Análises: <br>\n",
    "#### 5 estratégias de marketing para ser utilizado pela loja para despertar o interesse do público feminino, com idade entre 40 e 49 anos, do segmento de patrimônio Mass Customer, do estado de New South Wales, dos condados de Richmond, Campbelltown e Penrith e que trabalham nos setores de Manufatura, Serviços Financeiros e Saúde.\n",
    "* 1. Campanha de mídia social direcionada: crie uma campanha de mídia social projetada especificamente para envolver o público feminino de 40 a 49 anos em New South Wales. Utilize plataformas como Facebook e Instagram para mostrar as bicicletas e acessórios da loja, destacando seus recursos e benefícios que atraem esse público. Incorpore visuais envolventes, depoimentos e conteúdo de estilo de vida para mostrar como o ciclismo pode melhorar sua saúde, condicionamento físico e bem-estar geral.\n",
    "* 2. Colabore com grupos locais de mulheres: faça parceria com grupos ou organizações locais de ciclismo feminino nos condados de Richmond, Campbelltown e Penrith. Ofereça descontos exclusivos, promoções ou organize eventos conjuntos, como passeios em grupo ou workshops. Esta colaboração irá não só atrair o público-alvo, mas também criar um sentimento de comunidade e pertença, fomentando ainda mais o seu interesse pelo ciclismo e pelos produtos da loja.\n",
    "* 3. Marketing de influenciadores: Identifique figuras femininas influentes nos setores de Manufatura, Serviços Financeiros e Saúde que tenham uma forte presença online ou seguidores nas redes sociais. Colabore com esses influenciadores para promover as bicicletas e acessórios da loja por meio de postagens patrocinadas, análises de produtos ou brindes. Seu endosso e experiências pessoais com os produtos repercutirão no público-alvo, aumentando seu interesse pela loja.\n",
    "* 4. Marketing por e-mail personalizado: implemente uma campanha de marketing por e-mail direcionada que se concentre na personalização e customização. Segmente a lista de e-mail com base nos critérios especificados, incluindo idade, localização e setor. Adapte o conteúdo do e-mail para destacar os produtos que se alinham com os interesses e preferências do segmento de clientes de massa, como bicicletas específicas para mulheres, acessórios confortáveis ou equipamentos de bicicleta adequados para vários terrenos. Ofereça promoções ou descontos exclusivos para incentivar as compras.\n",
    "* 5. Eventos e workshops locais: Organize ou patrocine eventos e workshops locais com foco em ciclismo feminino, saúde e bem-estar. Colabore com instrutores de fitness, nutricionistas ou especialistas em saúde para oferecer sessões informativas que destacam os benefícios do ciclismo para mulheres na faixa dos 40 e 50 anos. Durante esses eventos, mostre as bicicletas e acessórios da loja, faça demonstrações e ofereça descontos ou brindes. Essa abordagem prática envolverá diretamente o público-alvo e criará oportunidades para que eles interajam com a marca."
   ]
  },
  {
   "cell_type": "markdown",
   "id": "99cb50d2",
   "metadata": {},
   "source": [
    "### Conclusões e interpretações do público-alvo: <br>\n",
    "* 1. Perfil demográfico: Seu público-alvo é composto por mulheres na faixa dos 40 anos, uma fase da vida em que podem ter mais renda disponível e desejam priorizar sua saúde e bem-estar. Provavelmente estarão bem estabelecidas em suas carreiras e terão meios para investir em atividades recreativas e produtos como bicicletas e acessórios.\n",
    "* 2. Foco geográfico: Concentrar-se nos condados de Richmond, Campbelltown e Penrith permite que atinja um mercado local específico. Isso sugere que pode capitalizar a proximidade de sua loja a essas áreas e se envolver com clientes em potencial por meio de esforços de marketing localizados.\n",
    "* 3. Relevância do Setor: Ao focar nos setores de Manufatura, Serviços Financeiros e Saúde, pode alinhar suas estratégias de marketing com os interesses e necessidades de seu público-alvo. Por exemplo, enfatizar os benefícios do ciclismo para a saúde, promover o alívio do estresse por meio de atividades ao ar livre ou fornecer opções de pagamento flexíveis que atendam às suas circunstâncias financeiras.\n",
    "* 4. Oportunidades de personalização: com um público-alvo mais restrito, tem a oportunidade de adaptar suas mensagens de marketing, ofertas de produtos e experiências do cliente para atender especificamente às preferências e estilos de vida das mulheres nessa faixa etária. A personalização pode ajudá-lo a construir conexões mais fortes e promover a lealdade entre seus clientes-alvo.\n",
    "* 5. Influências potenciais: considerando a demografia e os setores de trabalho do público-alvo, pode ser benéfico explorar parcerias ou colaborações com influenciadores locais, líderes comunitários ou organizações nesses setores. Aproveitar a influência e credibilidade pode ajudá-lo a alcançar um público mais amplo dentro de seu público-alvo."
   ]
  },
  {
   "cell_type": "markdown",
   "id": "a5eff855",
   "metadata": {},
   "source": [
    "## Ações para estruturar o negócio com base no público alvo: <br>\n",
    "#### 1. Seleção e Variedade de Produtos:\n",
    "* Pesquise e selecione uma variedade de bicicletas e acessórios que atraem mulheres de 40 a 49 anos, considerando suas preferências específicas, requisitos de conforto e necessidades de estilo de vida.\n",
    "* Inclua uma variedade de bicicletas específicas para mulheres, como bicicletas híbridas, bicicletas de estrada ou bicicletas elétricas, com recursos como quadros passo a passo, componentes ajustáveis e designs ergonômicos.\n",
    "* Oferecer uma ampla variedade de acessórios e equipamentos adaptados ao público-alvo, incluindo selins confortáveis, capacetes elegantes, roupas de ciclismo e soluções práticas de armazenamento.\n",
    "#### 2. Layout da loja e visual merchandising:\n",
    "* Projetar um layout de loja acolhedor e visualmente atraente que reflita as preferências e a estética do público-alvo. Use cores quentes, iluminação adequada e exibições atraentes para criar uma atmosfera convidativa.\n",
    "* Agrupar produtos relacionados e criar seções dedicadas para bicicletas e acessórios específicos para mulheres para facilitar a localização do que os clientes procuram.\n",
    "* Incorpore imagens de estilo de vida e dicas visuais que ressoam com mulheres na faixa dos 40 anos, destacando os benefícios para a saúde, a alegria e o empoderamento do ciclismo.\n",
    "#### 3. Atendimento ao Cliente e Treinamento de Pessoal:\n",
    "* Treine a equipe da loja para entender e atender às necessidades e preocupações específicas do público-alvo. Forneça treinamento de conhecimento do produto para garantir que eles possam orientar os clientes em relação às opções adequadas e oferecer consultoria especializada.\n",
    "* Promova um ambiente amigável e de apoio, onde a equipe possa se envolver em conversas significativas com os clientes, responder suas perguntas e fornece recomendações personalizadas.\n",
    "* Capacite a equipe para oferecer passeios de teste, explicar os recursos do produto e ajudar no ajuste adequado da bicicleta para aprimorar a experiência geral do cliente.\n",
    "#### 4. Marketing e Comunicação:\n",
    "* Desenvolva materiais de marketing, incluindo conteúdo de site, postagens de mídia social e campanhas de e-mail, que falem diretamente com os interesses, aspirações e pontos problemáticos do público-alvo.\n",
    "* Utilizar diversos canais para atingir o público-alvo, como plataformas de mídia social, publicações locais e parcerias com organizações ou influenciadores relevantes.\n",
    "* Destaque depoimentos, histórias de sucesso ou estudos de caso com mulheres do público-alvo que se beneficiaram do ciclismo, mostrando o impacto positivo que teve em suas vidas.\n",
    "#### 5. Envolvimento e eventos da comunidade:\n",
    "* Organizar e participar de eventos comunitários, workshops ou passeios de caridade com foco no ciclismo e bem-estar feminino. Isso permite que você se conecte com o público-alvo em um nível pessoal e demonstre seu compromisso com os interesses dele.\n",
    "* Colaborar com grupos locais de mulheres, academias ou centros de bem-estar para oferecer promoções conjuntas, oportunidades de marketing cruzado ou eventos de palestrantes convidados relacionados à saúde, condicionamento físico e ciclismo.\n",
    "* Forneça recursos educacionais, como postagens em blogs ou tutoriais em vídeo, que abordem preocupações comuns ou perguntas específicas para mulheres na faixa etária alvo."
   ]
  }
 ],
 "metadata": {
  "kernelspec": {
   "display_name": "Python 3 (ipykernel)",
   "language": "python",
   "name": "python3"
  },
  "language_info": {
   "codemirror_mode": {
    "name": "ipython",
    "version": 3
   },
   "file_extension": ".py",
   "mimetype": "text/x-python",
   "name": "python",
   "nbconvert_exporter": "python",
   "pygments_lexer": "ipython3",
   "version": "3.9.16"
  }
 },
 "nbformat": 4,
 "nbformat_minor": 5
}
