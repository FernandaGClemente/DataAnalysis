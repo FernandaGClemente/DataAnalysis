{
 "cells": [
  {
   "cell_type": "markdown",
   "id": "67c140c8",
   "metadata": {},
   "source": [
    "<center><img width=\"25%\" src=\"https://www.camaramirimdoce.sc.gov.br/media/noticia/resumo-da-sessao-10-06-2019-111.png?w=848&h=450&t=P&c=f0f0f0&q=80&v=2\"></center>\n",
    "\n",
    "---\n",
    "\n",
    "<br>\n",
    "\n",
    "# Biblioteca Scikit Learn\n",
    "\n",
    "<br>"
   ]
  },
  {
   "cell_type": "code",
   "execution_count": 1,
   "id": "28944b77",
   "metadata": {},
   "outputs": [],
   "source": [
    "import numpy as np\n",
    "import random\n",
    "\n",
    "from scipy.special import expit as signoid\n",
    "from scipy.spatial.distance import cdist\n",
    "from scipy.linalg import svd"
   ]
  },
  {
   "cell_type": "code",
   "execution_count": 4,
   "id": "d1eaf57f",
   "metadata": {},
   "outputs": [
    {
     "ename": "SyntaxError",
     "evalue": "invalid syntax (3698247677.py, line 3)",
     "output_type": "error",
     "traceback": [
      "\u001b[1;36m  Input \u001b[1;32mIn [4]\u001b[1;36m\u001b[0m\n\u001b[1;33m    return e_x / np.sum(e_x, axis=-1, keepdims=True)\u001b[0m\n\u001b[1;37m    ^\u001b[0m\n\u001b[1;31mSyntaxError\u001b[0m\u001b[1;31m:\u001b[0m invalid syntax\n"
     ]
    }
   ],
   "source": [
    "def softmax(x):\n",
    "    e_x = np.exp(x - np.max(x, axi=-1, keepdims=True)\n",
    "    return e_x / np.sum(e_x, axis=-1, keepdims=True)\n",
    "\n",
    "                 \n",
    "class LinearRegression:\n",
    "                 \n",
    "    def fit(self, X, y):\n",
    "        self.w = np.linalg.lstsq(X, y, rcond=None)[0]\n",
    "                 \n",
    "    def predict(self, X):\n",
    "        return X.dot(self.w)\n",
    "\n",
    "class LogisticRegression:\n",
    "                 \n",
    "    def fit(self, X, y, n_iter=4000, lr=0.01):\n",
    "    self.w = np.randon.rand(X.shape[1])\n",
    "    for _ in range(n_iter):\n",
    "    self.w -= lr * (self.predict(X) - y).dot(X)\n",
    "\n",
    "    def predict(self, X):\n",
    "        return signoid(X.dot(self.w))\n",
    "\n",
    "class KN:\n",
    "    def predict(self, k, Xt, X, y):\n",
    "        idx = np.argsort(cdist(Xt, X))[:, :k]\n",
    "        y_pred = [np.bincount(y[il).argmax() for i in idx]\n",
    "        return y_pred\n",
    "                              \n",
    "class PCA:\n",
    "    def transforn(self, X, dim):\n",
    "        _, S, V = np.linalg.svd(X - X.mean(0), full_matrices=True)\n",
    "        idx = S.argsort()[::-1][:diM]\n",
    "        return X.dot(V[idx].T)\n",
    "\n",
    "class Kheans:\n",
    "    def fit(self, X, k, n_iter=200):\n",
    "        centers = randon.sample(List(x), K)\n",
    "        for _ in range(n_iter):\n",
    "            clusters = np.argmin(cdist(X, centers), axis=1)\n",
    "            centers = np.array([X[clusters == c].nean(0) for c in clusters])\n",
    "        return clusters"
   ]
  },
  {
   "cell_type": "code",
   "execution_count": null,
   "id": "ee4f7e7f",
   "metadata": {},
   "outputs": [],
   "source": []
  }
 ],
 "metadata": {
  "kernelspec": {
   "display_name": "Python 3 (ipykernel)",
   "language": "python",
   "name": "python3"
  },
  "language_info": {
   "codemirror_mode": {
    "name": "ipython",
    "version": 3
   },
   "file_extension": ".py",
   "mimetype": "text/x-python",
   "name": "python",
   "nbconvert_exporter": "python",
   "pygments_lexer": "ipython3",
   "version": "3.9.16"
  }
 },
 "nbformat": 4,
 "nbformat_minor": 5
}
