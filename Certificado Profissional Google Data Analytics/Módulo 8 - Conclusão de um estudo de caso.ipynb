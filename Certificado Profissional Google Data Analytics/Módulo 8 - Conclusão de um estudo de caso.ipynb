{
 "cells": [
  {
   "cell_type": "markdown",
   "id": "72a03f1a",
   "metadata": {},
   "source": [
    "<center><img width=\"25%\" src=\"https://www.camaramirimdoce.sc.gov.br/media/noticia/resumo-da-sessao-10-06-2019-111.png?w=848&h=450&t=P&c=f0f0f0&q=80&v=2\"></center>\n",
    "\n",
    "---\n",
    "\n",
    "<br>\n",
    "\n",
    "# Módulo 8: Conclusão de um estudo de caso \n",
    "\n",
    "<br>"
   ]
  },
  {
   "cell_type": "markdown",
   "id": "885ca3cf",
   "metadata": {},
   "source": [
    "### Apresentando o projeto final <br>\n",
    "#### Os estudos de caso são projetos práticos de análise de dados. Quando você está procurando emprego, você pode ser solicitado a fazer um estudo de caso depois a chamada de pré-seleção ou a primeira entrevista. O estudo de caso é uma forma comum de empregadores avaliam competências profissionais e obtenha informações sobre como você abordar desafios comuns relacionados com dados. Diferentes empregadores podem enviar-lhe diferentes tipos de estudos de caso. Por exemplo: \n",
    "* limpar e analisar um conjunto de dados.\n",
    "* oferecer uma proposta sobre como medir o sucesso de um projeto.\n",
    "* descobrir e definir métricas de sucesso para um produto específico.\n",
    "* um potencial empregador pode dar alguns dados de amostra e perguntas do projeto e pedir que você crie uma apresentação ou memorando com suas recomendações em 24 a 48 horas.\n",
    "\n",
    "<br>\n",
    "\n",
    "#### Um portfólio é uma coleção de estudos de caso que podem ser compartilhados com potenciais empregadores. Os portfólios podem ser armazenados em sites públicos como GitHub, Kaggle, ou Tableau, ou em seu blog. Isso lhe dará exemplos de como você abordou tarefas de dados no passa do que você pode falar em sua entrevista. Esses portfólios mostram suas habilidades e ajudá-lo a se destacar em formulários de emprego. <br>\n",
    "#### O que incluir no seu portfólio <br>\n",
    "* Biografia : O foco principal do seu portfólio é apresentar-se de forma forte e memorável. Escreva uma introdução concisa e clara sobre você. O objetivo é captar o interesse do seu público e fazê-lo querer conhecê-lo para saber mais. \n",
    "* Página de contato : certifique-se de incluir uma forma de outras pessoas entrarem em contato com você, seja por e-mail, telefone (se você se sentir confortável) ou redes sociais (especialmente LinkedIn). Você pode descobrir que seu site tem seu próprio formulário de contato integrado se usar construtores de sites comuns. \n",
    "* Resumo : Em leituras anteriores, \"Adicionando habilidades profissionais ao seu currículo\" e \"Adicionando Soft Skills ao seu currículo\", aprendeu como elaborar um currículo que reflita suas habilidades e sua experiência. Certifique-se de incluir um currículo em algum lugar do seu portfólio.\n",
    "    * 1. Habilidades de apresentação\n",
    "    * 2. Colaboração \n",
    "    * 3. Comunicação\n",
    "    * 4. Pesquisa \n",
    "    * 5. Habilidades de resolução de problemas \n",
    "    * 6. Adaptabilidade \n",
    "    * 7. Atenção aos detalhes \n",
    "    * Adicionando Soft Skills ao seu currículo: 1. Linguagem de consulta estruturada (SQL)\n",
    "    * Adicionando Soft Skills ao seu currículo: 2. Planilhas\n",
    "    * Adicionando Soft Skills ao seu currículo: 3. Ferramentas de visualização de dados\n",
    "    * Adicionando Soft Skills ao seu currículo: 4. Programação R ou Python\n",
    "* Realizações : Você não está limitado apenas às suas experiências passadas. Todos os destaques atuais dignos de carreira que você possa imaginar devem ser incluídos. Podem ser quaisquer certificações que você obteve, eventos de análise de dados dos quais participou ou até mesmo postagens de blog que publicou.\n",
    "\n",
    "<br>\n",
    "\n",
    "#### O que incluir em um estudo de caso <br>\n",
    "#### Nesta entrevista, você conhecerá um cenário de negócios onde analisará um problema e encontrará a melhor solução. Você terá um certo tempo para resolver isso, então é melhor estar preparado para qualquer cenário que lhe for apresentado. Um ótimo estudo de caso incluirá o seguinte:\n",
    "* Introdução: Certifique-se de indicar o propósito do estudo de caso. Isto inclui qual é o cenário e uma explicação sobre como ele se relaciona com um obstáculo do mundo real. Sinta-se à vontade para anotar quaisquer suposições ou teorias que você possa ter, dependendo das informações fornecidas. \n",
    "* Problemas: Você precisa identificar quais são os principais problemas, explicar como você analisou o problema e apresentar quaisquer fatos que você esteja usando para apoiar suas descobertas.\n",
    "* Soluções: Descreva uma solução que aliviaria o problema e tenha algumas alternativas em mente para mostrar que você pensou bastante no estudo de caso. Não se esqueça de incluir prós e contras de cada solução.\n",
    "* Conclusão: termine sua apresentação resumindo os principais pontos de todas as soluções de problemas que você conduziu, destacando o que você aprendeu com isso.\n",
    "* Próximos passos: Escolher a melhor solução e propor recomendações a serem seguidas pelo cliente ou empresa. Explique por que você fez sua escolha e como isso afetará o cenário de forma positiva. Seja específico e inclua o que precisa ser feito, quem deve aplicá-lo e quando."
   ]
  },
  {
   "cell_type": "markdown",
   "id": "6baf3623",
   "metadata": {},
   "source": [
    "#### Ao começar, avalie seus objetivos e expectativas para o resultado final. Considerar:\n",
    "* O que você espera tirar deste projeto fundamental? Qual é uma habilidade importante que você acha que aprenderá?\n",
    "* Quais habilidades você mais deseja demonstrar?\n",
    "* Quais são alguns problemas que você pode encontrar?\n",
    "#### Ao final deste curso, revise suas respostas e observe como sua compreensão dos projetos de análise de dados mudou. O que você aprendeu? Como você usará as lições aprendidas em projetos futuros de análise de dados?    \n",
    "\n",
    "Próximos passos\n",
    "* Selecionando e desenvolvendo um estudo de caso\n",
    "* Criando seu portfólio on-line\n",
    "* Atualizando seu perfil do LinkedIn\n",
    "* Praticando seu discurso de estudo de caso"
   ]
  },
  {
   "cell_type": "markdown",
   "id": "7c7e4bab",
   "metadata": {},
   "source": [
    "### Introdução à construção do seu portfólio: <br>\n",
    "#### Ao concluir seu projeto final, você praticará:\n",
    "* Passando pelas fases Perguntar, Preparar, Processar, Analisar e Compartilhar do processo de análise de dados\n",
    "* Declarando claramente uma tarefa de negócios\n",
    "* Importando dados de um conjunto de dados real\n",
    "* Documentar qualquer limpeza de dados realizada no conjunto de dados\n",
    "* Analisando os dados \n",
    "* Criando visualizações de dados a partir de sua análise\n",
    "* Resumindo as principais conclusões da sua análise\n",
    "* Documentando suas conclusões e recomendações\n",
    "* Criando e publicando seu estudo de caso \n",
    "\n",
    "#### Próximas etapas, escolhendo sua trilha:\n",
    "* Faixa 1: trabalhando com questões e conjuntos de dados existentes\n",
    "    * Estudo de caso: Análise do compartilhamento de bicicletas ciclísticas \n",
    "    * Estudo de caso: análise do produto Bellabeat\n",
    "* Faixa 2: escolhendo suas próprias perguntas e conjunto de dados\n",
    "\n",
    "<br>\n",
    "\n",
    "* GitHub: \n",
    "> Criando uma conta: https://docs.github.com/en/get-started/quickstart/creating-an-account-on-github\n",
    "> 8 etapas para publicar seu portfólio no GitHub: https://medium.com/@brianmwevi/8-steps-to-publish-your-portfolio-on-github-9d6e6e3d2e84\n",
    "\n",
    "* Kaggle:\n",
    "> Quando, por que e como - começar a usar o Kaggle? https://www.kaggle.com/discussions/questions-and-answers/122858\n",
    "> Publicando seu primeiro conjunto de dados no Kaggle: https://medium.com/analytics-vidhya/publishing-your-first-dataset-on-kaggle-6be8c37e59e8\n",
    "\n",
    "* Medium:\n",
    "> Faça login ou inscreva-se no Medium: https://help.medium.com/hc/en-us/articles/115004915268-Sign-in-or-sign-up-to-Medium\n",
    "> Primeiros passos com uma publicação Medium: https://help.medium.com/hc/en-us/articles/115004681607-Getting-started-with-a-Medium-publication\n",
    "\n",
    "* WordPress:\n",
    "> Crie sua conta: https://wordpress.com/start/user\n",
    "> Guia rápido: https://wordpress.com/learn/courses/getting-started/quick-start-guide/\n",
    "\n",
    "Sites do Google:\n",
    "> Como usar o Google Sites: https://support.google.com/sites/answer/6372878?hl=en&ref_topic=7184580\n",
    "> Publique e compartilhe seu site: https://support.google.com/sites/answer/6372880\n",
    "> Use um domínio personalizado para seu site: https://support.google.com/sites/answer/9068867"
   ]
  },
  {
   "cell_type": "markdown",
   "id": "d75c097f",
   "metadata": {},
   "source": [
    "### Estudo de caso: Análise do compartilhamento de bicicletas ciclísticas: <br>\n",
    "#### Esta é uma oportunidade para analisar dados históricos de viagens de bicicleta, a fim de identificar tendências. É importante compreender como os passageiros casuais se comportam de maneira diferente dos passageiros com assinaturas pagas. Esta análise ajudará os executivos a tomar decisões sobre programas e estratégias de marketing para converter passageiros casuais em passageiros com assinaturas anuais. <br>\n",
    "\n",
    "#### Neste estudo de caso, você realizará análise de dados para uma empresa fictícia de compartilhamento de bicicletas para ajudá-la a atrair mais usuários. Ao longo do caminho, você executará inúmeras tarefas do mundo real de um analista de dados júnior, seguindo as etapas do processo de análise de dados: perguntar , preparar , processar , analisar , compartilhar e agir . Quando terminar, você terá um estudo de caso pronto para ajudá-lo a demonstrar seus conhecimentos e habilidades a potenciais empregadores!<br>\n",
    "\n",
    "### Estudo de caso: análise do produto Bellabeat<br>\n",
    "#### Esta é uma oportunidade para analisar dados de rastreadores de fitness disponíveis publicamente, a fim de obter insights sobre como os consumidores estão usando esses produtos. Identificar quaisquer tendências nestes dados será fundamental. Isto ajudará a Bellabeat, um fabricante de alta tecnologia de produtos voltados para a saúde para mulheres, a determinar a estratégia de marketing no futuro.<br>\n",
    "\n",
    "#### Neste estudo de caso, você realizará análise de dados para a Bellabeat, um fabricante de alta tecnologia de produtos voltados para a saúde feminina. Você analisará dados de dispositivos inteligentes para obter informações sobre como os consumidores estão usando seus dispositivos inteligentes. Sua análise ajudará a orientar futuras estratégias de marketing para sua equipe. Ao longo do caminho, você executará inúmeras tarefas do mundo real de um analista de dados júnior, seguindo as etapas do processo de análise de dados: perguntar , preparar , processar , analisar , compartilhar e agir . Quando terminar, você terá um estudo de caso pronto para ajudá-lo a demonstrar seus conhecimentos e habilidades a potenciais empregadores!<br>\n",
    "\n",
    "Estudo de caso 3: Siga seu próprio caminho de estudo de caso\n",
    "Interessado em traçar seu próprio caminho? Este estudo de caso oferece a oportunidade de escolher uma questão comercial de seu interesse especial. Você precisará encontrar seu próprio conjunto de dados, criar a tarefa de negócios, decidir quem será seu público e muito mais. Ao longo do caminho, você executará inúmeras tarefas do mundo real de um analista de dados júnior, seguindo as etapas do processo de análise de dados: perguntar , preparar , processar , analisar , compartilhar e agir . Quando terminar, você terá um estudo de caso pronto para ajudá-lo a demonstrar seus conhecimentos e habilidades a potenciais empregadores!"
   ]
  },
  {
   "cell_type": "markdown",
   "id": "eea34f28",
   "metadata": {},
   "source": [
    "Para as seis perguntas a seguir, considere seu relatório detalhado de estudo de caso e as etapas do processo de análise de dados que você seguiu ao criá-lo: perguntar, preparar, processar, analisar, compartilhar e agir."
   ]
  }
 ],
 "metadata": {
  "kernelspec": {
   "display_name": "Python 3 (ipykernel)",
   "language": "python",
   "name": "python3"
  },
  "language_info": {
   "codemirror_mode": {
    "name": "ipython",
    "version": 3
   },
   "file_extension": ".py",
   "mimetype": "text/x-python",
   "name": "python",
   "nbconvert_exporter": "python",
   "pygments_lexer": "ipython3",
   "version": "3.9.16"
  }
 },
 "nbformat": 4,
 "nbformat_minor": 5
}
