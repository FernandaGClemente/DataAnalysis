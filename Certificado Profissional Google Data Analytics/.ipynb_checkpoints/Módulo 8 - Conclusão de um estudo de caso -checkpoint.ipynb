{
 "cells": [
  {
   "cell_type": "markdown",
   "id": "72a03f1a",
   "metadata": {},
   "source": [
    "<center><img width=\"25%\" src=\"https://www.camaramirimdoce.sc.gov.br/media/noticia/resumo-da-sessao-10-06-2019-111.png?w=848&h=450&t=P&c=f0f0f0&q=80&v=2\"></center>\n",
    "\n",
    "---\n",
    "\n",
    "<br>\n",
    "\n",
    "# Módulo 8: Conclusão de um estudo de caso \n",
    "\n",
    "<br>"
   ]
  },
  {
   "cell_type": "markdown",
   "id": "0b50a303",
   "metadata": {},
   "source": [
    "### O que você aprenderá:\n",
    "* Como um portfólio de análise de dados o distingue de outros candidatos\n",
    "* Solução prática de problemas do mundo real\n",
    "* Estratégias para extrair insights de dados\n",
    "* Apresentação clara das descobertas dos dados\n",
    "* Motivação e capacidade de iniciativa\n",
    "### Conjuntos de habilidades que você construirá:\n",
    "* Construindo um portfólio\n",
    "* Aumentando sua empregabilidade\n",
    "* Apresentando seu conhecimento, habilidade e experiência técnica em análise de dados\n",
    "* Compartilhando seu trabalho durante uma entrevista\n",
    "* Comunicar sua proposta de valor exclusiva a um empregador em potencial"
   ]
  }
 ],
 "metadata": {
  "kernelspec": {
   "display_name": "Python 3 (ipykernel)",
   "language": "python",
   "name": "python3"
  },
  "language_info": {
   "codemirror_mode": {
    "name": "ipython",
    "version": 3
   },
   "file_extension": ".py",
   "mimetype": "text/x-python",
   "name": "python",
   "nbconvert_exporter": "python",
   "pygments_lexer": "ipython3",
   "version": "3.9.16"
  }
 },
 "nbformat": 4,
 "nbformat_minor": 5
}
