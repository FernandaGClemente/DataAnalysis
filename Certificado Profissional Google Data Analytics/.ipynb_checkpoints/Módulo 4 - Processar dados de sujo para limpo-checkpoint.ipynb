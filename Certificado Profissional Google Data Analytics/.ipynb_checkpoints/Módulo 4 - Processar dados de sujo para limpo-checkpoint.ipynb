{
 "cells": [
  {
   "cell_type": "markdown",
   "id": "6c02563c",
   "metadata": {},
   "source": [
    "<center><img width=\"25%\" src=\"https://www.camaramirimdoce.sc.gov.br/media/noticia/resumo-da-sessao-10-06-2019-111.png?w=848&h=450&t=P&c=f0f0f0&q=80&v=2\"></center>\n",
    "\n",
    "---\n",
    "\n",
    "<br>\n",
    "\n",
    "# Módulo 4: Processar dados de sujo para limpo\n",
    "\n",
    "<br>"
   ]
  },
  {
   "cell_type": "markdown",
   "id": "4f01a59d",
   "metadata": {},
   "source": [
    "## Integridade dos dados: <br> \n",
    "é a precisão, integridade,consistência e confiabilidade dedados ao longo de seu ciclo de vida. Quando a integridade dos dados é baixa,pode causar qualquer coisa, desde a perda de um único pixel emuma imagem a uma decisão médica incorreta.Em alguns casos,uma peça que falta pode tornar todos os seus dados inúteis.A integridade dos dados pode sercomprometida de muitas maneiras diferentes.Há uma chance de que os dados possam sercomprometida toda vez que é replicada,transferidos ou manipulados de qualquer forma.\n",
    "\n",
    "<br>\n",
    "\n",
    "A replicação de dados é o processo dearmazenamento de dados em vários locais.Se você estiver replicando dados emtempos diferentes em lugares diferentes,há uma chance de seus dados estarem fora de sincronia.Esses dados carecem de integridadeporque pessoas diferentes podem não serusando os mesmos dados parasuas descobertas, o que pode causar inconsistências.\n",
    "\n",
    "<br>\n",
    "\n",
    "Há também a questão da transferência de dados,qual é o processo de copiardados de um dispositivo de armazenamentopara a memória ou de um computador para outro.Se a transferência de dados for interrompida,você pode acabar com um conjunto de dados incompleto,que pode não ser útil para suas necessidades.\n",
    "\n",
    "<br>\n",
    "\n",
    "O processo de manipulação de dados envolve a mudançaos dados para torná-los mais organizados e fáceis de ler.A manipulação de dados destina-se a tornaro processo de análise de dados mais eficiente,mas um erro durante o processopode comprometer a eficiência.\n",
    "\n",
    "<br>\n",
    "\n",
    "Finalmente, os dados também podem ser comprometidospor erro humano, vírus,malware, hacking e falhas do sistema.\n",
    "\n",
    "<br>\n",
    "Uma boa análise depende da integridade dos dados, e a integridade dos dados geralmente depende do uso de um formato comum. Exemplo: \n",
    "Restrição de dados > Definição\n",
    "\n",
    "* Tipo de dados > Os valores devem ser de um determinado tipo: data, número, porcentagem, booleano, etc.\n",
    "* Intervalo de dados > Os valores devem estar entre os valores máximo e mínimo predefinidos\n",
    "* Obrigatório > Os valores não podem ser deixados em branco ou vazios\n",
    "* Exclusivo > Os valores não podem ter uma duplicata\n",
    "* Padrões de expressão regular (regex) > Os valores devem corresponder a um padrão prescrito\n",
    "* Validação entre campos > Certas condições para vários campos devem ser satisfeitas\n",
    "* Chave primária > (Somente bancos de dados) o valor deve ser exclusivo por coluna\n",
    "* Conjunto de membros > (Somente bancos de dados) os valores de uma coluna devem vir de um conjunto de valores discretos\n",
    "* Chave estrangeira > (Somente bancos de dados) os valores de uma coluna devem ser valores exclusivos provenientes de uma coluna em outra tabela\n",
    "* Precisão > O grau em que os dados estão em conformidade com a entidade real que está sendo medida ou descrita\n",
    "* Integridade > O grau em que os dados contêm todos os componentes ou medidas desejados\n",
    "* Consistência > O grau em que os dados são repetíveis a partir de diferentes pontos de entrada ou coleta"
   ]
  },
  {
   "cell_type": "markdown",
   "id": "3b2e5059",
   "metadata": {},
   "source": [
    "## Objetivos e dados bem alinhados: <br>\n",
    "Você pode obter insights poderosos e tirar conclusões precisas quando os dados estiverem bem alinhados aos objetivos de negócios. Como analista de dados, o alinhamento é algo que você precisará julgar. Um bom alinhamento significa que os dados são relevantes e podem ajudá-lo a resolver um problema de negócios ou determinar um curso de ação para atingir um determinado objetivo de negócios.\n",
    "\n",
    "<br>\n",
    "\n",
    "Dados limpos + alinhamento ao objetivo de negócios + limpeza de dados adicionais + variáveis recém-descobertas + restrições = conclusões precisas \n",
    "* Quando há dados claros e um bom alinhamento, você pode obter insights precisos e tirar conclusões que os dados suportam.\n",
    "* Se houver um bom alinhamento, mas os dados precisarem ser limpos, limpe os dados antes de executar sua análise. \n",
    "* Se os dados estiverem apenas parcialmente alinhados com um objetivo, pense em como você pode modificar o objetivo ou usar restrições de dados para garantir que o subconjunto de dados se alinhe melhor com o objetivo de negócios."
   ]
  }
 ],
 "metadata": {
  "kernelspec": {
   "display_name": "Python 3 (ipykernel)",
   "language": "python",
   "name": "python3"
  },
  "language_info": {
   "codemirror_mode": {
    "name": "ipython",
    "version": 3
   },
   "file_extension": ".py",
   "mimetype": "text/x-python",
   "name": "python",
   "nbconvert_exporter": "python",
   "pygments_lexer": "ipython3",
   "version": "3.9.16"
  }
 },
 "nbformat": 4,
 "nbformat_minor": 5
}
