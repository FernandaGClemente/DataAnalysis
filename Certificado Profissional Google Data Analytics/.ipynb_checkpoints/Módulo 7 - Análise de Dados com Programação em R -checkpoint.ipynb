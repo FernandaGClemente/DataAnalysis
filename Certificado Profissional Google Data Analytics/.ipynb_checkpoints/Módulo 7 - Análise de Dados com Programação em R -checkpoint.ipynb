{
 "cells": [
  {
   "cell_type": "markdown",
   "id": "96d64587",
   "metadata": {},
   "source": [
    "<center><img width=\"25%\" src=\"https://www.camaramirimdoce.sc.gov.br/media/noticia/resumo-da-sessao-10-06-2019-111.png?w=848&h=450&t=P&c=f0f0f0&q=80&v=2\"></center>\n",
    "\n",
    "---\n",
    "\n",
    "<br>\n",
    "\n",
    "# Módulo 7: Análise de Dados com Programação em R \n",
    "\n",
    "<br>"
   ]
  },
  {
   "cell_type": "markdown",
   "id": "465f17cb",
   "metadata": {},
   "source": [
    "### O que você aprenderá:\n",
    "* Linguagens e ambientes de programação \n",
    "* Pacotes R\n",
    "* Funções R, variáveis, tipos de dados, pipes e vetores \n",
    "* Quadros de dados R\n",
    "* Viés e credibilidade em R\n",
    "* Ferramentas de visualização do R\n",
    "* R Markdown para documentação, criação de estrutura e ênfase\n",
    "### Conjuntos de habilidades que você construirá:\n",
    "* Codificação em R\n",
    "* Escrevendo funções em R\n",
    "* Acessando dados no R\n",
    "* Dados de limpeza em R\n",
    "* Gerando visualizações de dados em R\n",
    "* Relatar a análise de dados para as partes interessadas"
   ]
  }
 ],
 "metadata": {
  "kernelspec": {
   "display_name": "Python 3 (ipykernel)",
   "language": "python",
   "name": "python3"
  },
  "language_info": {
   "codemirror_mode": {
    "name": "ipython",
    "version": 3
   },
   "file_extension": ".py",
   "mimetype": "text/x-python",
   "name": "python",
   "nbconvert_exporter": "python",
   "pygments_lexer": "ipython3",
   "version": "3.9.16"
  }
 },
 "nbformat": 4,
 "nbformat_minor": 5
}
