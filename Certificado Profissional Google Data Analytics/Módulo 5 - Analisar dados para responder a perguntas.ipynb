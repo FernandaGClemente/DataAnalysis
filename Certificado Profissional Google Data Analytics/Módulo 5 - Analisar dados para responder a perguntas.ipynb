{
 "cells": [
  {
   "cell_type": "markdown",
   "id": "c2c28f61",
   "metadata": {},
   "source": [
    "<center><img width=\"25%\" src=\"https://www.camaramirimdoce.sc.gov.br/media/noticia/resumo-da-sessao-10-06-2019-111.png?w=848&h=450&t=P&c=f0f0f0&q=80&v=2\"></center>\n",
    "\n",
    "---\n",
    "\n",
    "<br>\n",
    "\n",
    "# Módulo 5: Analisar dados para responder a perguntas\n",
    "\n",
    "<br>"
   ]
  },
  {
   "cell_type": "markdown",
   "id": "68745d2e",
   "metadata": {},
   "source": [
    "A análise é o processo usado para dar sentido aos dados coletados. Significa tomar as medidas certas para prosseguir e pense sobre seus dados de maneiras diferentes. O objetivo da análise é identificartendências e relacionamentos dentroos dados para que você possaresponda com precisão à pergunta que você está fazendo. Para fazer isso, você deve seguiras 4 fases de análise: \n",
    "* Organizar dados\n",
    "* Formatar e ajustar dados\n",
    "* Obter informações de outras pessoas\n",
    "* Transformar dados observando relacionamentosentre pontos de dados e fazer cálculos.\n",
    " \n",
    " <br>\n",
    " \n",
    "É muito importante que você mantenha seus dados organizados durante todo o processosua análise.A forma como seus dados são classificados e estruturados afetará suas descobertas,esteja você trabalhando em uma planilha ou em um banco de dados.E depois de saber como seus dados estão organizados, você poderá capturar oucoletar as informações que você precisa.A maioria dos dados que você usará em sua análise estará organizada em tabelas.\n",
    "\n",
    "<br>\n",
    "\n",
    "### Mantendo os dados organizados com classificação e filtros\n",
    "\n",
    "A organização dos conjuntos de dados é muito importante para os analistas de dados. A maioria dos conjuntos de dados que você usará serão organizados como tabelas. As tabelas são úteis porque permitem manipular seus dados e categorizá-los. Ter categorias e classificações distintas permite que você se concentre e diferencie seus dados de maneira rápida e fácil.\n",
    "\n",
    "<br>\n",
    "\n",
    "Os analistas de dados também precisam formatar e ajustar os dados ao realizar uma análise. Classificar e filtrar são duas maneiras de manter as coisas organizadas ao formatar e ajustar os dados para trabalhar com eles. Por exemplo, um filtro pode ajudá-lo a encontrar erros ou valores discrepantes (Outliers) para que você possa corrigi-los ou sinalizá-los antes da análise.\n",
    "\n",
    "* Classificação é quando você organiza os dados em uma ordem significativa para torná-los mais fáceis de compreender, analisar e visualizar. Ele classifica seus dados com base em uma métrica específica que você escolher. Você pode classificar dados em planilhas, bancos de dados SQL (quando o conjunto de dados for muito grande para planilhas) e tabelas em documentos. A classificação organizará os dados de maneira significativa e fornecerá insights imediatos. A classificação também ajuda a agrupar dados semelhantes por uma classificação.\n",
    "* A filtragem é usada quando você está interessado apenas em ver os dados que atendem a critérios específicos e ocultar o restante. A filtragem é realmente útil quando você tem muitos dados. Você pode economizar tempo concentrando-se nos dados que são realmente importantes ou nos dados que apresentam bugs ou erros. A maioria das planilhas e bancos de dados SQL permitem filtrar seus dados de diversas maneiras. A filtragem oferece a capacidade de encontrar o que procura sem muito esforço.\n",
    "\n",
    "<br>\n",
    "\n",
    "A maneira mais fácil de lembrar a diferença entre classificação e filtragem é usar a classificação para ordenar rapidamente os dados e filtrar para exibir apenas os dados que atendem aos critérios escolhidos. Use a filtragem quando precisar reduzir a quantidade de dados exibidos.\n",
    "\n",
    "<br>\n",
    "\n",
    "Trata-se também de facilitar a pesquisa elocalize os dados que você precisa de maneira rápida e fácil."
   ]
  },
  {
   "cell_type": "markdown",
   "id": "b873fdf1",
   "metadata": {},
   "source": [
    "### Convertendo dados em planilhas <br>\n",
    "Uma das maneiras de ajudar a garantir que você tenha uma análise precisa dos seus dados é colocá-los todos no formato correto. Como analista de dados, há muitos cenários em que você pode precisar converter dados em uma planilha:\n",
    "* Converter texto em datas\n",
    "* String para números\n",
    "* Combinando colunas ou dividir colunas \n",
    "* Número em porcentagem\n",
    "\n",
    "OBS: Consistência é fundamental e a prática recomendada é garantir que uma coluna inteira tenha o mesmo formato. Ser capaz de converter dados para o formato correto acelera sua análise. \n",
    "\n",
    "<br>\n",
    "\n",
    "Como a combinação de dados com CONCAT e CONCATENATE ajuda a simplificar e limpar dados combinando dados de string de várias células em uma única célula. Para analisar os dados de maneira adequada e eficiente, eles devem ser limpos e compreensíveis. Os analistas de dados usam funções como CONCAT para facilitar o trabalho com os dados, o que pode exigir a combinação de várias células.\n",
    "<br>\n",
    "\n",
    "* Validação de dados\n",
    "Basicamente, ele permite que você controle o que pode e não pode ser inserido em sua planilha. Normalmente, a validação de dados é usada para adicionar listas suspensas para células com opções predeterminadas para os usuários escolherem.\n",
    "* Formatação condicional\n",
    "* Funções em SQL: CAST (Converte Numeric, String e Date), COERCION, UNIX_DATE e UNIX_DATE \n",
    "\n",
    "<br>\n",
    "\n",
    "### Mesclagem, múltiplas fontes e strings:\n",
    "* CONCAT: Uma função que adiciona strings para criar novas strings de texto que podem ser usadas como chaves exclusivas > https://www.w3schools.com/sql/sql_ref_keywords.asp\n",
    "* CONCAT_WS: Uma função que adiciona duas ou mais strings com um separador > https://www.w3schools.com/sql/func_sqlserver_concat_ws.asp\n",
    "* CONCAT com +: Adiciona duas ou mais strings usando o operador + > https://www.w3schools.com/sql/func_sqlserver_concat_with_plus.asp\n",
    "* LEN: Retorne o comprimento de uma sequência de texto contando o número de caracteres que ela contém\n",
    "* RIGHT: Retornar um determinado número de caracteres do lado direito de uma string de texto\n",
    "* LEFT: Retornar um determinado número de caracteres do lado esquerdo de uma string de texto\n",
    "* FIND: Localize caracteres específicos em uma string\n",
    "\n",
    "<br>\n",
    "\n",
    "* Atalhos do teclado do Planilhas Google > https://support.google.com/docs/answer/181110\n",
    "* Lista de funções do Planilhas Google > https://support.google.com/docs/table/25273?hl=en\n",
    "* 23 fórmulas obrigatórias do Planilhas Google > https://blog.golayer.io/google-sheets/google-sheets-formulas\n",
    "* 18 dicas e técnicas de fórmulas do Planilhas Google que você deve conhecer > https://www.benlcollins.com/spreadsheets/google-sheets-formulas-techniques/\n",
    "* Atalhos de teclado no Excel > https://support.microsoft.com/en-us/office/keyboard-shortcuts-in-excel-1798d9d5-842a-42b8-9c99-9b7213f0040f?ui=en-US&rs=en-US&ad=US\n",
    "* 222 atalhos do Excel para Windows e Mac > https://exceljet.net/shortcuts\n",
    "* 350 funções do Excel > https://exceljet.net/functions\n",
    "* 500 fórmulas Excel > https://exceljet.net/formulas\n",
    "* 19 habilidades de Excel mais úteis que farão você parecer um profissional de planilhas (do básico ao avançado) > https://learntocodewith.me/posts/excel-skills/\n",
    "* Habilidades avançadas em planilhas - Tecnologias de capacitação > https://www.slideshare.net/markjhonoxillo/advanced-spreadsheet-skills\n",
    "\n",
    "<br>\n",
    "\n",
    "A fase de análise é onde você torne-se o especialista em seu conjunto de dados. Aqui, você vai compreender todos os diferentes campos. Você vai entender suas médias, potencialmente a mediana dos dados.Você vai entender comolinhas diferentes em seus dados diferem umas das outras.E é onde você vai ganhar confiança para estarcapaz de explicar suas descobertas paraum público que talvez não tenhao mesmo nível de conhecimento com dados que você possui."
   ]
  },
  {
   "cell_type": "markdown",
   "id": "a751ba4e",
   "metadata": {},
   "source": []
  }
 ],
 "metadata": {
  "kernelspec": {
   "display_name": "Python 3 (ipykernel)",
   "language": "python",
   "name": "python3"
  },
  "language_info": {
   "codemirror_mode": {
    "name": "ipython",
    "version": 3
   },
   "file_extension": ".py",
   "mimetype": "text/x-python",
   "name": "python",
   "nbconvert_exporter": "python",
   "pygments_lexer": "ipython3",
   "version": "3.9.16"
  }
 },
 "nbformat": 4,
 "nbformat_minor": 5
}
