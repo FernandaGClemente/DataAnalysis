{
 "cells": [
  {
   "cell_type": "markdown",
   "id": "c2c28f61",
   "metadata": {},
   "source": [
    "<center><img width=\"25%\" src=\"https://www.camaramirimdoce.sc.gov.br/media/noticia/resumo-da-sessao-10-06-2019-111.png?w=848&h=450&t=P&c=f0f0f0&q=80&v=2\"></center>\n",
    "\n",
    "---\n",
    "\n",
    "<br>\n",
    "\n",
    "# Módulo 5: Analisar dados para responder a perguntas\n",
    "\n",
    "<br>"
   ]
  },
  {
   "cell_type": "markdown",
   "id": "85c0adfb",
   "metadata": {},
   "source": [
    "### O que você aprenderá:\n",
    "* Etapas que os analistas de dados seguem para organizar os dados\n",
    "* Como combinar dados de várias fontes\n",
    "* Cálculos de planilhas e tabelas dinâmicas\n",
    "* Cálculos SQL\n",
    "* Tabelas temporárias\n",
    "* Data de validade\n",
    "### Conjuntos de habilidades que você construirá:\n",
    "* Classificando dados em planilhas e escrevendo consultas SQL\n",
    "* Filtrando dados em planilhas e escrevendo consultas SQL\n",
    "* Convertendo dados\n",
    "* Formatando dados\n",
    "* Processos de análise de dados fundamentados\n",
    "* Buscar feedback e apoio de outras pessoas durante a análise de dados"
   ]
  }
 ],
 "metadata": {
  "kernelspec": {
   "display_name": "Python 3 (ipykernel)",
   "language": "python",
   "name": "python3"
  },
  "language_info": {
   "codemirror_mode": {
    "name": "ipython",
    "version": 3
   },
   "file_extension": ".py",
   "mimetype": "text/x-python",
   "name": "python",
   "nbconvert_exporter": "python",
   "pygments_lexer": "ipython3",
   "version": "3.9.16"
  }
 },
 "nbformat": 4,
 "nbformat_minor": 5
}
