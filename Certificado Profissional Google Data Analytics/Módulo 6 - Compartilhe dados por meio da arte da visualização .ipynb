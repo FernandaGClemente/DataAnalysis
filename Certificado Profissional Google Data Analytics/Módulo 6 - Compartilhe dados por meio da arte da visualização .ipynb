{
 "cells": [
  {
   "cell_type": "markdown",
   "id": "48d64962",
   "metadata": {},
   "source": [
    "<center><img width=\"25%\" src=\"https://www.camaramirimdoce.sc.gov.br/media/noticia/resumo-da-sessao-10-06-2019-111.png?w=848&h=450&t=P&c=f0f0f0&q=80&v=2\"></center>\n",
    "\n",
    "---\n",
    "\n",
    "<br>\n",
    "\n",
    "# Módulo 6: Compartilhe dados por meio da arte da visualização \n",
    "\n",
    "<br>"
   ]
  },
  {
   "cell_type": "markdown",
   "id": "9705f210",
   "metadata": {},
   "source": [
    "### O que você aprenderá:\n",
    "* Pensamento de design\n",
    "* Como os analistas de dados usam visualizações para se comunicar sobre dados\n",
    "* Os benefícios do Tableau para apresentar as descobertas da análise de dados\n",
    "* Narrativa baseada em dados\n",
    "* Painéis e filtros de painel\n",
    "* Estratégias para criar uma apresentação de dados eficaz\n",
    "### Conjuntos de habilidades que você construirá:\n",
    "* Criação de visualizações e painéis no Tableau\n",
    "* Abordando problemas de acessibilidade ao comunicar sobre dados\n",
    "* Compreender o propósito de diferentes ferramentas de comunicação empresarial\n",
    "* Contando uma história baseada em dados\n",
    "* Apresentar a outras pessoas sobre dados\n",
    "* Respondendo a perguntas sobre dados"
   ]
  }
 ],
 "metadata": {
  "kernelspec": {
   "display_name": "Python 3 (ipykernel)",
   "language": "python",
   "name": "python3"
  },
  "language_info": {
   "codemirror_mode": {
    "name": "ipython",
    "version": 3
   },
   "file_extension": ".py",
   "mimetype": "text/x-python",
   "name": "python",
   "nbconvert_exporter": "python",
   "pygments_lexer": "ipython3",
   "version": "3.9.16"
  }
 },
 "nbformat": 4,
 "nbformat_minor": 5
}
