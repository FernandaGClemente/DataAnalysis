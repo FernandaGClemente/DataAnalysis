{
 "cells": [
  {
   "cell_type": "markdown",
   "id": "48d64962",
   "metadata": {},
   "source": [
    "<center><img width=\"25%\" src=\"https://www.camaramirimdoce.sc.gov.br/media/noticia/resumo-da-sessao-10-06-2019-111.png?w=848&h=450&t=P&c=f0f0f0&q=80&v=2\"></center>\n",
    "\n",
    "---\n",
    "\n",
    "<br>\n",
    "\n",
    "# Módulo 6: Compartilhe dados por meio da arte da visualização \n",
    "\n",
    "<br>"
   ]
  },
  {
   "cell_type": "markdown",
   "id": "83932bf8",
   "metadata": {},
   "source": [
    "## Comunicando seus insights de dados <br>\n",
    "#### As partes interessadas geralmente não têm tempo,acesso a dados ou experiênciaprecisavam encontrar essas histórias por conta própria.É por isso que vamos nos concentrar em visualizardados para ajudá-lo a compartilhar melhor histórias de dados. <br>\n",
    "#### A visualização de dados é a representação gráfica e apresentação de dados. .Na verdade, trata-se apenas de colocar informações em uma imagem para facilitaroutras pessoas entendam. <br>\n",
    "#### Uma visualização de dados bem feita tem o poder de mudar a opinião das pessoas.Além disso, pode ajudar alguém que não tenha o mesmo conhecimento técnico ouexperiência enquanto você forma suas próprias opiniões. <br>\n",
    "#### As visualizações de dados são uma ferramenta útil paraencaixar muita informação em um espaço pequeno. Para fazer isso, primeiro você precisa estruturar e organizar seus pensamentos. Pense nos seus objetivos e as conclusões a que você chegou após classificar os dados. Identificar os principais elementos de suas descobertas ajuda a preparar o terreno paracomo você deve organizar sua apresentação. <br>"
   ]
  }
 ],
 "metadata": {
  "kernelspec": {
   "display_name": "Python 3 (ipykernel)",
   "language": "python",
   "name": "python3"
  },
  "language_info": {
   "codemirror_mode": {
    "name": "ipython",
    "version": 3
   },
   "file_extension": ".py",
   "mimetype": "text/x-python",
   "name": "python",
   "nbconvert_exporter": "python",
   "pygments_lexer": "ipython3",
   "version": "3.9.16"
  }
 },
 "nbformat": 4,
 "nbformat_minor": 5
}
