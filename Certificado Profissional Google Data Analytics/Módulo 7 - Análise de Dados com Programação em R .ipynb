{
 "cells": [
  {
   "cell_type": "markdown",
   "id": "96d64587",
   "metadata": {},
   "source": [
    "<center><img width=\"25%\" src=\"https://www.camaramirimdoce.sc.gov.br/media/noticia/resumo-da-sessao-10-06-2019-111.png?w=848&h=450&t=P&c=f0f0f0&q=80&v=2\"></center>\n",
    "\n",
    "---\n",
    "\n",
    "<br>\n",
    "\n",
    "# Módulo 7: Análise de Dados com Programação em R \n",
    "\n",
    "<br>"
   ]
  },
  {
   "cell_type": "markdown",
   "id": "465f17cb",
   "metadata": {},
   "source": [
    "### Introdução ao emocionante mundo da programação:\n",
    "* O processo de análise de dados inclui seis fases: perguntar, preparar, processar, analisar, compartilhar e agir.\n",
    "* Programação de computadores refere-se a dar instruções a um computador para executar uma ação ou conjunto de ações. Você pode usar diferentes linguagens de programação para escrever estas instruções. Você pode escolher um idioma específico com base em o projeto que você deseja realizar ou o problema que você deseja resolver.\n",
    "* A linguagem de programação R é super útil para organizar, limpeza e análise de dados.\n",
    "\n",
    "<br>\n",
    "\n",
    "### O debate R versus Python: <br>\n",
    "##### R\n",
    "* Características comuns: \n",
    "    - Código aberto \n",
    "    - Dados armazenados em data frames \n",
    "    - Fórmulas e funções prontamente disponíveis \n",
    "    - Comunidade para desenvolvimento e suporte de código\n",
    "* Vantagens únicas: \n",
    "    - Manipulação de dados, visualização de dados e pacotes de estatísticas \n",
    "    - Abordagem de \"bisturi\" para dados: encontre pacotes para fazer o que quiser com os dados\n",
    "* Desafios únicos: \n",
    "    - Convenções de nomenclatura inconsistentes tornam mais difícil para iniciantes selecionar as funções corretas \n",
    "    - Métodos para lidar com variáveis podem ser um pouco complexos para iniciantes entenderem\n",
    "\n",
    "<br>\n",
    "\n",
    "##### Python\n",
    "* Características comuns: \n",
    "    - Código aberto \n",
    "    - Dados armazenados em data frames \n",
    "    - Fórmulas e funções prontamente disponíveis \n",
    "    - Comunidade para desenvolvimento e suporte de código\n",
    "* Vantagens únicas: \n",
    "    - Sintaxe fácil para necessidades de aprendizado de máquina \n",
    "    - Integra-se com plataformas em nuvem como o Google Nuvem, Amazon Web Services e Azure\n",
    "* Desafios únicos: \n",
    "    - Muito mais decisões para iniciantes sobre entrada/saída de dados, estrutura, variáveis, pacotes e objetos \n",
    "    - Abordagem de dados do \"canivete suíço\": descubra uma maneira de fazer o que quiser com os dados\n",
    "> https://medium.com/analytics-and-data/r-vs-python-a-comprehensive-guide-for-data-professionals-321e8dead598 <br>\n",
    "> https://www.dataquest.io/blog/python-vs-r/ <br>\n",
    "> https://posit.co/blog/r-vs-python-what-s-the-best-for-language-for-data-science/ <br>\n",
    "\n",
    "<br>\n",
    "\n",
    "##### R tem sido utilizado por profissionais que possuem uma abordagem estatística ou orientada para a pesquisa para resolver problemas; entre eles estão cientistas, estatísticos e engenheiros. Python tem sido usado por profissionais que buscam soluções nos próprios dados, aqueles que devem explorar intensamente os dados em busca de respostas; entre eles estão cientistas de dados, especialistas em aprendizado de máquina e desenvolvedores de software."
   ]
  },
  {
   "cell_type": "markdown",
   "id": "88d9e642",
   "metadata": {},
   "source": [
    "### Linguagens de programação: <br>\n",
    "##### Oferece o mais alto nível de controle sobre seus dados. <br>\n",
    "##### Linguagens de programação são as palavras e símbolos queuse para escrever instruções a serem seguidas pelos computadores.Você pode pensar em uma linguagem de programação comouma ponte que conecta humanos e computadores,e permite que eles se comuniquem. <br> <br>\n",
    "##### As linguagens de programação têm seu próprio conjunto de regras sobre como essas palavras e símbolos devem ser usados, chamados de sintaxe. A sintaxe mostra como organizar as palavras e símbolos inseridos para que façam sentido para um computador. Não pode haver nenhuma inconsistência na maneira como você escreve código.<br>\n",
    "##### Codificar é escrever instruções parao computador na sintaxede uma linguagem de programação específica.Assim como a variedade delínguas humanas em todo o mundo,há muitas linguagens de programação diferentesdisponível para se comunicar com computadores.\n",
    "* Python é uma linguagem de uso geral que pode ser usado para todos os tipos de coisas, de trabalhar com inteligência artificial para criar experiências de realidade virtual.\n",
    "* Javascript funciona bem para desenvolvimento aplicativos online e é uma parte essencial dos navegadores da web.\n",
    "* Algumas outras linguagens de programação populares para a análise de dados inclui SAS, Scala e Julia.\n",
    "* Embora as linguagens de programação possam parecer diferente na superfície, todos eles compartilham estruturas e conceitos de codificação semelhantes.\n",
    "##### A programação ajuda você a esclarecer as etapas de sua análise, economiza tempo e permite que você reproduza e compartilhe facilmente seu trabalho. <br>\n",
    "##### A análise de dados é mais útil quando você pode reproduzir seu trabalho e compartilhá-lo com outras pessoas. Eles podem verificar novamente e ajudá-lo a resolver problemas. O código armazena automaticamente todas as etapas de sua análise para que você possa reproduzir e compartilhe seu trabalho a qualquer momento no futuro, semanas, meses ou até anos depois."
   ]
  },
  {
   "cell_type": "code",
   "execution_count": null,
   "id": "3d824f60",
   "metadata": {},
   "outputs": [],
   "source": []
  }
 ],
 "metadata": {
  "kernelspec": {
   "display_name": "Python 3 (ipykernel)",
   "language": "python",
   "name": "python3"
  },
  "language_info": {
   "codemirror_mode": {
    "name": "ipython",
    "version": 3
   },
   "file_extension": ".py",
   "mimetype": "text/x-python",
   "name": "python",
   "nbconvert_exporter": "python",
   "pygments_lexer": "ipython3",
   "version": "3.9.16"
  }
 },
 "nbformat": 4,
 "nbformat_minor": 5
}
