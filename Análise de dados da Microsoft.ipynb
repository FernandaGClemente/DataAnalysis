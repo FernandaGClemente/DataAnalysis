{
 "cells": [
  {
   "cell_type": "markdown",
   "id": "821d2bb1",
   "metadata": {},
   "source": [
    "* Comece a usar a análise de dados da Microsoft > https://learn.microsoft.com/pt-br/training/modules/data-analytics-microsoft/1-introduction\n",
    "* Preparar dados para análise\n",
    "* Dados de modelo no Power BI\n",
    "* Visualizar dados no Power BI\n",
    "* Análise de dados no Power BI"
   ]
  },
  {
   "cell_type": "markdown",
   "id": "738b46be",
   "metadata": {},
   "source": [
    "Introdução"
   ]
  }
 ],
 "metadata": {
  "kernelspec": {
   "display_name": "Python 3 (ipykernel)",
   "language": "python",
   "name": "python3"
  },
  "language_info": {
   "codemirror_mode": {
    "name": "ipython",
    "version": 3
   },
   "file_extension": ".py",
   "mimetype": "text/x-python",
   "name": "python",
   "nbconvert_exporter": "python",
   "pygments_lexer": "ipython3",
   "version": "3.9.16"
  }
 },
 "nbformat": 4,
 "nbformat_minor": 5
}
