{
 "cells": [
  {
   "cell_type": "markdown",
   "id": "abe9918e",
   "metadata": {},
   "source": [
    "# Roteiro de analistas de dados com recursos do YouTube <br>\n",
    "1 - Introdução à Análise de Dados: Visão geral da análise de dados e seu papel na tomada de decisões de negócios.\n",
    "> https://www.youtube.com/watch?v=zwasdVPPFFw&feature=youtu.be&ab_channel=Simplilearn\n",
    "\n",
    "2 - Excel para análise de dados: usando o Excel para manipulação, análise e visualização de dados.\n",
    "> https://www.youtube.com/watch?v=OOWAk2aLEfk&feature=youtu.be\n",
    "\n",
    "3 - SQL para análise de dados: Noções básicas de SQL, consulta de bancos de dados e junção de tabelas.\n",
    "> https://www.youtube.com/live/YvaddgkneEg?feature=share\n",
    "\n",
    "4 - Visualização de dados: criação de tabelas e gráficos para comunicar insights de dados de forma eficaz.\n",
    "> https://www.youtube.com/watch?v=GPVsHOlRBBI&feature=youtu.be&ab_channel=freeCodeCamp.org\n",
    "\n",
    "5 - Limpeza e preparação de dados: Limpeza e preparação de dados para análise, lidando com dados ausentes e discrepantes.\n",
    "> https://www.youtube.com/playlist?list=PLJ39kWiJXSiwksZX7M3f4uHM9_vQAzhL0\n",
    "\n",
    "6 - Análise Exploratória de Dados: Estatística descritiva, distribuições de dados e técnicas de exploração de dados.\n",
    "> https://www.youtube.com/watch?v=-o3AxdVcUtQ&feature=youtu.be&ab_channel=edureka%21\n",
    "\n",
    "7 - Técnicas de Análise de Dados: Teste de hipóteses, análise de regressão e previsão.\n",
    "> https://www.youtube.com/watch?v=U5vt3_dfKys&feature=youtu.be&ab_channel=edureka%21\n",
    "\n",
    "8 - Aprendizado de máquina: introdução aos conceitos, algoritmos e aplicativos de aprendizado de máquina.\n",
    "> https://www.youtube.com/watch?v=GwIo3gDZCVQ&feature=youtu.be&ab_channel=edureka%21\n",
    "\n",
    "9 - Data Storytelling: Criando histórias convincentes usando visualização de dados e técnicas narrativas.\n",
    "> https://www.youtube.com/watch?v=oazk2VxqOPk&feature=youtu.be\n",
    "\n",
    "10 - Gerenciamento de dados: Gerenciamento de dados usando sistemas de gerenciamento de banco de dados (DBMS) e tecnologias de big data.\n",
    "> https://www.youtube.com/playlist?list=PLBlnK6fEyqRi_CUQ-FXxgzKQ1dwr_ZJWZ\n",
    "\n",
    "11 - Business Intelligence: Utilização de ferramentas de BI para criação de dashboards e relatórios para a tomada de decisões de negócios.\n",
    "> https://www.youtube.com/watch?v=Hg8zBJ1DhLQ&ab_channel=Simplilearn\n",
    "\n",
    "12 - Ética de Dados: Compreender considerações éticas na análise de dados e garantir privacidade e segurança.\n",
    "> https://www.youtube.com/watch?v=jcTj6FgWOpo&feature=youtu.be&ab_channel=freeCodeCamp.org\n",
    "\n",
    "13 - Ferramentas de ciência de dados: introdução ao Python, R e outras ferramentas de ciência de dados para análise de dados.\n",
    "> https://www.youtube.com/watch?v=r-uOLxNrNk8&feature=youtu.be&ab_channel=freeCodeCamp.org\n",
    "\n",
    "14 - Análise Avançada de Dados: Técnicas estatísticas avançadas, modelagem preditiva e otimização.\n",
    "> https://www.youtube.com/watch?v=Lv0xcdeXaGU&feature=youtu.be&ab_channel=Simplilearn\n",
    "\n",
    "15 - Projetos de análise de dados: Projetos práticos de análise de dados para praticar habilidades e aplicar conhecimento.\n",
    "> https://www.youtube.com/watch?v=G9NmACvXh8w&feature=youtu.be&ab_channel=Simplilearn\n",
    "\n",
    "16 - Perguntas e respostas da entrevista do analista de dados\n",
    "> https://www.youtube.com/watch?v=Y6175TGFuMI&feature=youtu.be"
   ]
  },
  {
   "cell_type": "markdown",
   "id": "b10d1c98",
   "metadata": {},
   "source": [
    "# Lista de tutoriais de projetos de análise de dados: <br>\n",
    "\n",
    "1 - Guia passo a passo do banco de dados SQL para o painel interativo\n",
    "> https://www.youtube.com/watch?v=0rB_memC-dA&ab_channel=AdamFiner-LearnBIOnline\n",
    "\n",
    "2 - Análise exploratória de dados com Pandas Python\n",
    "> https://www.youtube.com/watch?v=xi0vhXFPegw\n",
    "\n",
    "3 - Projeto de portfólio de analista de dados com Tableau\n",
    "> https://www.youtube.com/watch?v=nl9eZl1IOKI&ab_channel=DataWithMo\n",
    "\n",
    "4 - Projeto de Portfólio SQL e PowerBI para Analistas de Dados\n",
    "> https://www.youtube.com/watch?v=PzyZI9uLXvY&ab_channel=HerDataProject\n",
    "\n",
    "5 - Painel Netflix com Tableau\n",
    "> https://www.youtube.com/watch?v=BTArwS4ljC4&ab_channel=DataScienceRoadMap\n",
    "\n",
    "6 - Amazon Sales Painel com Tableau\n",
    "> https://www.youtube.com/watch?v=N12eyBBvGb8&ab_channel=DataScienceRoadMap\n",
    "\n",
    "7 - Projeto de Power BI de ponta a ponta\n",
    "> https://www.youtube.com/watch?v=j4xlVLgsmNQ&ab_channel=RishabhMishra\n",
    "\n",
    "8 - Análise de dados de companhias aéreas usando SQL e Python \n",
    "> https://www.youtube.com/watch?v=LcMjsqZiSjY&ab_channel=TechClasses\n",
    "\n",
    "9 - Painel do Tripadvisor com Tableau\n",
    "> https://www.youtube.com/watch?v=jL355VVdY9o&ab_channel=DataScienceRoadMap\n",
    "\n",
    "10 - Painel de análise de RH com Tableau e Power BI\n",
    "> https://www.youtube.com/watch?v=4l7GgWmaTGc&ab_channel=DataTutorials"
   ]
  },
  {
   "cell_type": "markdown",
   "id": "45812435",
   "metadata": {},
   "source": [
    "# 100 dias de análise de dados : um guia completo <br>\n",
    "> https://medium.com/@brittanycity/100-days-of-data-analytics-a-complete-guide-d278ac34655b"
   ]
  },
  {
   "cell_type": "markdown",
   "id": "e29a78ab",
   "metadata": {},
   "source": [
    "# Cursos Udacity GRATUITOS sobre Análise de Dados, SQL e Visualização de Dados: <br>\n",
    "> https://www.mltut.com/free-udacity-courses-on-data-analytics/"
   ]
  },
  {
   "cell_type": "markdown",
   "id": "26692340",
   "metadata": {},
   "source": [
    "# Introdução à análise de dados: o “Método Google” <br>\n",
    "> https://towardsdatascience.com/intro-to-data-analytics-the-google-method-92d431b65581"
   ]
  },
  {
   "cell_type": "markdown",
   "id": "7d0f0e99",
   "metadata": {},
   "source": [
    "# Guia essencial de um cientista de dados para análise exploratória de dados: <br>\n",
    "> https://towardsdatascience.com/a-data-scientists-essential-guide-to-exploratory-data-analysis-25637eee0cf6"
   ]
  },
  {
   "cell_type": "markdown",
   "id": "278de38d",
   "metadata": {},
   "source": [
    "# Revolucionando a análise de dados com PandasGUI <br>\n",
    "> https://www.kdnuggets.com/2023/06/revolutionizing-data-analysis-pandasgui.html"
   ]
  },
  {
   "cell_type": "markdown",
   "id": "7b93bb58",
   "metadata": {},
   "source": [
    "# Carreira em Data Analytics da DIO: <br>\n",
    "> https://digitalinnovationone.github.io/roadmaps/careers/data-analytics/ <br>\n",
    "\n",
    "* Excel: https://support.microsoft.com/en-us/excel\n",
    "* Estatística e Matemática Básica (Livro Estatística: O que é, para que serve, como funciona por Charles Wheelan)\n",
    "* Formação SQL Database Specialist\n",
    "* Formação NoSQL Specialist\n",
    "* Formação Power BI Analyst\n",
    "* Formação Python Developer\n",
    "* Curso Introdução a Ciência de Dados (Livro Data Science do Zero por Joel Grus - O'Reilly e Livro Estatística para Cientista de Dados por Andrew Bruce - O'Reilly)\n",
    "* Formação R Developer (Livro Python e R Para o Cientista de Dados Moderno: o Melhor de Dois Mundos por Boyan Angelov - O'Reilly)\n",
    "* Cloud Specialist (Livro Um guia prático para migração para nuvem por Kieran Broadfoot - O'Reilly)\n",
    "    * Google Cloud Platform (GCP)\n",
    "    * Microsoft Azure\n",
    "    * Amazon Web Services\n",
    "* Formação Machine Learning Specialist\n",
    "    * Livro Análise Prática de Séries Temporais: Predição com Estatística e Aprendizado de Máquina por Aileen Nielsen - O'Reilly\n",
    "    * Livro Designing Machine Learning Systems: An Iterative Process for Production-Ready Applications por Chip Huyen - O'Reilly\n",
    "    * Livro Machine Learning Design Patterns: Solutions to Common Challenges in Data Preparation, Model Building, and Mlops por Valliappa Lakshmanan - O'Reilly\n",
    "* Formação Spark Big Data Specialist\n",
    "    * Livro Big data para leigos por Alan Nugent\n",
    "    * Livro Big Data Now: Current Perspectives from O'Reilly Radar por O'Reilly Radar Team"
   ]
  }
 ],
 "metadata": {
  "kernelspec": {
   "display_name": "Python 3 (ipykernel)",
   "language": "python",
   "name": "python3"
  },
  "language_info": {
   "codemirror_mode": {
    "name": "ipython",
    "version": 3
   },
   "file_extension": ".py",
   "mimetype": "text/x-python",
   "name": "python",
   "nbconvert_exporter": "python",
   "pygments_lexer": "ipython3",
   "version": "3.9.16"
  }
 },
 "nbformat": 4,
 "nbformat_minor": 5
}
