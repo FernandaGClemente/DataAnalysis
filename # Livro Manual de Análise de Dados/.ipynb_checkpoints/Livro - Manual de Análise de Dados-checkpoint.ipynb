{
 "cells": [
  {
   "cell_type": "markdown",
   "id": "a1f4057b",
   "metadata": {},
   "source": [
    "<center><img width=\"25%\" src=\"https://www.camaramirimdoce.sc.gov.br/media/noticia/resumo-da-sessao-10-06-2019-111.png?w=848&h=450&t=P&c=f0f0f0&q=80&v=2\"></center>\n",
    "\n",
    "---\n",
    "\n",
    "<br>\n",
    "\n",
    "# Livro - Manual de Análise de Dados\n",
    "#### Estatistíca e Modelagem Multivariada com Excel, SPSS e Stata\n",
    "\n",
    "<br>\n",
    "\n",
    "<center><img width=\"10%\" src=\"_imagens/Livro Manual de Análise de dados.png\"></center>"
   ]
  },
  {
   "cell_type": "markdown",
   "id": "bbce957e",
   "metadata": {},
   "source": [
    "# **<u>Sumário:</u>**\n",
    "1. [Capítulo 1: Tipos de variáveis e escalas de mensuração e precisão](#Capítulo-1:-Tipos-de-variáveis-e-escalas-de-mensuração-e-precisão)\n",
    "2. [Capítulo 2: Estatística descritiva univariada](#Capítulo-2:-Estatística-descritiva-univariada)\n",
    "3. [Capítulo 3: Estatístiva descritiva bivariada](#Capítulo-3:-Estatístiva-descritiva-bivariada)\n",
    "4. [Capítulo 4: Introdução a probabilidade](#Capítulo-4:-Introdução-a-probabilidade)\n",
    "5. [Capítulo 5: Variáveis aleatórias e distribuições de probabilidade](#Capítulo-5:-Variáveis-aleatórias-e-distribuições-de-probabilidade)\n",
    "6. [Capítulo 6: Amostragem](#Capítulo-6:-Amostragem)\n",
    "7. [Capítulo 7: Testes de hipóteses](#Capítulo-7:-Testes-de-hipóteses)\n",
    "8. [Capítulo 8: Testes não paramétricos](#Capítulo-8:-Testes-não-paramétricos)\n",
    "9. [Capítulo 9: Análise de agrupamentos](#Capítulo-9:-Análise-de-agrupamentos)\n",
    "10. [Capítulo 10: Análise fatorial por componentes principais](#Capítulo-10:-Análise-fatorial-por-componentes-principais)\n",
    "11. [Capítulo 11: Análise de correspondência simples e múltiplas](#Capítulo-11:-Análise-de-correspondência-simples-e-múltiplas)\n",
    "12. [Capítulo 12: Modelos de regressão simples e múltiplas](#Capítulo-12:-Modelos-de-regressão-simples-e-múltiplas)\n",
    "13. [Capítulo 13: Modelos de regressão logística binária e multinominal](#Capítulo-13:-Modelos-de-regressão-logística-binária-e-multinominal)\n",
    "14. [Capítulo 14: Modelos de regressão para dados de contagem](#Capítulo-14:-Modelos-de-regressão-para-dados-de-contagem)\n",
    "15. [Capítulo 15: Modelos longitudinais de regressão para dados em painel](#Capítulo-15:-Modelos-longitudinais-de-regressão-para-dados-em-painel)\n",
    "16. [Capítulo 16: Modelos multiníveis de regressão para dados em painel](#Capítulo-16:-Modelos-multiníveis-de-regressão-para-dados-em-painel)\n",
    "17. [Capítulo 17: Modelos de regressão para dados de sobrevivência](#Capítulo-17:-Modelos-de-regressão-para-dados-de-sobrevivência)\n",
    "18. [Capítulo 18: Modelos de regressão com múltiplas variáveis dependentes](#Capítulo-18:-Modelos-de-regressão-com-múltiplas-variáveis-dependentes)"
   ]
  },
  {
   "cell_type": "markdown",
   "id": "775ce4e6",
   "metadata": {},
   "source": [
    "# Capítulo 1: Tipos de variáveis e escalas de mensuração e precisão\n",
    "[&#x1F53C;](#Sumário:) Clique para voltar para o sumário"
   ]
  },
  {
   "cell_type": "markdown",
   "id": "6e5f6ab2",
   "metadata": {},
   "source": [
    "# Capítulo 2: Estatística descritiva univariada\n",
    "[&#x1F53C;](#Sumário:) Clique para voltar para o sumário"
   ]
  },
  {
   "cell_type": "markdown",
   "id": "8e2bb18c",
   "metadata": {},
   "source": [
    "# Capítulo 3: Estatístiva descritiva bivariada\n",
    "[&#x1F53C;](#Sumário:) Clique para voltar para o sumário"
   ]
  },
  {
   "cell_type": "markdown",
   "id": "148c712d",
   "metadata": {},
   "source": [
    "# Capítulo 4: Introdução a probabilidade\n",
    "[&#x1F53C;](#Sumário:) Clique para voltar para o sumário"
   ]
  },
  {
   "cell_type": "markdown",
   "id": "7098ab74",
   "metadata": {},
   "source": [
    "# Capítulo 5: Variáveis aleatórias e distribuições de probabilidade\n",
    "[&#x1F53C;](#Sumário:) Clique para voltar para o sumário"
   ]
  },
  {
   "cell_type": "markdown",
   "id": "efc113b1",
   "metadata": {},
   "source": [
    "# Capítulo 6: Amostragem\n",
    "[&#x1F53C;](#Sumário:) Clique para voltar para o sumário"
   ]
  },
  {
   "cell_type": "markdown",
   "id": "a5a35258",
   "metadata": {},
   "source": [
    "# Capítulo 7: Testes de hipóteses\n",
    "[&#x1F53C;](#Sumário:) Clique para voltar para o sumário"
   ]
  },
  {
   "cell_type": "markdown",
   "id": "fd4cd9fa",
   "metadata": {},
   "source": [
    "# Capítulo 8: Testes não paramétricos\n",
    "[&#x1F53C;](#Sumário:) Clique para voltar para o sumário"
   ]
  },
  {
   "cell_type": "markdown",
   "id": "83d72e0d",
   "metadata": {},
   "source": [
    "# Capítulo 9: Análise de agrupamentos\n",
    "[&#x1F53C;](#Sumário:) Clique para voltar para o sumário"
   ]
  },
  {
   "cell_type": "markdown",
   "id": "a1c5e07d",
   "metadata": {},
   "source": [
    "# Capítulo 10: Análise fatorial por componentes principais\n",
    "[&#x1F53C;](#Sumário:) Clique para voltar para o sumário"
   ]
  },
  {
   "cell_type": "markdown",
   "id": "82308643",
   "metadata": {},
   "source": [
    "# Capítulo 11: Análise de correspondência simples e múltiplas\n",
    "[&#x1F53C;](#Sumário:) Clique para voltar para o sumário"
   ]
  },
  {
   "cell_type": "markdown",
   "id": "5742072c",
   "metadata": {},
   "source": [
    "# Capítulo 12: Modelos de regressão simples e múltiplas\n",
    "[&#x1F53C;](#Sumário:) Clique para voltar para o sumário"
   ]
  },
  {
   "cell_type": "markdown",
   "id": "1cfc8999",
   "metadata": {},
   "source": [
    "# Capítulo 13: Modelos de regressão logística binária e multinominal\n",
    "[&#x1F53C;](#Sumário:) Clique para voltar para o sumário"
   ]
  },
  {
   "cell_type": "markdown",
   "id": "d0c1afa5",
   "metadata": {},
   "source": [
    "# Capítulo 14: Modelos de regressão para dados de contagem\n",
    "[&#x1F53C;](#Sumário:) Clique para voltar para o sumário"
   ]
  },
  {
   "cell_type": "markdown",
   "id": "867d7f39",
   "metadata": {},
   "source": [
    "# Capítulo 15: Modelos longitudinais de regressão para dados em painel\n",
    "[&#x1F53C;](#Sumário:) Clique para voltar para o sumário"
   ]
  },
  {
   "cell_type": "markdown",
   "id": "cf875749",
   "metadata": {},
   "source": [
    "# Capítulo 16: Modelos multiníveis de regressão para dados em painel\n",
    "[&#x1F53C;](#Sumário:) Clique para voltar para o sumário"
   ]
  },
  {
   "cell_type": "markdown",
   "id": "098ce37f",
   "metadata": {},
   "source": [
    "# Capítulo 17: Modelos de regressão para dados de sobrevivência\n",
    "[&#x1F53C;](#Sumário:) Clique para voltar para o sumário"
   ]
  },
  {
   "cell_type": "markdown",
   "id": "1d2eee9f",
   "metadata": {},
   "source": [
    "# Capítulo 18: Modelos de regressão com múltiplas variáveis dependentes\n",
    "[&#x1F53C;](#Sumário:) Clique para voltar para o sumário"
   ]
  }
 ],
 "metadata": {
  "kernelspec": {
   "display_name": "Python 3 (ipykernel)",
   "language": "python",
   "name": "python3"
  },
  "language_info": {
   "codemirror_mode": {
    "name": "ipython",
    "version": 3
   },
   "file_extension": ".py",
   "mimetype": "text/x-python",
   "name": "python",
   "nbconvert_exporter": "python",
   "pygments_lexer": "ipython3",
   "version": "3.9.16"
  }
 },
 "nbformat": 4,
 "nbformat_minor": 5
}
