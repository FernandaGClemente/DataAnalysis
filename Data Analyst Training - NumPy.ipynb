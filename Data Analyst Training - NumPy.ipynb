{
 "cells": [
  {
   "cell_type": "markdown",
   "id": "12157daf",
   "metadata": {},
   "source": [
    "<center><img width=\"25%\" src=\"https://www.camaramirimdoce.sc.gov.br/media/noticia/resumo-da-sessao-10-06-2019-111.png?w=848&h=450&t=P&c=f0f0f0&q=80&v=2\"></center>\n",
    "\n",
    "---\n",
    "\n",
    "<br>\n",
    "\n",
    "# Biblioteca NumPy\n",
    "\n",
    "<br>"
   ]
  },
  {
   "cell_type": "markdown",
   "id": "fe3fd147",
   "metadata": {},
   "source": [
    "# **<u>Sumário:</u>**\n",
    "1. [Definição](#Definição)\n",
    "2. [Matrizes](#Matrizes)\n",
    "3. [Convertendo uma lista e uma tupla em um objeto de matriz](#Convertendo-uma-lista-e-uma-tupla-em-um-objeto-de-matriz)\n",
    "4. [Dimensões em matrizes](#Dimensões-em-matrizes)\n",
    "5. [Funções de criação de matriz](#Funções-de-criação-de-matriz)\n",
    "    * np.linspace\n",
    "    * np.arange\n",
    "    * np.zeros\n",
    "    * np.one\n",
    "    * np.empty\n",
    "6. [Tipos de dados](#Tipos-de-dados) \n",
    "    * Tipos de dados do objeto NumPy\n",
    "    * Tipos de dados com códigos de caracteres\n",
    "    * Tipos de dados estruturados"
   ]
  },
  {
   "cell_type": "markdown",
   "id": "bad65349",
   "metadata": {},
   "source": [
    "## Definição\n",
    "[(Voltar para o sumário)](#Sumário:)"
   ]
  },
  {
   "cell_type": "markdown",
   "id": "5888ae35",
   "metadata": {},
   "source": [
    "### NumPy , forma abreviada de Numerical Python, é uma biblioteca poderosa para trabalhar com arrays. Ele tem um objeto de matriz multidimensional e vários utilitários para trabalhar com essas matrizes. NumPy forma uma base para outras bibliotecas Python como Pandas , Matplotlib , Scikit-learn e Scipy . <br>\n",
    "\n",
    "### O NumPy é uma alternativa às listas do Python porque supera as execuções mais lentas usando o objeto de matriz multidimensional para executar operações lógicas e matemáticas complexas. Isso significa que é mais rápido que as listas do Python na execução de operações complexas. <br>\n",
    "\n",
    "### Instalação e Importação da biblioteca:\n",
    "    Sintaxe:\n",
    "    pip install numpy\n",
    "    import numpy as np\n",
    "\n",
    "### Documentação:\n",
    "> https://numpy.org/doc/stable/index.html\n",
    "> https://www.machinelearningnuggets.com/numpy-tutorial/"
   ]
  },
  {
   "cell_type": "code",
   "execution_count": 35,
   "id": "0221fc25",
   "metadata": {},
   "outputs": [],
   "source": [
    "import numpy as np"
   ]
  },
  {
   "cell_type": "markdown",
   "id": "86982145",
   "metadata": {},
   "source": [
    "## Matrizes\n",
    "[(Voltar para o sumário)](#Sumário:)"
   ]
  },
  {
   "cell_type": "markdown",
   "id": "f2ec08d3",
   "metadata": {},
   "source": [
    "### O NumPy ndarray é um objeto de matriz N-dimensional que armazena um grupo de tipos de dados semelhantes. Por padrão, cada elemento no ndarray é um objeto do tipo de dados object(dtype). <br>\n",
    "\n",
    "### Criando objeto ndarray: <br>\n",
    "#### Criamos um array NumPy com a função array(). Quando uma lista ou tupla do Python é passada para a função de array, ela é automaticamente convertida em um arquivo ndarray. Ele é acessado com indexação baseada em zero, como em arrays regulares. <br>\n",
    "### A função array() aceita alguns parâmetros:\n",
    "    numpy.array(object, dtype = None, copy = True, order = None, subok = False, ndmin = 0)\n",
    "\n",
    "* object: Especifica o objeto, que pode ser uma lista, tupla, dicionário, etc.\n",
    "* dtype: É usado principalmente quando estamos definidno os tipos de dados, portanto, é opcional. O NumPy determinará automaticamente o tipo apropriado necessário para manter o objeto de matriz se não o definirmos. \n",
    "* order:  Especifica o layout de memória da matriz. As ordens são 'K', 'C', 'F', 'A'.\n",
    "* copy: Quando definido como verdadeiro, o objeto é copiado.\n",
    "* ndmin: Especifica o número de dimensões que queremos que o array resultante tenha. ndmin também é usado para verificar as dimensões do array.\n",
    "* subok: Quando definido como verdadeiro, as subclasses passarão. Caso contrário, a matriz resultante é forçada a ser uma matriz de classe base (padrão)."
   ]
  },
  {
   "cell_type": "markdown",
   "id": "4c65ea70",
   "metadata": {},
   "source": [
    "## Convertendo uma lista e uma tupla em um objeto de matriz \n",
    "[(Voltar para o sumário)](#Sumário:)"
   ]
  },
  {
   "cell_type": "markdown",
   "id": "4c8c1f11",
   "metadata": {},
   "source": [
    "    Sintaxe:\n",
    "    import numpy as np\n",
    "\n",
    "    lista = np.array([n°, n°, n°, n°, n°, n°])\n",
    "    tupla = np.array((n°, n°, n°, n°, n°, n°))"
   ]
  },
  {
   "cell_type": "code",
   "execution_count": 36,
   "id": "6c6eab2a",
   "metadata": {},
   "outputs": [
    {
     "name": "stdout",
     "output_type": "stream",
     "text": [
      "Esta é uma lista em array numpy:\n",
      " [900 200 300  99  54  80]\n",
      "Tipo:  <class 'numpy.ndarray'>\n",
      "Esta é uma tupla na matriz numpy:\n",
      " [ 50.   60.   90.  105.   90.6  30.8]\n",
      "Tipo:  <class 'numpy.ndarray'>\n"
     ]
    }
   ],
   "source": [
    "import numpy as np\n",
    "\n",
    "lista = np.array([900, 200, 300, 99, 54, 80])\n",
    "print(\"Esta é uma lista em array numpy:\\n\", lista)\n",
    "print(\"Tipo: \", type(lista))\n",
    "\n",
    "tupla = np.array((50, 60, 90, 105, 90.6, 30.8))\n",
    "print(\"Esta é uma tupla na matriz numpy:\\n\", tupla)\n",
    "print(\"Tipo: \", type(tupla))"
   ]
  },
  {
   "cell_type": "markdown",
   "id": "306e2a69",
   "metadata": {},
   "source": [
    "## Dimensões em matrizes \n",
    "[(Voltar para o sumário)](#Sumário:)"
   ]
  },
  {
   "cell_type": "markdown",
   "id": "c9998ddb",
   "metadata": {},
   "source": [
    "* Matrizes de dimensão zero (0-D) são valores na matriz.\n",
    "        \n",
    "        Sintaxe: array0D = np.array(n°)\n",
    "        \n",
    "* Matrizes unidimensionais (1-D) são as dimensões básicas da matriz. Eles contêm as matrizes 0-D como seus elementos.\n",
    "        \n",
    "        Sintaxe: array1D = np.array([n°, n°, n°, n°, n°])\n",
    "        \n",
    "* Matrizes bidimensionais (2-D) são matrizes com matrizes 1-D como seus elementos.\n",
    "\n",
    "        Sintaxe: array2D = np.array([[n°, n°, n°, n°], [n°, n°, n°, n°]])\n",
    "        \n",
    "* Matrizes tridimensionais (3-D) são matrizes com matrizes 2-D, também chamadas de matrizes.\n",
    "        \n",
    "        Sintaxe:\n",
    "        array3D_1 = np.array([array2D]) \n",
    "        \n",
    "        ou\n",
    "        \n",
    "        array3D_2 = np.array([\n",
    "           [[n°,n°,n°],[n°,n°,n°],[n°,n°,n°]],\n",
    "           [[n°,n°,n°],[n°,n°,n°],[n°,n°,n°]],\n",
    "           [[n°,n°,n°],[n°,n°,n°],[n°,n°,n°]]\n",
    "           ])\n",
    "           \n",
    "* Uma matriz pode ter várias dimensões. Para especificar o número de dimensões, usamos o ndimparâmetro.\n",
    "        \n",
    "        Sintaxe: array_varias_dimensões = np.array([n°, n°, n°, n°], ndmin = n°_dimensões)"
   ]
  },
  {
   "cell_type": "code",
   "execution_count": 37,
   "id": "5a8e4ebe",
   "metadata": {},
   "outputs": [
    {
     "name": "stdout",
     "output_type": "stream",
     "text": [
      "30\n",
      "Dimensão:  0\n",
      "[30 40 60 80 10]\n",
      "Dimensão:  1\n",
      "[[20 50 60 12]\n",
      " [10 15 24 23]]\n",
      "Dimensão:  2\n",
      "[[[20 50 60 12]\n",
      "  [10 15 24 23]]]\n",
      "Dimensão:  3\n",
      "[[[1 2 3]\n",
      "  [4 5 6]\n",
      "  [7 8 9]]\n",
      "\n",
      " [[9 8 7]\n",
      "  [6 5 4]\n",
      "  [3 2 1]]\n",
      "\n",
      " [[1 2 3]\n",
      "  [6 5 6]\n",
      "  [7 8 9]]]\n",
      "Dimensão:  3\n",
      "[[[[[[1 2 3 4]]]]]]\n",
      "Dimensions : 6\n"
     ]
    }
   ],
   "source": [
    "import numpy as np\n",
    "\n",
    "# Matrizes de dimensão zero (0-D)\n",
    "array0D = np.array(30)\n",
    "print(array0D)\n",
    "print(\"Dimensão: \", array0D.ndim)\n",
    "\n",
    "#  Matrizes unidimensionais (1-D\n",
    "array1D = np.array([30, 40, 60, 80, 10])\n",
    "print(array1D)\n",
    "print(\"Dimensão: \", array1D.ndim)\n",
    "\n",
    "# Matrizes bidimensionais (2-D)\n",
    "array2D = np.array([[20, 50, 60, 12], [10, 15, 24, 23]])\n",
    "print(array2D)\n",
    "print(\"Dimensão: \", array2D.ndim)\n",
    "\n",
    "# Matrizes tridimensionais (3-D)\n",
    "# a) Podemos passar uma matriz 2-D \n",
    "array3D_1 = np.array([array2D])\n",
    "print(array3D_1)\n",
    "print(\"Dimensão: \", array3D_1.ndim)\n",
    "\n",
    "# b) ou cria-se uma\n",
    "array3D_2 = np.array([\n",
    "           [[1,2,3],[4,5,6],[7,8,9]],\n",
    "           [[9,8,7],[6,5,4],[3,2,1]],\n",
    "           [[1,2,3],[6,5,6],[7,8,9]]\n",
    "           ])\n",
    "print(array3D_2)\n",
    "print(\"Dimensão: \", array3D_2.ndim)\n",
    "\n",
    "# Várias dimensões\n",
    "array_6dimensoes = np.array([1, 2, 3, 4], ndmin=6)\n",
    "print(array_6dimensoes)\n",
    "print(\"Dimensions :\", array_6dimensoes.ndim)"
   ]
  },
  {
   "cell_type": "markdown",
   "id": "60eae104",
   "metadata": {},
   "source": [
    "## Funções de criação de matriz \n",
    "[(Voltar para o sumário)](#Sumário:)"
   ]
  },
  {
   "cell_type": "markdown",
   "id": "62b26b33",
   "metadata": {},
   "source": [
    "### 1) np.linspace: <br>\n",
    "#### Precisa de pelo menos três argumentos (start,end,step). Cria uma matriz 1-D com um número especificado de valores espaçados igualmente entre os valores inicial e final. \n",
    "#### Step especifica o espaço entre os valores.\n",
    "    Sintaxe: linspace_array = np.linspace(Valor_inicial, Valor_final, espaço_entre_inicial_final) "
   ]
  },
  {
   "cell_type": "code",
   "execution_count": 38,
   "id": "43b1b561",
   "metadata": {},
   "outputs": [
    {
     "name": "stdout",
     "output_type": "stream",
     "text": [
      "[2.  2.6 3.2 3.8 4.4 5. ]\n"
     ]
    }
   ],
   "source": [
    "import numpy as np\n",
    "\n",
    "linspace_array = np.linspace(2., 5., 6) \n",
    "print(linspace_array)"
   ]
  },
  {
   "cell_type": "markdown",
   "id": "223fe812",
   "metadata": {},
   "source": [
    "### 2) np.arange: <br>\n",
    "#### Precisa de pelo menos três argumentos (start,end,step). Cria uma matriz 1-D com valores incrementais. \n",
    "#### Sua vantagem sobre a função do range() é que ela permite a geração de uma série de valores que não são inteiros. range() dá um erro se tentar fazer isso.\n",
    "    Sintaxe: arange_array = np.arange(Valor_inicial, Valor_final, valor_incremental)\n",
    "    \n",
    "#### OBS: Se fornecer apenas um argumento para a função arange(), funcionará com: start = 0 e step = 1."
   ]
  },
  {
   "cell_type": "code",
   "execution_count": 39,
   "id": "9983cd50",
   "metadata": {},
   "outputs": [
    {
     "name": "stdout",
     "output_type": "stream",
     "text": [
      "[ 1.  5.  9. 13. 17. 21. 25. 29.]\n"
     ]
    }
   ],
   "source": [
    "import numpy as np\n",
    "\n",
    "arange_array = np.arange(1, 30., 4)\n",
    "print(arange_array)"
   ]
  },
  {
   "cell_type": "markdown",
   "id": "08e5c16a",
   "metadata": {},
   "source": [
    "### 3) np.zeros: <br>\n",
    "#### Cria uma matriz preenchida com zeros e com a forma especificada.\n",
    "    Sintaxe: array_zeros = np.zeros((quantidade_matriz, n°linhas, n°colunas))"
   ]
  },
  {
   "cell_type": "code",
   "execution_count": 40,
   "id": "124bee86",
   "metadata": {},
   "outputs": [
    {
     "name": "stdout",
     "output_type": "stream",
     "text": [
      "[[[0. 0. 0.]\n",
      "  [0. 0. 0.]\n",
      "  [0. 0. 0.]]\n",
      "\n",
      " [[0. 0. 0.]\n",
      "  [0. 0. 0.]\n",
      "  [0. 0. 0.]]]\n"
     ]
    }
   ],
   "source": [
    "import numpy as np\n",
    "\n",
    "# No caso desse código, o array é de três dimensões, com dimensões 2x3x3, ou seja, possui 2 \"camadas\" com 3 linhas e 3 colunas cada.\n",
    "array_zeros = np.zeros((2, 3, 3))\n",
    "print(array_zeros)"
   ]
  },
  {
   "cell_type": "markdown",
   "id": "2974033f",
   "metadata": {},
   "source": [
    "### 4) np.one: <br>\n",
    "#### Cria uma matriz preenchida com uns e com a forma especificada.\n",
    "    Sintaxe: array_zeros = np.ones((quantidade_matriz, n°linhas, n°colunas))"
   ]
  },
  {
   "cell_type": "code",
   "execution_count": 41,
   "id": "964d8441",
   "metadata": {},
   "outputs": [
    {
     "name": "stdout",
     "output_type": "stream",
     "text": [
      "[[[1. 1. 1.]\n",
      "  [1. 1. 1.]\n",
      "  [1. 1. 1.]]\n",
      "\n",
      " [[1. 1. 1.]\n",
      "  [1. 1. 1.]\n",
      "  [1. 1. 1.]]]\n"
     ]
    }
   ],
   "source": [
    "import numpy as np\n",
    "\n",
    "array_uns = np.ones((2, 3, 3))\n",
    "print(array_uns)"
   ]
  },
  {
   "cell_type": "markdown",
   "id": "a183a494",
   "metadata": {},
   "source": [
    "### 5) np.empty: <br>\n",
    "#### É utilizada para criar um array com valores iniciais aleatórios, que podem ser diferentes a cada execução do código. \n",
    "#### O dtype é utilizada para definir o tipo de dado dos elementos.\n",
    "    Sintaxe: array_empty = np.empty([n°linhas, n°colunas], dtype=\"Tipo de dados\")"
   ]
  },
  {
   "cell_type": "code",
   "execution_count": 42,
   "id": "98476710",
   "metadata": {},
   "outputs": [
    {
     "name": "stdout",
     "output_type": "stream",
     "text": [
      "[[1039033464        635         50          0          0]\n",
      " [         0          0          0          0         52]\n",
      " [1852990827  808348773  878850361  761409592 1650865509]\n",
      " [ 942683181  809053539 1630365239  862217570  879059250]\n",
      " [ 778449209 1952543859 1714451317  909259108  909337909]]\n"
     ]
    }
   ],
   "source": [
    "import numpy as np\n",
    "\n",
    "# Um array de duas dimensões com 5 linhas e 5 colunas, preenchido com valores não inicializados.\n",
    "# A opção \"dtype=int\" é utilizada para definir o tipo de dado dos elementos do array como inteiros.\n",
    "array_empty = np.empty([5, 5], dtype=int)\n",
    "print(array_empty)"
   ]
  },
  {
   "cell_type": "markdown",
   "id": "a9bbb5b1",
   "metadata": {},
   "source": [
    "## Tipos de dados\n",
    "[(Voltar para o sumário)](#Sumário:)"
   ]
  },
  {
   "cell_type": "markdown",
   "id": "aef8f1d9",
   "metadata": {},
   "source": [
    "### NumPy tem uma variedade de tipos de dados escalares. Cada um de seus tipos de dados integrados possui um código de caractere que o identifica.\n",
    "\n",
    "<br>\n",
    "\n",
    "* i – o código do caractere é para números inteiros (int8, int16, int32, int64, intp).\n",
    "* u – código de caractere para inteiros sem sinal (uint8, uint16, uint32, uint64).\n",
    "* f – código de caractere para floats(float16, float32, float32).\n",
    "* c – código de caracteres para floats complexos (complex64, complex128).\n",
    "* S – código de caractere para string.\n",
    "* O – código de caractere para o objeto.\n",
    "* M – código de caractere para data e hora.\n",
    "* b – código de caractere para booleano.\n",
    "* U – código de caractere para string unicode.\n",
    "\n",
    "<br>\n",
    "\n",
    "        Sintaxe:bjeto = np.dtype('Caracter_n°tamanho')\n",
    "        \n",
    "<br>\n",
    "\n",
    "### Os itens da matriz são objeto dtypes, onde cada objeto de tipo de dados possui um bloco de memória fixo em relação à matriz. Criamos o objeto dtypes com o construtor numpy.dtype()]. Este construtor recebe três parâmetros que são:\n",
    "\n",
    "    Sintaxe: np.dtype(dtype, align=False, copy=False)\n",
    "    \n",
    "* Objeto (dtype): Representa o objeto para o qual queremos ser convertidos.\n",
    "* Align: Pode ser definido como Verdadeiro ou Falso. Se definido como true, adicionará preenchimento para tornar o objeto igual a uma estrutura C.\n",
    "* Copy: Gera uma cópia do objeto.\n",
    "\n",
    "<br>\n",
    "\n",
    "### Para verificar o tipo de dados de um objeto, usamos dtype como atributo:\n",
    "    Sintaxe: objeto.dtype"
   ]
  },
  {
   "cell_type": "code",
   "execution_count": 43,
   "id": "d3ccf6aa",
   "metadata": {},
   "outputs": [
    {
     "name": "stdout",
     "output_type": "stream",
     "text": [
      "int32 \n",
      " Tipo:  <class 'numpy.int32'>\n",
      "complex128 \n",
      " Tipo:  <class 'numpy.complex128'>\n",
      "bool \n",
      " Tipo:  <class 'numpy.bool_'>\n",
      "float32 \n",
      " Tipo:  <class 'numpy.float32'>\n",
      "uint64 \n",
      " Tipo:  <class 'numpy.uint64'>\n"
     ]
    }
   ],
   "source": [
    "# Observe que os tipos de dados criados são exatamente do tipo de dados do objeto NumPy.\n",
    "import numpy as np\n",
    "\n",
    "dtype_inteiro = np.dtype(np.int32) \n",
    "print(dtype_inteiro, \"\\n Tipo: \", dtype_inteiro.type)\n",
    "\n",
    "dtype_complexos = np.dtype(np.complex128) \n",
    "print(dtype_complexos, \"\\n Tipo: \", dtype_complexos.type)\n",
    "\n",
    "dtype_booleanos = np.dtype(np.bool_) \n",
    "print(dtype_booleanos, \"\\n Tipo: \", dtype_booleanos.type)\n",
    "\n",
    "dtype_float = np.dtype(np.float32) \n",
    "print(dtype_float, \"\\n Tipo: \", dtype_float.type)\n",
    "\n",
    "dtype_inteiro_sem_sinal = np.dtype(np.uint64)\n",
    "print(dtype_inteiro_sem_sinal, \"\\n Tipo: \", dtype_inteiro_sem_sinal.type) "
   ]
  },
  {
   "cell_type": "code",
   "execution_count": 44,
   "id": "ef8555fe",
   "metadata": {},
   "outputs": [
    {
     "name": "stdout",
     "output_type": "stream",
     "text": [
      "int32 \n",
      " Tipo:  <class 'numpy.int32'>\n",
      "float64 \n",
      " Tipo:  <class 'numpy.float64'>\n",
      "complex128 \n",
      " Tipo:  <class 'numpy.complex128'>\n",
      "uint64 \n",
      " Tipo:  <class 'numpy.uint64'>\n"
     ]
    }
   ],
   "source": [
    "# Usando os códigos de caracteres\n",
    "import numpy as np\n",
    "\n",
    "dtype_inteiro = np.dtype('i4')\n",
    "print(dtype_inteiro, \"\\n Tipo: \", dtype_inteiro.type)\n",
    "\n",
    "dtype_float = np.dtype('f8')\n",
    "print(dtype_float, \"\\n Tipo: \", dtype_float.type)\n",
    "\n",
    "dtype_complexos = np.dtype('c16')\n",
    "print(dtype_complexos, \"\\n Tipo: \", dtype_complexos.type)\n",
    "\n",
    "dtype_inteiro_sem_sinal = np.dtype('u8')\n",
    "print(dtype_inteiro_sem_sinal, \"\\n Tipo: \", dtype_inteiro_sem_sinal.type)"
   ]
  },
  {
   "cell_type": "markdown",
   "id": "7d4f0f53",
   "metadata": {},
   "source": [
    "### Criando tipos de dados estruturados: <br>\n",
    "#### Um tipo de dados estruturado é uma coleção de campos onde cada campo tem um nome, um tipo de dados e um deslocamento de byte. O campo de tipo de dados pode ser qualquer tipo de dados NumPy enquanto NumPy determina automaticamente o deslocamento de bytes, mas você pode especificá-lo.<br>\n",
    "* Criando uma lista de tuplas onde cada campo tem uma tupla. Cada tupla terá o formato (fieldname, datatype, shape).\n",
    "    * fieldname = nome do campo\n",
    "    * datatype = tipo de dados\n",
    "    * shape = forma é opcional\n",
    "OBS: Se deixar em fieldname branco, será automaticamente atribuído um nome padrão do campo f#, onde o # é o índice do campo contando a partir do índice 0.\n",
    "\n",
    "<br>\n",
    "\n",
    "* Criando uma lista de especificações dtype separadas por vírgula. O fieldnames e o deslocamento de byte são atribuídos automaticamente. Os nomes dos campos recebem nomes f0, f1, f2...de acordo com o índice do campo. \n",
    "\n",
    "<br>\n",
    "\n",
    "* Criando um dicionário de matrizes de parâmetros de campo. Teremos pelo menos quatro chaves para usar, que são:\n",
    "    * names:  deve ter uma lista de nomes de campos [].\n",
    "    * formats: deve ser uma lista dtypes do mesmo tamanho.\n",
    "    * offsets (opcional): O valor deve ter uma lista de deslocamentos de bytes inteiros.\n",
    "    * itemsize (opcional): O valor deve ser um inteiro descrevendo o tamanho total do arquivo dtype."
   ]
  },
  {
   "cell_type": "code",
   "execution_count": 45,
   "id": "c5b1d681",
   "metadata": {},
   "outputs": [
    {
     "name": "stdout",
     "output_type": "stream",
     "text": [
      "[('name', 'S20'), ('age', '<i2'), ('marks', '<f4', (2, 2))]\n",
      "[('f0', 'S20'), ('f1', '<i2'), ('f2', '<f4')]\n",
      "[('f0', '<i2', (3,)), ('f1', '<f4'), ('f2', '<f8', (2, 3))]\n",
      "{'names': ['name', 'salary'], 'formats': ['<i4', '<f4'], 'offsets': [0, 4], 'itemsize': 12}\n"
     ]
    }
   ],
   "source": [
    "import numpy as np\n",
    "\n",
    "# tipos de dados estruturados com uma lista de tuplas\n",
    "lista_tuplas_1 = np.dtype(([('name', 'S20'), ('age', np.int16), ('marks', 'f4', (2, 2))]))\n",
    "print(lista_tuplas_1)\n",
    "\n",
    "# dtypes separados por vírgula\n",
    "lista_tuplas_2a = np.dtype('S20, int16, f4')\n",
    "print(lista_tuplas_2a)\n",
    " \n",
    "lista_tuplas_2b = np.dtype('3int16, float32, (2, 3)float64')\n",
    "print(lista_tuplas_2b)\n",
    "\n",
    "# Criando um dicionário de matrizes de parâmetros de campo\n",
    "lista_tuplas_3 = np.dtype({'names': ['name', 'salary'],\n",
    "          'formats': ['i4', 'f4'],\n",
    "          'offsets': [0, 4],\n",
    "          'itemsize': 12})\n",
    "print(lista_tuplas_3)"
   ]
  },
  {
   "cell_type": "code",
   "execution_count": 46,
   "id": "4c14679e",
   "metadata": {},
   "outputs": [
    {
     "name": "stdout",
     "output_type": "stream",
     "text": [
      "[[(0., b'string 0')]\n",
      " [(1., b'string 1')]\n",
      " [(2., b'string 2')]\n",
      " [(3., b'string 3')]\n",
      " [(4., b'string 4')]\n",
      " [(5., b'string 5')]\n",
      " [(6., b'string 6')]\n",
      " [(7., b'string 7')]\n",
      " [(8., b'string 8')]\n",
      " [(9., b'string 9')]]\n"
     ]
    }
   ],
   "source": [
    "import numpy as np\n",
    "\n",
    "# criar uma matriz vazia com 10 linhas e 1 coluna, onde \n",
    "arr = np.empty((10,1), dtype=np.dtype([('a','f8'),('b','S10')]))\n",
    "\n",
    "# preencha a matriz com valores aleatórios\n",
    "# preenche cada linha com um valor aleatório para o campo 'a' (um número inteiro de 0 a 9)\n",
    "# e uma string para o campo 'b' (com o valor 'string' seguido pelo número da linha).\n",
    "for i in range(10):\n",
    "    arr[i] = (i, 'string ' + str(i))\n",
    "\n",
    "print(arr)"
   ]
  },
  {
   "cell_type": "markdown",
   "id": "115033e8",
   "metadata": {},
   "source": [
    "## Matrizes estruturadas\n",
    "[(Voltar para o sumário)](#Sumário:)"
   ]
  },
  {
   "cell_type": "markdown",
   "id": "6bfa0b5d",
   "metadata": {},
   "source": [
    "Estas são matrizes cujo tipo de dados é estruturado."
   ]
  },
  {
   "cell_type": "code",
   "execution_count": 47,
   "id": "b417e439",
   "metadata": {},
   "outputs": [
    {
     "name": "stdout",
     "output_type": "stream",
     "text": [
      "[('John', 23, 100.4) ('Mercy', 30,  58.3)]\n",
      "[('name', '<U10'), ('age', '<i4'), ('weight', '<f4')]\n"
     ]
    }
   ],
   "source": [
    "import numpy as np\n",
    "\n",
    "structured_arr = np.array([('John', 23, 100.4), ('Mercy', 30, 58.3)],\n",
    "             dtype=[('name', 'U10'), ('age', 'i4'), ('weight', 'f4')])\n",
    "print(structured_arr)\n",
    "print(structured_arr.dtype) "
   ]
  },
  {
   "cell_type": "code",
   "execution_count": 48,
   "id": "75bb7f6d",
   "metadata": {},
   "outputs": [
    {
     "name": "stdout",
     "output_type": "stream",
     "text": [
      "Data: \n",
      " [('Bentley', 1400.8, 'Blue', 240.) ('Toyota', 2500. , 'Green', 180.)\n",
      " ('Audi', 1600. , 'White', 300.) ('Ford', 1700. , 'Black', 260.)]\n",
      "All vehicle Models:\n",
      " ['Bentley' 'Toyota' 'Audi' 'Ford']\n"
     ]
    }
   ],
   "source": [
    "import numpy as np\n",
    "\n",
    "model = ['Bentley', 'Toyota', 'Audi', 'Ford']\n",
    "weight = [1400.8, 2500, 1600, 1700]\n",
    "color = ['Blue', 'Green', 'White', 'Black']\n",
    "speed = [240, 180, 300, 260]\n",
    "vehicle_data = np.zeros(4, dtype={'names': ['model', 'weight', 'color', 'speed'],\n",
    "                 'formats': ['U10', 'f8', 'U10', 'f8']\n",
    "                 })\n",
    "vehicle_data['model'] = model\n",
    "vehicle_data['weight'] = weight\n",
    "vehicle_data['color'] = color\n",
    "vehicle_data['speed'] = speed\n",
    "\n",
    "print(\"Data: \\n\", vehicle_data)\n",
    "print(\"All vehicle Models:\\n\", vehicle_data['model'])"
   ]
  },
  {
   "cell_type": "code",
   "execution_count": null,
   "id": "25827cc1",
   "metadata": {},
   "outputs": [],
   "source": []
  }
 ],
 "metadata": {
  "kernelspec": {
   "display_name": "Python 3 (ipykernel)",
   "language": "python",
   "name": "python3"
  },
  "language_info": {
   "codemirror_mode": {
    "name": "ipython",
    "version": 3
   },
   "file_extension": ".py",
   "mimetype": "text/x-python",
   "name": "python",
   "nbconvert_exporter": "python",
   "pygments_lexer": "ipython3",
   "version": "3.9.16"
  }
 },
 "nbformat": 4,
 "nbformat_minor": 5
}
