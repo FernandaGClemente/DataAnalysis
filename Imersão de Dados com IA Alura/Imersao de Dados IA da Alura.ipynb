{
 "cells": [
  {
   "cell_type": "markdown",
   "id": "a0f48f97",
   "metadata": {},
   "source": [
    "# Imersão de Dados com IA \n",
    "@AluraOnline"
   ]
  },
  {
   "cell_type": "markdown",
   "id": "7b4f7141",
   "metadata": {},
   "source": [
    "### AULA 01: ANÁLISE EXPLORATÓRIA DA BASE DE DADOS E CHATGPT <br>\n",
    "\n",
    "#### Introdução: <br>\n",
    "#### Trabalhar com dados no Excel e no Google Sheets se tornou uma habilidade essencial em diversas áreas, incluindo marketing, vendas e muitas outras. Essas ferramentas oferecem uma plataforma versátil para coletar, analisar e visualizar dados, permitindo que profissionais tomem decisões assertivas e estratégicas. <br>\n",
    "\n",
    "#### Nesta primeira aula, vamos te apresentar o Kaggle e fazer uma análise exploratória com uma base de dados de compras da Amazon, usando o ChatGPT como auxiliar na hora de gerar fórmulas básicas do Google Sheets. <br>\n",
    "\n",
    "#### Abaixo, disponibilizamos todo o material necessário para que você acompanhe a aula e avance em seu projeto. <br>\n",
    "\n",
    "#### Para começar, faça uma cópia da planilha de dados da Amazon usada na aula. \n",
    "> https://docs.google.com/spreadsheets/d/1pzFHqIAKdNOfbyecJ9hSYUXA3YSbXXF6pYEqLA_0b9k/edit#gid=105405843\n",
    "\n",
    "<br>\n",
    "\n",
    "#### Informações representadas por cada coluna na planilha de dados:\n",
    "\n",
    "* product_id: ID do produto\n",
    "* product_name: Nome do produto\n",
    "* category: Categoria do produto\n",
    "* actual_price: Valor do produto com desconto\n",
    "* product_price: Valor do produto com valor cheio\n",
    "* rating: Valor de 0 a 5 avaliando o produto\n",
    "* rating_count: Quantidade de pessoas que avaliaram o produto\n",
    "* about_product: Descrição do produto\n",
    "* product_link: Link do produto na loja da Amazon\n",
    "\n",
    "<br>\n",
    "\n",
    "#### Desafios do dia: \n",
    "* Adicionar a formatação condicional de cores à coluna de porcentagens.\n",
    "* Faça uma análise exploratória e aplique as mesmas técnicas com o ChatGPT a uma nova base de dados do Kaggle: Top 1000 IMDb Movies Dataset. \n",
    "> https://www.kaggle.com/datasets/inductiveanks/top-1000-imdb-movies-dataset"
   ]
  },
  {
   "cell_type": "markdown",
   "id": "969f31e6",
   "metadata": {},
   "source": [
    "### AULA 02: MANIPULE PLANILHAS E CRIE GRÁFICOS COM AJUDA DA IA <br>\n",
    "#### Introdução: <br>\n",
    "#### Chegou a hora de avançar seus** aprendizados e usar a IA como assistente na manipulação de planilhas**. <br>\n",
    "\n",
    "#### Na segunda aula, vamos dar continuidade à utilização do ChatGPT para aprender a criar fórmulas no Google Sheets. Abordaremos algumas fórmulas mais avançadas, como o cálculo de média para faixas de valores e média ponderada, exploraremos a criação de gráficos e te apresentaremos a uma nova ferramenta de IA para dados. Vamos lá? <br>\n",
    "\n",
    "#### Clique aqui e acesse a planilha de dados da Amazon usada na aula \n",
    "> https://docs.google.com/spreadsheets/d/1vfgOR26f-ZH9SKN3JaTlUnSj5IpENS79sXvus6mV46E/edit#gid=105405843\n",
    "\n",
    "#### Desafio do dia: \n",
    "* Personalize o gráfico para adicionar as quantidades\n",
    "* Analise qual seria o melhor gráfico para o seu caso usando o guia citado pelo Marcell, que está nos links da aula\n",
    "* Faça uma análise exploratória e aplique as mesmas técnicas vistas na aula de hoje, incluindo a criação de gráficos, a uma nova base de dados do Kaggle: base de dados de hoteis do Kaggle.\n",
    "> https://www.kaggle.com/datasets/andrewgeorgeissac/hotels-in-munnar-kerala"
   ]
  },
  {
   "cell_type": "markdown",
   "id": "158b74a7",
   "metadata": {},
   "source": [
    "### AULA 03: CONECTE PLANILHAS E DOMINE CONCEITOS DE ENGENHARIA DE PROMPT <br>\n",
    "#### Introdução: <br>\n",
    "\n",
    "#### Na terceira aula dessa imersão, iremos um pouco mais fundo. Vamos mergulhar em uma nova base de dados, também da Amazon, que é relacionada à base antiga, e aprenderemos como conectá-las usando uma coluna comum a ambas. Apresentaremos também uma extensão que te permitirá ter o ChatGPT dentro do seu Google Sheets, e a empregaremos para realizar traduções, resumos e análises de sentimento de críticas. Por fim, focaremos uma parte da aula em te passar alguns dos principais conceitos de Engenharia de Prompt, como o uso de “few-shot” com o cadeia de pensamento, a fim de obter respostas mais precisas de IAs generativas como o ChatGPT.\n",
    "\n",
    "#### Para começar, faça uma cópia da nova planilha de dados da Amazon que será analisada e conectada com a antiga.\n",
    "> https://docs.google.com/spreadsheets/d/1ECBmuHz75Fsb3aCWsLBxg_DKZiBLdilrFj7rzc-N65s/edit#gid=1074485333\n",
    "\n",
    "#### Informações representadas por cada coluna na nova planilha de dados:\n",
    "* product_id: ID do produto\n",
    "* user_id: ID único do usuário\n",
    "* user_name: Nome escolhido pelo usuário\n",
    "* review_id: ID da crítica\n",
    "* review_title: Título da crítica\n",
    "* review_content: Conteúdo da crítica\n",
    "img_link: Link da imagem do produto\n",
    "\n",
    "<br>\n",
    "\n",
    "#### Prompts da aula:\n",
    "#### Pergunta: Tenho uma lista de valores. O meu resultado final será 30% da soma de valores. Porém, nem todos os valores serão somados, apenas aqueles acima de 40.000,00. Para a lista abaixo, conte quantos valores existem e me diga qual é o meu resultado final?\n",
    "\n",
    "* 10.000,00\n",
    "* 20.000,00\n",
    "* 50.000,00\n",
    "* 60.000,00\n",
    "\n",
    "<br>\n",
    "\n",
    "#### Resposta: Nessa lista, existem 4 valores. Há 2 valores acima de 40.000,00, que são 50.000,00 e 60.000,00. A soma desses valores é 110.000,00. O resultado final é 30% da soma desses valores, portanto, 30% de 110.000,00, que resulta em 33.000,00. <br>\n",
    "\n",
    "#### Pergunta: Tenho uma lista de valores. O meu resultado final será 30% da soma de valores. Porém, nem todos os valores serão somados, apenas aqueles acima de 40.000,00. Para a lista abaixo, conte quantos valores existem e me diga qual é o meu resultado final? <br>\n",
    "\n",
    "(COLAR AQUI OS 10 VALORES DA NOSSA LISTA REAL DO GOOGLE SHEETS)\n",
    "\n",
    "<br>\n",
    "\n",
    "#### Resposta: <br>\n",
    "\n",
    "<br>\n",
    "\n",
    "#### Desafio do dia:\n",
    "* Gere a tradução das críticas e faça uma análise de sentimentos das mesmas usando a extensão SheetGPT em uma nova base de dados do Kaggle: base de críticas do aplicativo Threads.\n",
    "> https://www.kaggle.com/datasets/saloni1712/threads-an-instagram-app-reviews"
   ]
  },
  {
   "cell_type": "markdown",
   "id": "8d102253",
   "metadata": {},
   "source": [
    "### AULA 04: MANIPULE PLANILHAS COM PYTHON/PANDAS E O CHATGPT <br>\n",
    "#### Introdução: <br>\n",
    "#### Chegou a hora de conhecer o Google Colab. Vamos mergulhar em Python e na biblioteca de manipulação de dados Pandas, demonstrando como importar tabelas e realizar análises iniciais com os comandos mais importantes. Não se preocupe se você não sabe programar! Nós utilizaremos o ChatGPT para nos auxiliar na criação de código em Python e Pandas, e também para plotar gráficos. <br>\n",
    "\n",
    "#### Planilha de ‘dados’ da Amazon usada na aula Planilha de ‘avaliações’ usada na aula\n",
    "> https://docs.google.com/spreadsheets/d/1ECBmuHz75Fsb3aCWsLBxg_DKZiBLdilrFj7rzc-N65s/edit#gid=1074485333\n",
    "\n",
    "<br>\n",
    "\n",
    "#### Desafios do dia:\n",
    "* Usando o Google Colab com Python e Pandas, criar uma nova coluna chamada “actual_price_real”, que será o valor da coluna “actual_price” convertido para reais (dica: você pode apenas multiplicar o valor em rúpias por 0.05, como fizemos na Aula 01, ou então buscar o valor de hoje da conversão entre rúpias indianas e reais brasileiros no Google).\n",
    "* Realizar as análises que foram executadas nas aulas anteriores usando o Google Sheets, mas agora utilizando Python e Pandas no Google Colab.\n",
    "* Conectar as duas planilhas usadas nas aulas anteriores, como fizemos com o VLOOKUP, mas usando Python e Pandas.\n",
    "* Colocar a base já corrigida na biblioteca Pandas Profiling citada no conteúdo extra."
   ]
  },
  {
   "cell_type": "markdown",
   "id": "08bac706",
   "metadata": {},
   "source": [
    "### AULA 05: CARREIRAS EM ANÁLISE DE DADOS E INTELIGÊNCIA ARTIFICIAL <br>\n",
    "#### Introdução: <br>\n",
    "#### Se prepare para mergulhar na última aula da imersão, onde iremos explicar as diferenças entre as principais carreiras nessa área de dados, tais como Analista de Dados, Cientista de Dados, Engenheiro de Dados, Engenheiro de Machine Learning, Engenheiro de IA e Engenheiro de Prompt. Vamos lá?"
   ]
  }
 ],
 "metadata": {
  "kernelspec": {
   "display_name": "Python 3 (ipykernel)",
   "language": "python",
   "name": "python3"
  },
  "language_info": {
   "codemirror_mode": {
    "name": "ipython",
    "version": 3
   },
   "file_extension": ".py",
   "mimetype": "text/x-python",
   "name": "python",
   "nbconvert_exporter": "python",
   "pygments_lexer": "ipython3",
   "version": "3.9.16"
  }
 },
 "nbformat": 4,
 "nbformat_minor": 5
}
