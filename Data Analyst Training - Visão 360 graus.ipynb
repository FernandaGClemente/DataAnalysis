{
 "cells": [
  {
   "cell_type": "markdown",
   "id": "790ccfa9",
   "metadata": {},
   "source": [
    "\n",
    "<center><img width=\"25%\" src=\"https://www.camaramirimdoce.sc.gov.br/media/noticia/resumo-da-sessao-10-06-2019-111.png?w=848&h=450&t=P&c=f0f0f0&q=80&v=2\"></center>\n",
    "\n",
    "---\n",
    "\n",
    "<br>\n",
    "\n",
    "# Data Analyst Training - Visão 360 graus\n",
    "\n",
    "<br>"
   ]
  },
  {
   "cell_type": "markdown",
   "id": "fcecfc95",
   "metadata": {},
   "source": [
    "#### Conhecimento é poder. Essa é uma das grandes verdades do mundo corporativo, mas não está relacionada apenas aos currículos dos profissionais; e, sim, sobre ter uma visão 360 graus de todos os dados da operação da sua empresa, para uma tomada de decisão cirurgicamente eficiente.<br>\n",
    "#### Imagine investir sua força total, em um novo mercado, sem saber que o estoque, da principal matéria-prima do negócio, não comportaria o aumento repentino da demanda? E se, junto com esse contraponto, ainda houvessem outros fatores que poderiam comprometer a ação, como questões tributárias não resolvidas ou falta de funcionário capacitado? <br>\n",
    "#### A questão é que as estratégias e ações tomadas em um negócio nunca afetam somente um setor ou produto, mas toda a organização; e ter uma visão geral dessas conexões e do desempenho de cada uma delas, permite que o gestor tome decisões que, em vez de desequilibrar suas áreas, tornam suas conexões mais fortes e produtivas. <br>\n",
    "#### Quer entender melhor como a visão 360 graus funcionam nessa engrenagem? "
   ]
  },
  {
   "cell_type": "markdown",
   "id": "32ab8a01",
   "metadata": {},
   "source": [
    "## Conceito de visão 360 graus do negócio <br>\n",
    "#### Um giro completo, permite que uma pessoa visualize tudo que está a sua volta. Na empresa, a visão 360 graus é exatamente isso, ter ciência plena de tudo o que acontece, em seus diversos níveis organizacionais. Para conseguir executar essa ação, existem quatro pontos fundamentais para a administração."
   ]
  },
  {
   "cell_type": "markdown",
   "id": "a2088d7c",
   "metadata": {},
   "source": [
    "### Organização <br>\n",
    "#### A gestão é contínua, mas, para que ela tenha sucesso, precisa de uma organização detalhada em processos e conexões. Aqui, vale dizer, novamente, que conhecimento é poder. No compartilhamento de dados entre setores, por exemplo, quanto mais eficiente é sua organização, melhores são os resultados e a sintonia entre eles. Uma boa organização, na atualidade, deve ser fundamentada em um fluxo de trabalho — ou em um processo, desburocratizado, que conecte todas as áreas envolvidas e permita a análise global e individual de cada setor."
   ]
  },
  {
   "cell_type": "markdown",
   "id": "a8d58796",
   "metadata": {},
   "source": [
    "### Planejamento <br>\n",
    "#### Com a base estabelecida, o próximo passo – e um dos mais fundamentais para a visão 360 graus da empresa – é o planejamento. Nele, a determinação de objetivos irá ditar quais as melhores estratégias, a serem executadas na operação da empresa. Assim, considerando suas metas, o gestor e sua equipe determinam quais seus parâmetros de sucesso; ou melhor, seus indicadores de performances, que servirão de orientação para a direção das ações."
   ]
  },
  {
   "cell_type": "markdown",
   "id": "a93aca10",
   "metadata": {},
   "source": [
    "### Gestão <br>\n",
    "#### Determinando o direcionamento dos setores, para que o planejamento seja executado, o gestor precisará não somente dos dados de seus sistemas, mas também de sua liderança para engajar e colocar sua equipe focada nos objetivos determinados. A direção também envolve:\n",
    "* a delegação de responsabilidades;\n",
    "* estipulação de planos de metas individuais;\n",
    "* feedback da equipe;\n",
    "* e, principalmente, a capacidade de analisar todo o panorama de resultados e acontecimentos, para que tais ações sejam executadas, de acordo com as necessidades da empresa."
   ]
  },
  {
   "cell_type": "markdown",
   "id": "26968b75",
   "metadata": {},
   "source": [
    "### Controle <br>\n",
    "#### O controle deve ser pontual, em todas as etapas do negócio e considerando, sempre, os indicadores de sucesso e os resultados. Se eles estiverem aquém do estipulado, medidas corretivas precisam ser tomadas. Para isso, é necessário ter o embasamento de análises fiéis ao desempenho da empresa, pois, somente assim, as decisões realmente poderão corrigir a rota determinada no planejamento. Aplicando esses fundamentos, em um estilo de gestão e com as ferramentas certas, é possível ter um ciclo intermitente de boas tomadas de decisão, direcionamentos e ajustes pontuais; e, por fim, controle e apuração de resultados. Ou seja, essa visão sistêmica garante, à empresa, uma análise, interna e externa, bem minuciosas; melhor compreensão do mercado; estímulo do trabalho em equipe; e reconhecimento da contribuição de todos, para os resultados do negócio. <br>\n",
    "#### Uma solução gerencial, que traz como um de seus benefícios para a gestão o engajamento e melhoria do clima organizacional, merece atenção, não é mesmo? Então, vejamos suas outras contribuições."
   ]
  },
  {
   "cell_type": "markdown",
   "id": "63c6e2e7",
   "metadata": {},
   "source": [
    "## Vantagens que agregam à gestão <br>\n",
    "#### A integração dos setores, sem dúvidas, permite que seus colaboradores enxerguem as influências positivas dos demais colegas e funcionários do setor. Para o gestor, isso significa um clima organizacional mais produtivo e até mesmo inovador; afinal de contas, ideias que integram dois ou mais setores, no intuito de melhorar seus processos, podem trazer bons resultados para o negócio."
   ]
  },
  {
   "cell_type": "markdown",
   "id": "a92a73a4",
   "metadata": {},
   "source": [
    "## Potencialização de processos e integração de setores <br>\n",
    "#### Com uma visão 360 graus, também é possível enxergar gargalos nos processos, elementos que podem estar comprometendo os resultados da empresa e o impacto de cada área no sucesso do negócio. <br>\n",
    "#### Voltando ao exemplo da introdução, a visão sistêmica do negócio permite que a empresa avalie, antes das tomadas de decisão, quais serão os efeitos em cada setor e, então, antecipadamente, criar resoluções que garantam que a ação possa ser concretizada, com o máximo de eficiência. Assim, para entrar no novo mercado, a empresa pode, antes, aguardar o treinamento da equipe, pedir à área de compras para buscar novos fornecedores e, ainda, envolver os demais setores que precisariam atuar nessa nova estratégia, de maneira integrada. Ou seja, as áreas de marketing, comercial, operacional, estoque, logística, infraestrutura, TI e todos os demais relacionados e responsáveis poderiam atuar e ter conhecimento do andamento dos projetos, seus indicadores e resultados."
   ]
  },
  {
   "cell_type": "markdown",
   "id": "93879c4b",
   "metadata": {},
   "source": [
    "## Planejamento fundamentado <br>\n",
    "#### A visão 360 graus é uma ferramenta que permita seu controle e análise de resultados, garantem que os planejamentos sejam fundamentados em dados reais da operação. Então, em vez de criar metas inatingíveis ou ações impossíveis de serem executadas, o gestor pode planejar da forma correta, considerando os custos para as finanças da empresa e a disponibilidade de seus recursos humanos e materiais."
   ]
  },
  {
   "cell_type": "markdown",
   "id": "566f8fce",
   "metadata": {},
   "source": [
    "## Efeitos no relacionamento com o cliente <br>\n",
    "#### A visão 360 graus também trazem importantes efeitos no relacionamento com o seu cliente, pois, quanto mais se sabe sobre suas necessidades e seu comportamento, maiores são as chances de oferecer um atendimento realmente personalizado. Como um dos pilares da visão sistêmica é a integração de setores e informações, tanto a área de apoio, quanto a de relacionamento direto com o cliente, podem se beneficiar da troca de dados. <br>\n",
    "#### Isso garante, entre outros benefícios, a potencialização de processos internos, que afetam o atendimento do cliente; a redução de custos, que permite uma melhor gestão de preços; e o completo entendimento das necessidades do comprador, que por vezes, permitirá que a empresa antecipe suas demandas e ofereça soluções que os surpreendam positivamente."
   ]
  },
  {
   "cell_type": "markdown",
   "id": "09763181",
   "metadata": {},
   "source": [
    "## Contribuição da tecnologia para a visão 360 <br>\n",
    "#### Se conhecimento é poder, um sistema que ga o levantamento de dados e integração real dos setores e demais ferramentas de gestão é primordial. Nesse sentido, um ERP é uma das principais bases para a realização desse projeto. Com ele, é possível realmente promover uma integração de setores e dados; e usar seus relatórios de análises para compreender as reações a cada tomada de decisão. <br>\n",
    "#### O mundo corporativo está cada vez mais tecnológico, garantindo, assim, que processos burocráticos e etapas de baixa complexidade sejam executadas de forma automatizada. <br>\n",
    "#### A visão 360 é valorizada por muitos gestores na administração de seus negócios, mas ela precisa ser vivenciada integralmente, o que nem todos os sistemas permitem. Além disso, é preciso sempre analisar as informações e saber como utilizá-las nas tomadas de decisão. <br>"
   ]
  }
 ],
 "metadata": {
  "kernelspec": {
   "display_name": "Python 3 (ipykernel)",
   "language": "python",
   "name": "python3"
  },
  "language_info": {
   "codemirror_mode": {
    "name": "ipython",
    "version": 3
   },
   "file_extension": ".py",
   "mimetype": "text/x-python",
   "name": "python",
   "nbconvert_exporter": "python",
   "pygments_lexer": "ipython3",
   "version": "3.9.16"
  }
 },
 "nbformat": 4,
 "nbformat_minor": 5
}
