{
 "cells": [
  {
   "cell_type": "markdown",
   "id": "a1f4057b",
   "metadata": {},
   "source": [
    "<center><img width=\"25%\" src=\"https://www.camaramirimdoce.sc.gov.br/media/noticia/resumo-da-sessao-10-06-2019-111.png?w=848&h=450&t=P&c=f0f0f0&q=80&v=2\"></center>\n",
    "\n",
    "---\n",
    "\n",
    "<br>\n",
    "\n",
    "# Livro - Business Intelligence e Análise de dados para gestão do negócio \n",
    "\n",
    "<br>\n",
    "\n",
    "<center><img width=\"10%\" src=\"_imagens/Livro BI e Análise de dados.png\"></center>"
   ]
  },
  {
   "cell_type": "markdown",
   "id": "bbce957e",
   "metadata": {},
   "source": [
    "# **<u>Sumário:</u>**\n",
    "1. [Capítulo 1: Uma visão geral da inteligência de negócios, análise de dados e ciência de dados](#Capítulo-1:-Uma-visão-geral-da-inteligência-de-negócios,-análise-de-dados-e-ciência-de-dados)\n",
    "2. [Capítulo 2: Análise de dados descritiva I](#Capítulo-2:-Análise-de-dados-descritiva-I)\n",
    "3. [Capítulo 3: Análise de dados descritiva II](#Capítulo-3:-Análise-de-dados-descritiva-II)\n",
    "4. [Capítulo 4: Análise de dados preditiva I](#Capítulo-4:-Análise-de-dados-preditiva-I)\n",
    "5. [Capítulo 5: Análise de dados preditiva II](#Capítulo-5:-Análise-de-dados-preditiva-II)\n",
    "6. [Capítulo 6: Análise de dados prescritiva](#Capítulo-6:-Análise-de-dados-prescritiva)\n",
    "7. [Capítulo 7: Conceitos e ferramentas de Big Data](#Capítulo-7:-Conceitos-e-ferramentas-de-Big-Data)\n",
    "8. [Capítulo 8: Tendências futuras, privacidade e considerações gerenciais em análise de dados](#Capítulo-8:-Tendências-futuras,-privacidade-e-considerações-gerenciais-em-análise-de-dados)"
   ]
  },
  {
   "cell_type": "markdown",
   "id": "775ce4e6",
   "metadata": {},
   "source": [
    "# Capítulo 1: Uma visão geral da inteligência de negócios, análise de dados e ciência de dados\n",
    "[&#x1F53C;](#Sumário:) Clique para voltar para o sumário"
   ]
  },
  {
   "cell_type": "markdown",
   "id": "6e5f6ab2",
   "metadata": {},
   "source": [
    "# Capítulo 2: Análise de dados descritiva I\n",
    "[&#x1F53C;](#Sumário:) Clique para voltar para o sumário"
   ]
  },
  {
   "cell_type": "markdown",
   "id": "8e2bb18c",
   "metadata": {},
   "source": [
    "# Capítulo 3: Análise de dados descritiva II\n",
    "[&#x1F53C;](#Sumário:) Clique para voltar para o sumário"
   ]
  },
  {
   "cell_type": "markdown",
   "id": "148c712d",
   "metadata": {},
   "source": [
    "# Capítulo 4: Análise de dados preditiva I\n",
    "[&#x1F53C;](#Sumário:) Clique para voltar para o sumário"
   ]
  },
  {
   "cell_type": "markdown",
   "id": "7098ab74",
   "metadata": {},
   "source": [
    "# Capítulo 5: Análise de dados preditiva II\n",
    "[&#x1F53C;](#Sumário:) Clique para voltar para o sumário"
   ]
  },
  {
   "cell_type": "markdown",
   "id": "efc113b1",
   "metadata": {},
   "source": [
    "# Capítulo 6: Análise de dados prescritiva\n",
    "[&#x1F53C;](#Sumário:) Clique para voltar para o sumário"
   ]
  },
  {
   "cell_type": "markdown",
   "id": "a5a35258",
   "metadata": {},
   "source": [
    "# Capítulo 7: Conceitos e ferramentas de Big Data\n",
    "[&#x1F53C;](#Sumário:) Clique para voltar para o sumário"
   ]
  },
  {
   "cell_type": "markdown",
   "id": "fd4cd9fa",
   "metadata": {},
   "source": [
    "# Capítulo 8: Tendências futuras, privacidade e considerações gerenciais em análise de dados\n",
    "[&#x1F53C;](#Sumário:) Clique para voltar para o sumário"
   ]
  }
 ],
 "metadata": {
  "kernelspec": {
   "display_name": "Python 3 (ipykernel)",
   "language": "python",
   "name": "python3"
  },
  "language_info": {
   "codemirror_mode": {
    "name": "ipython",
    "version": 3
   },
   "file_extension": ".py",
   "mimetype": "text/x-python",
   "name": "python",
   "nbconvert_exporter": "python",
   "pygments_lexer": "ipython3",
   "version": "3.9.16"
  }
 },
 "nbformat": 4,
 "nbformat_minor": 5
}
