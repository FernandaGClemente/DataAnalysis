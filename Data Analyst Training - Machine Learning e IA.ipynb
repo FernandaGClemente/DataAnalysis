{
 "cells": [
  {
   "cell_type": "markdown",
   "id": "684c0b7e",
   "metadata": {},
   "source": [
    "\n",
    "<center><img width=\"25%\" src=\"https://www.camaramirimdoce.sc.gov.br/media/noticia/resumo-da-sessao-10-06-2019-111.png?w=848&h=450&t=P&c=f0f0f0&q=80&v=2\"></center>\n",
    "\n",
    "---\n",
    "\n",
    "<br>\n",
    "\n",
    "# Data Analyst Training - Machine Learning e IA\n",
    "\n",
    "<br>"
   ]
  },
  {
   "cell_type": "markdown",
   "id": "e24257cd",
   "metadata": {},
   "source": [
    "## Definições de 10 termos fundamentais: <br>\n",
    "* Model(n): uma representação matemática de um processo do mundo real; um modelo preditivo prevê um resultado futuro com base em comportamentos passados.\n",
    "* Training(v): o processo de criação de um modelo a partir dos dados de treinamento. Os dados são alimentados no algoritmo de treinamento, que aprende uma representação para o problema e produz um modelo. Também chamado de \"aprendizado\".\n",
    "* Classification(n): um método de previsão que atribui cada ponto de dados a uma categoria predefinida, por exemplo, um tipo de sistema operacional.\n",
    "* Training set(n): um conjunto de dados usado para encontrar relacionamentos potencialmente preditivos que serão usados para criar um modelo.\n",
    "* Feature(n): também conhecida como variável independente ou variável preditora, um recurso é uma quantidade observável, registrada e usada por um modelo de previsão. Você também pode projetar recursos combinando-os ou adicionando novas informações a eles.\n",
    "* Algorithm(n): um conjunto de regras usadas para fazer um cálculo ou resolver um problema.\n",
    "* Regression(n): um método de previsão cuja saída é um número real, ou seja, um valor que representa uma quantidade ao longo de uma linha. Exemplo: prever a temperatura de um motor ou o faturamento de uma empresa\n",
    "* Target(n): nas estatísticas, é chamada de variável dependente; é a saída do modelo ou a variável que você deseja prever.\n",
    "* Test set(n): um conjunto de dados, separado do conjunto de treinamento, mas com a mesma estrutura, usado para medir e avaliar o desempenho de vários modelos.\n",
    "* Overfitting(v): uma situação em que um modelo muito complexo para os dados foi treinado para prever o alvo. Isto leva a um modelo excessivamente especializado, que faz previsões que não refletem a realidade da relação subjacente entre as características e o alvo."
   ]
  },
  {
   "cell_type": "markdown",
   "id": "73c38b4a",
   "metadata": {},
   "source": [
    "## Ferramentas úteis de IA"
   ]
  },
  {
   "cell_type": "code",
   "execution_count": 2,
   "id": "b51bfa21",
   "metadata": {},
   "outputs": [],
   "source": [
    "# As superferramentas do The Rundown facilitam a localização dos melhores recursos de IA.\n",
    "# https://supertools.therundown.ai/"
   ]
  },
  {
   "cell_type": "markdown",
   "id": "ba4fe8fb",
   "metadata": {},
   "source": [
    "\n",
    "\n",
    "- Descript App: Edite seu podcast apenas editando a transcrição. Edição de som como se estivesse editando um documento do Word.\n",
    "- Estúdio Mágico: Edite as partes das fotos que você não precisa de forma muito fácil. É só carregar a foto, selecionar a parte que você não quer e ele apaga.\n",
    "- Tweet Hunter: Encontra uma nova inspiração para tweets, gera iniciadores de thread e reescreve o conteúdo com IA.\n",
    "- Narakeet: Cria dublagens realistas para seus vídeos. Você seleciona a voz e obtém áudio e vídeo profissionais em minutos.\n",
    "- Riverside: Grava seu podcast localmente, usa IA para manter o alto-falante certo à vista, silencia sons desnecessários e produz podcasts com qualidade de estúdio para você.\n",
    "- Poised.com: Use esta ferramenta para melhorar suas habilidades de falar em público. Esta ferramenta AI ajuda você a diminuir suas palavras de preenchimento, melhorar sua energia e falar com confiança e clareza em todas as reuniões.\n",
    "- Kickresume.com: Você pode usar o criador de currículos com tecnologia AI para gerar automaticamente todo o seu currículo.\n",
    "- Usechannel.com: Obtenha as respostas de que você precisa sem conhecer o SQL.\n",
    "- WonderAI: Os usuários testam sua imagem imaginada e o mecanismo WonderAI cria arte incrível.\n",
    "- Monsterapi.ai: Acesse modelos de IA como difusão estável usando APIs acessíveis, escaláveis e fáceis de usar.\n",
    "- Brightdata.com: Transforme sites em dados estruturados\n",
    "- https://interiorai.com/\n",
    "- https://excelformulabot.com/"
   ]
  },
  {
   "cell_type": "markdown",
   "id": "ce99ce65",
   "metadata": {},
   "source": [
    "# **<u>Sumário:</u>**\n",
    "1. [Texto](#Texto)\n",
    "2. [Projeto](#Projeto)\n",
    "3. [Vídeo](#Video)\n",
    "4. [Conteúdo](#Conteúdo)\n",
    "5. [Produtividade](#Produtividade)\n",
    "6. [Negócios](#Negócios)\n",
    "7. [Apresentações](#Apresentações)\n",
    "8. [Pesquisar](#Pesquisar)\n",
    "9. [Site](#Site)\n",
    "10. [Análise de dados](#Análise-de-dados)\n",
    "11. [Música](#Música)"
   ]
  },
  {
   "cell_type": "markdown",
   "id": "8c2de4d2",
   "metadata": {},
   "source": [
    "# Texto\n",
    "[&#x1F53C;](#Sumário:) Clique para voltar para o sumário"
   ]
  },
  {
   "cell_type": "markdown",
   "id": "500612f3",
   "metadata": {},
   "source": [
    "* ChatGPT (Bot de IA capaz de gerar respostas impressionantemente detalhadas de forma humana para suas perguntas)\n",
    "* ChatGPT para equipes\n",
    "> https://chatabc.ai/\n",
    "* Aiseo (Ferramenta de escrita)\n",
    "> https://aiseo.ai/\n",
    "* Writesonic\n",
    "* Rytr\n",
    "* AutoGPT Godmode AI  \n",
    "> https://godmode.space/\n",
    "* Monica (Resumir artigos, Traduzir texto e Definir palavras)\n",
    "> https://monica.im/"
   ]
  },
  {
   "cell_type": "markdown",
   "id": "714131d4",
   "metadata": {},
   "source": [
    "# Projeto\n",
    "[&#x1F53C;](#Sumário:) Clique para voltar para o sumário"
   ]
  },
  {
   "cell_type": "markdown",
   "id": "56ab8f0a",
   "metadata": {},
   "source": [
    "* Adobe Firefly\n",
    "* Midjourney\n",
    "* Leonardo.Ai"
   ]
  },
  {
   "cell_type": "markdown",
   "id": "233a698b",
   "metadata": {},
   "source": [
    "# Vídeo\n",
    "[&#x1F53C;](#Sumário:) Clique para voltar para o sumário"
   ]
  },
  {
   "cell_type": "markdown",
   "id": "97497b4a",
   "metadata": {},
   "source": [
    "* Descript\n",
    "* 2short.AI\n",
    "* Pictory\n",
    "* Youtube\n",
    "> https://socialblade.com/youtube/"
   ]
  },
  {
   "cell_type": "markdown",
   "id": "8e684881",
   "metadata": {},
   "source": [
    "# Conteúdo\n",
    "[&#x1F53C;](#Sumário:) Clique para voltar para o sumário"
   ]
  },
  {
   "cell_type": "markdown",
   "id": "bab305a9",
   "metadata": {},
   "source": [
    "* Synthesia\n",
    "* Tweet Hunter\n",
    "* Taplio"
   ]
  },
  {
   "cell_type": "markdown",
   "id": "af0d0035",
   "metadata": {},
   "source": [
    "# Produtividade\n",
    "[&#x1F53C;](#Sumário:) Clique para voltar para o sumário"
   ]
  },
  {
   "cell_type": "markdown",
   "id": "38d28df2",
   "metadata": {},
   "source": [
    "* Perplexity\n",
    "* Eightify\n",
    "* Grammarly\n",
    "* Microsoft Designer (Criação de imagens)\n",
    "> https://designer.microsoft.com/\n",
    "* Leap (Criação de imagens)\n",
    "> https://www.tryleap.ai/\n",
    "* Sheet+ (Folhas de cálculo Excel e Google)\n",
    "> https://sheetplus.ai/\n",
    "> https://labs.google/\n",
    "* AgentGPT (Dê um objectivo ao seu agente e este irá autonomamente atribuir-se tarefas, navegar na web, e executá-lo por si.)\n",
    "> https://agentgpt.reworkd.ai/\n",
    "* yatterplus (Assistente para WhatsApp)\n",
    "> https://yatterplus.in/\n",
    "* finalscout (Transmissão para LinkedIn)\n",
    "> https://finalscout.com/\n",
    "* AI Code Translator (Insira o código em qualquer idioma e o GPT-4 o traduzirá para qualquer outra linguagem de codificação)\n",
    "> https://ai-code-translator.vercel.app/"
   ]
  },
  {
   "cell_type": "markdown",
   "id": "811d7ada",
   "metadata": {},
   "source": [
    "# Negócios\n",
    "[&#x1F53C;](#Sumário:) Clique para voltar para o sumário"
   ]
  },
  {
   "cell_type": "markdown",
   "id": "5292ae50",
   "metadata": {},
   "source": [
    "* Rationale\n",
    "* Taskade\n",
    "* Mixo\n",
    "* Looka (Criação de logotipo e marca)\n",
    "> https://looka.com/\n",
    "* TLDV (Resumo da Reunião)\n",
    "> https://tldv.io/\n",
    "* Stockimg (Criação de Logotipos, Papel de parede e Capas de livros)\n",
    "> https://stockimg.ai/\n",
    "* Supernormal app (Faz anotações detalhadas e transcreve reuniões. Basta conectar a conta do GMeet ou Zoom que ele faz o resto para você)"
   ]
  },
  {
   "cell_type": "markdown",
   "id": "819eab2f",
   "metadata": {},
   "source": [
    "# Apresentações\n",
    "[&#x1F53C;](#Sumário:) Clique para voltar para o sumário"
   ]
  },
  {
   "cell_type": "markdown",
   "id": "ed269c8a",
   "metadata": {},
   "source": [
    "* Gamma AI \n",
    "> https://gamma.app/\n",
    "* Tome\n",
    "* SlidesAI\n",
    "* Beautiful AI (Criação de Slides)\n",
    "> https://www.beautiful.ai/\n",
    "* Decktopus (Cria apresentações - Basta escrever o título)\n",
    "> https://www.decktopus.com/\n",
    "* Scribble Diffusion (Criação de imagem apartir de desenhos)\n",
    "> https://scribblediffusion.com/\n",
    "* Desenhando\n",
    "> https://www.autodraw.com/"
   ]
  },
  {
   "cell_type": "markdown",
   "id": "f7418c26",
   "metadata": {},
   "source": [
    "# Pesquisar\n",
    "[&#x1F53C;](#Sumário:) Clique para voltar para o sumário"
   ]
  },
  {
   "cell_type": "markdown",
   "id": "d2af57a2",
   "metadata": {},
   "source": [
    "* Consensus\n",
    "* ChatPDF (Carregar um PDF e fazer-lhe perguntas: Relatórios, Livros escolares e Documentos)\n",
    "> https://www.chatpdf.com/\n",
    "* Supertools\n",
    "* codesquire (Assistente de Código)\n",
    "> https://codesquire.ai/"
   ]
  },
  {
   "cell_type": "markdown",
   "id": "88871166",
   "metadata": {},
   "source": [
    "# Site\n",
    "[&#x1F53C;](#Sumário:) Clique para voltar para o sumário"
   ]
  },
  {
   "cell_type": "markdown",
   "id": "a5c4a1a3",
   "metadata": {},
   "source": [
    "* Durable (Geração de sites)\n",
    "> https://durable.co/\n",
    "* 10Web (Geração de sites)\n",
    "> https://10web.io/"
   ]
  },
  {
   "cell_type": "markdown",
   "id": "41fa2764",
   "metadata": {},
   "source": [
    "# Carreira\n",
    "[&#x1F53C;](#Sumário:) Clique para voltar para o sumário"
   ]
  },
  {
   "cell_type": "markdown",
   "id": "b218cd85",
   "metadata": {},
   "source": [
    "* Kickresume (Criação de currículos)\n",
    "> https://www.kickresume.com/dashboard/resumes/\n",
    "* Poised (um treinador de comunicação pessoal - Entrevistas, Apresentações e Falar em público)\n",
    "> https://www.poised.com/"
   ]
  },
  {
   "cell_type": "markdown",
   "id": "5b9a876d",
   "metadata": {},
   "source": [
    "# Análise de dados\n",
    "[&#x1F53C;](#Sumário:) Clique para voltar para o sumário"
   ]
  },
  {
   "cell_type": "markdown",
   "id": "9680caa1",
   "metadata": {},
   "source": [
    "* Rose AI (Elimine horas perdidas procurando, limpando, visualizando e transformando dados)\n",
    "> https://rose.ai/"
   ]
  },
  {
   "cell_type": "markdown",
   "id": "2e901e2d",
   "metadata": {},
   "source": [
    "# Música\n",
    "[&#x1F53C;](#Sumário:) Clique para voltar para o sumário"
   ]
  },
  {
   "cell_type": "markdown",
   "id": "2e973643",
   "metadata": {},
   "source": [
    "* Boomy (Gerar música)\n",
    "> https://boomy.com/"
   ]
  },
  {
   "cell_type": "markdown",
   "id": "0d54bbf9",
   "metadata": {},
   "source": [
    "# Prompt\n",
    "[&#x1F53C;](#Sumário:) Clique para voltar para o sumário"
   ]
  },
  {
   "cell_type": "markdown",
   "id": "12e69000",
   "metadata": {},
   "source": [
    "1. Otimize o SEO do site = Prompt: \"Forneça um guia passo a passo para otimizar o SEO do meu site para [palavras-chave alvo].\" \n",
    "\n",
    "<br>\n",
    "\n",
    "2. Melhore as habilidades de resolução de problemas = Prompt: \"Compartilhe uma abordagem sistemática passo a passo para resolver [problema ou desafio específico].\"\n",
    "\n",
    "<br>\n",
    "\n",
    "3. Obtenha resumos de livros incríveis = Prompt: \"Destile as lições mais importantes de {Título do Livro} em um resumo abrangente, mas digerível.\"\n",
    "\n",
    "<br>\n",
    "\n",
    "4. Desenvolva uma história de marca atraente = Prompt: \"[Inserir descrição de marca comercial ou pessoal]. Ajude-me a criar uma história de marca poderosa para a minha marca usando a \n",
    "estrutura da Jornada do Herói.\"\n",
    "\n",
    "<br>\n",
    "\n",
    "5. Edite sua escrita = Prompt: \"[Cole sua escrita].Revise o texto acima para ortografia e gramática. Deixe as frases mais claras.\"\n",
    "\n",
    "<br>\n",
    "\n",
    "6. Planeje seu dia de forma mais eficaz = Prompt: \"Ajude-me a criar uma lista de tarefas prioritárias para o dia com base nas seguintes tarefas: [Listar suas tarefas].\"\n",
    "\n",
    "<br>\n",
    "\n",
    "7. Desenvolva uma campanha eficaz de e-mail marketing. Prompt: \"[Insira uma breve descrição do seu público-alvo e produto ou serviço].Ajude-me a criar uma campanha de marketing por e-mail usando a estrutura da Jornada de Valor do Cliente.\n",
    "\n",
    "<br>\n",
    "\n",
    "8. Gerar títulos. = Prompt: \"Crie [#] títulos sobre {Inserir tópico}. As manchetes devem ser atraentes, contundentes e memoráveis.\"\n",
    "\n",
    "<br>\n",
    "\n",
    "9. Estabeleça metas melhores = Prompt: \"Ajude-me a criar metas para [carreira ou objetivo pessoal] usando a estrutura SMART.\"\n",
    "\n",
    "<br>\n",
    "\n",
    "10. Inove e melhore seu produto ou serviço. = Prompt: \"Usando a estrutura Jobs-to-be-Done, ajude-me a identificar áreas de melhoria para o meu [produto ou serviço].\"\n",
    "\n",
    "<br>\n",
    "\n",
    "11. Quebre o bloqueio do escritor. = Prompt: \"Escreva uma estrutura de tópicos para uma postagem de blog de formato longo sobre [Inserir tópico].\"\n",
    "\n",
    "<br>\n",
    "\n",
    "12. Fortaleça suas habilidades de desenvolvimento pessoal. = Prompt: \"[Descreva suas metas e desafios de desenvolvimento pessoal]. Usando o modelo de coaching GROW (Goal, Reality, Options, Will), ajude-me a criar um plano de desenvolvimento pessoal para alcançar meus objetivos.\"\n",
    "\n",
    "<br>\n",
    "\n",
    "13. Aprenda tópicos excessivamente complicados mais rapidamente. = Prompt: \"Explique [tópico complexo] como se eu tivesse 5 anos de idade.\"\n",
    "\n",
    "<br>\n",
    "\n",
    "14. Crie uma estratégia de lançamento de produto bem-sucedida = Prompt: \"[Insira uma breve descrição do seu produto e público-alvo]. Guie-me através do desenvolvimento de uma estratégia de lançamento de produto usando a Fórmula de Lançamento de Produto para gerar interesse e vendas.\"\n",
    "\n",
    "<br>\n",
    "\n",
    "15. Otimize sua estratégia de preços. = Prompt: \"Guie-me pelo processo de determinação de uma estratégia de preços ideal para o meu [produto ou serviço] usando a abordagem de Preços Baseados em Valor.\"\n",
    "\n",
    "<br>\n",
    "\n",
    "16. Crie um pitch de elevador vencedor. = Prompt: \"Com base em [insira sua missão e nicho], ajude-me a criar um pitch de elevador de 30 segundos para [produto, serviço ou marca pessoal].\"\n",
    "\n",
    "<br>\n",
    "\n",
    "17. Obtenha conselhos diretos de seus ídolos de negócios. = Prompt: \"Aqui está a situação que estou enfrentando no momento: [Inserir situação].\n",
    "\n",
    "<br>\n",
    "\n",
    "18. Com base nessas circunstâncias, o que [Steve Jobs] me recomendaria fazer?\n",
    "\n",
    "<br>\n",
    "\n",
    "19. Projete um funil de vendas de alta conversão. = Prompt: \"[Insira uma breve descrição do seu produto ou serviço]. Guie-me através da criação de um funil de vendas de alta conversão usando a estrutura de Otimização de Valor do Cliente.\"\n",
    "\n",
    "<br>\n",
    "\n",
    "20. Crie um script de vendas eficaz.= Prompt: \"[Insira uma breve descrição do seu produto ou serviço]. Usando o Sandler Selling System, ajude-me a criar um script de vendas eficaz para a minha oferta.\"\n",
    "\n",
    "<br>\n",
    "\n",
    "21. Resolva problemas identificando as causas-raiz. = Prompt: \"Guie-me através da técnica dos Cinco Porquês para determinar a causa raiz de um [problema ou situação específica].\"\n",
    "\n",
    "<br>\n",
    "\n",
    "22. Como faço para que o gpt4 me ensine qualquer coisa com eficiência = Prompt: \"Ensine-me como < qualquer coisa > funciona fazendo perguntas sobre meu nível de compreensão dos conceitos necessários. Com cada resposta, preencha as lacunas em minha compreensão e, em seguida, recursivamente, faça mais perguntas para verificar minha compreensão.\"\n",
    "\n",
    "<br>\n",
    "\n",
    "23. Para conceitos técnicos mais difíceis/avançados, também achei esta variação útil = Prompt: \"Ensine-me como < conceito > funciona em detalhes técnicos e, ao final de cada resposta, faça-me perguntas sobre meu nível de compreensão de cada novo conceito introduzido. Preencha todas as lacunas em minha compreensão e continue a me perguntar recursivamente mais perguntas sobre meu nível de compreensão de cada novo conceito introduzido. Depois que todos os conceitos forem compreendidos, continue suas explicações (e questionamento confirmatório de minha compreensão) dos conceitos de nível superior, até que o conceito original seja compreendido. Também em cada resposta, use analogias que sejam fáceis de entender, tanto quanto possível.\"\n",
    "\n",
    "<br>\n",
    "\n",
    "24. Aprenda a definir e atingir metas SMART. = Prompt: \"Quero definir e atingir metas SMART relacionadas a [inserir área específica]. Ajude-me a criar uma lista de metas realistas, mensuráveis e com prazo determinado e forneça estratégias para alcançá-las.\"\n",
    "\n",
    "<br>\n",
    "\n",
    "25. Libere sua criatividade interior. = Prompt: \"Apresente-me exercícios e técnicas criativas que me ajudarão a explorar minha criatividade interior e gerar novas ideias em [inserir contexto específico].\"\n",
    "\n",
    "<br>\n",
    "\n",
    "26. Melhore suas habilidades de persuasão. = Prompt: \"Quero me tornar mais persuasivo em [inserir contexto específico]. Forneça-me técnicas e estratégias para me ajudar a apresentar minhas ideias e argumentos de forma mais convincente.\"\n",
    "\n",
    "<br>\n",
    "\n",
    "27. Aprenda um novo hobby ou ofício. = Prompt: \"Quero aprender [inserir hobby ou ofício]. Sou totalmente iniciante. Crie um plano de aprendizado de 30 dias que me ajudará a aprender e melhorar minhas habilidades nessa área.\"\n",
    "\n",
    "<br>\n",
    "\n",
    "28. Descubra talentos e paixões ocultos. = Prompt: \"Analise meus interesses e habilidades com base em [insira informações pessoais, hobbies ou conquistas]. Ajude-me a identificar possíveis talentos ocultos e paixões que eu poderia explorar mais.\"\n",
    "\n",
    "<br>\n",
    "\n",
    "29. Obtenha feedback personalizado dos grandes empreendedores. = Prompt: \"Suponha que você seja [insira um empreendedor de sucesso]. Leia minha ideia de negócio abaixo e me dê um feedback como se você fosse [insira um empreendedor novamente].\"\n",
    "\n",
    "<br>\n",
    "\n",
    "30. Compreender conceitos complexos com mais facilidade. = Prompt: \"Estou tendo dificuldade em entender [inserir conceito complexo]. Divida-o em termos mais simples e forneça analogias ou exemplos que possam me ajudar a compreender o conceito mais facilmente.\"\n",
    "\n",
    "<br>\n",
    "\n",
    "31. Melhore a recuperação da sua memória. = Prompt: \"Estou aprendendo sobre [inserir tópico]. Forneça-me uma lista de dispositivos mnemônicos ou técnicas de memória para me ajudar a lembrar e recordar informações importantes relacionadas a este tópico.\"\n",
    "\n",
    "<br>\n",
    "\n",
    "32. Histórias de sucesso da engenharia reversa. = Prompt: \"Estude a história de sucesso de [inserir indivíduo ou empresa de sucesso]. Divida os principais fatores que contribuíram para seu sucesso e sugira etapas acionáveis que eu possa implementar em meu próprio [inserir contexto ou objetivo].\"\n",
    "\n",
    "<br>\n",
    "\n",
    "33. Obtenha insights de diferentes perspectivas culturais. = Prompt: \"Atualmente estou aprendendo sobre [inserir tópico]. Forneça-me diferentes perspectivas culturais e pontos de vista sobre este tópico para ampliar minha compreensão.\""
   ]
  }
 ],
 "metadata": {
  "kernelspec": {
   "display_name": "Python 3 (ipykernel)",
   "language": "python",
   "name": "python3"
  },
  "language_info": {
   "codemirror_mode": {
    "name": "ipython",
    "version": 3
   },
   "file_extension": ".py",
   "mimetype": "text/x-python",
   "name": "python",
   "nbconvert_exporter": "python",
   "pygments_lexer": "ipython3",
   "version": "3.9.16"
  }
 },
 "nbformat": 4,
 "nbformat_minor": 5
}
