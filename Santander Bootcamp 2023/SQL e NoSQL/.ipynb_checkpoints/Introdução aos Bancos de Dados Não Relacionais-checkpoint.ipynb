{
 "cells": [
  {
   "cell_type": "markdown",
   "id": "3ea3234a",
   "metadata": {},
   "source": [
    "### Conceitos Básicos dos Bancos de Dados não relacionais"
   ]
  },
  {
   "cell_type": "markdown",
   "id": "46274b0f",
   "metadata": {},
   "source": [
    "* O que é um banco de dados não relacionais?\n",
    "    * NOT Only SQL (Não apenas SQL)\n",
    "    * Não seguem modelo de tabelas e relacionamentos\n",
    "    * Lida com alto volume de dados e alta escabilidade\n",
    "    * Alta flexibilidade na estrutura de dados\n",
    "    * Amplamente utilizados em cenários onde a consistência imediata dos dados não é crítica\n",
    "    * Desvantagens: Menor consistencia de dados imediata e menor suporte a consultas complexas (Depende do SGBD)\n",
    "* Diferenças de SQL e NoSQL: \n",
    "    * Modelo de dados fixo x flexivel\n",
    "    * Escabilidade vertical x horizontal\n",
    "    * Transações ACID 100% x ACID ausentes total ou parcial\n",
    "    * Linguagem de consulta SQL x Cada SGBD tem a sua própria linguagem\n",
    "* Visão geral dos tipos de NoSQL:\n",
    "    * Key-value / Chave valor >>> Armazena dados como pares de chave (Identificador único) e valor. Exemplos: Redis, Riak, Amazon DynamoDB \n",
    "    * Documento >>> Armazena dados em documentos semiestruturados, geralmente em formato JSON ou BSON. Exemplos: MongoDB, Couchbase, Apache CouchDB \n",
    "    * Coluna >>> Armazena dados em formato de colunas, o que permite alta escabilidade e eficiência em determinados tipos de consultas. Exemplos: Apache Cassandra, ScyllaDB, Hbase\n",
    "    * Grafos >>> Armazena e consulta dados interconectados, onde os relacionamentos entre os dados são tão importantes quanto os próprios dados. Exemplos: Neo4j, Amazon Neptune, JanusGraph"
   ]
  },
  {
   "cell_type": "markdown",
   "id": "60080a3f",
   "metadata": {},
   "source": [
    "### Introdução ao MongoBD"
   ]
  },
  {
   "cell_type": "markdown",
   "id": "efe65c3d",
   "metadata": {},
   "source": [
    "* Utilizados:\n",
    "    * Aplicações web\n",
    "    * Análise de Big Data\n",
    "    * Armazenamento de dados semiestruturados \n",
    "    * Exemplo: Casos de uso de geolocalização onde usa-se aplicativos de mapeamento e rastreamento.\n",
    "* Instação e confirguração\n",
    "    * https://cloud.mongodb.com/ >>> Criação da conta, usuários e database\n",
    "* Modelagem de dados usando documentos\n",
    "    * Estrutura: Database, Coleção (Agrupamento lógico de documentos que não exige um esquema ou que tenham a mesma estrutura) e Documento (São aramzenados em formato bINARY JSON, possui um identificador unico chamado _ID e é composto por pares de chaves e valores. >>> { _ID: TipoDeDado(\"\"), < NomeDaChave > : < NomeDoValor >, ...}\n",
    "    * Tipos de dados simples: String, Number, Boolean, Date, Null e Objectld\n",
    "    * Tipos de dados complexos: Array, Documentos embutido, Referência e GeoJSON\n",
    "    \n",
    "* Estratégia "
   ]
  },
  {
   "cell_type": "markdown",
   "id": "a5d33f28",
   "metadata": {},
   "source": [
    "### Operações no MongoDB"
   ]
  },
  {
   "cell_type": "markdown",
   "id": "57c6fa7f",
   "metadata": {},
   "source": [
    "### Apresentação do Redis"
   ]
  }
 ],
 "metadata": {
  "kernelspec": {
   "display_name": "Python 3 (ipykernel)",
   "language": "python",
   "name": "python3"
  },
  "language_info": {
   "codemirror_mode": {
    "name": "ipython",
    "version": 3
   },
   "file_extension": ".py",
   "mimetype": "text/x-python",
   "name": "python",
   "nbconvert_exporter": "python",
   "pygments_lexer": "ipython3",
   "version": "3.9.16"
  }
 },
 "nbformat": 4,
 "nbformat_minor": 5
}
