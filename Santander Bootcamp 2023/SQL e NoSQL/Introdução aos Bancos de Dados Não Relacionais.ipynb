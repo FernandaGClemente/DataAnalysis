{
 "cells": [
  {
   "cell_type": "markdown",
   "id": "3ea3234a",
   "metadata": {},
   "source": [
    "### Conceitos Básicos dos Bancos de Dados não relacionais"
   ]
  },
  {
   "cell_type": "markdown",
   "id": "46274b0f",
   "metadata": {},
   "source": [
    "* O que é um banco de dados não relacionais?\n",
    "    * NOT Only SQL (Não apenas SQL)\n",
    "    * Não seguem modelo de tabelas e relacionamentos\n",
    "    * Lida com alto volume de dados e alta escabilidade\n",
    "    * Alta flexibilidade na estrutura de dados (Modelagem)\n",
    "    * Amplamente utilizados em cenários onde a consistência imediata dos dados não é crítica (Não realiza a atualização em todas as máquinas de forma imediata) \n",
    "    * Desvantagens: Menor consistencia de dados imediata e menor suporte a consultas complexas (Depende do SGBD)\n",
    "* Diferenças de SQL x NoSQL: \n",
    "    * Modelo de dados: fixo x flexivel\n",
    "    * Escabilidade: vertical (hardware) x horizontal\n",
    "    * Transações: ACID 100% x ACID ausentes total ou parcial\n",
    "    * Linguagem de consulta SQL x Cada SGBD tem a sua própria linguagem\n",
    "* Visão geral dos tipos de NoSQL:\n",
    "    * Key-value / Chave valor >>> Armazena dados como pares de chave (Identificador único) e valor. Exemplos: Redis, Riak, Amazon DynamoDB (Um site pode usar para armazenar informações de sessão de usuário)\n",
    "    * Documento >>> Armazena dados em documentos semiestruturados, geralmente em formato JSON ou BSON. Exemplos: MongoDB, Couchbase, Apache CouchDB (Um catálogo de e-commerce pode usar para armazenar informações dos produtos, como nome, descrição, preço e atributos adicionais)\n",
    "    * Coluna >>> Armazena dados em formato de colunas, o que permite alta escabilidade e eficiência em determinados tipos de consultas. Exemplos: Apache Cassandra, ScyllaDB, Hbase (Um sistema de registro de aplicativos pode usar para armazenar registros de log)\n",
    "    * Grafos >>> Armazena e consulta dados interconectados, onde os relacionamentos entre os dados são tão importantes quanto os próprios dados. Exemplos: Neo4j, Amazon Neptune, JanusGraph (Uma rede social pode usar para armazenar os perfis dos usuarios e suas conexões, permitindo consultas eficientes para encontrar amigos comuns)"
   ]
  },
  {
   "cell_type": "markdown",
   "id": "60080a3f",
   "metadata": {},
   "source": [
    "### Introdução ao MongoBD"
   ]
  },
  {
   "cell_type": "markdown",
   "id": "efe65c3d",
   "metadata": {},
   "source": [
    "* Introdução:\n",
    "    * Banco de dados NoSQL orientados a documentos.\n",
    "    * Grande volume de dados, escalabilidade horizontal e modelagem flexivel.\n",
    "    * Não exige um esquema.\n",
    "    * Permite que os documentos sejam armazenados em formato BSON (Binary JSON), proporcionando uma estrutura semiestruturada, não podem ser vazios e não podem ter mais de 64 bytes, devem começar com letra ou um underscore (_) e possui um identificador único chamado _ID.\n",
    "    * Alta disponibilidade e tolerâcia a falhas.\n",
    "    * Desvantagens: Menor consistêcia imediata, consultas complexas podem exigir maior conhecimento e planejamento adequando e maior consumo de espaço de armazenamento em comparação com banco de dados relacionais devido a flexibilidade de documentos. \n",
    "* Utilizados:\n",
    "    * Aplicações web\n",
    "    * Análise de Big Data\n",
    "    * Armazenamento de dados semiestruturados \n",
    "    * Exemplo: Casos de uso de geolocalização onde usa-se aplicativos de mapeamento e rastreamento.\n",
    "* Instalação e confirguração:\n",
    "    * https://cloud.mongodb.com/ >>> Criação da conta, usuários e database\n",
    "* Modelagem de dados usando documentos:\n",
    "    * Estrutura: Database, Coleção (Agrupamento lógico de documentos que não exige um esquema ou que tenham a mesma estrutura) e Documento (É composto por pares de chaves e valores. >>> { _ID: TipoDeDado(\"\"), < NomeDaChave > : < NomeDoValor >, ...})\n",
    "    * Tipos de dados simples: String, Number, Boolean, Date, Null e ObjectId\n",
    "    * Tipos de dados complexos: Array, Documentos embutido, Referência e GeoJSON\n",
    "    * https://jsonformatter.curiousconcept.com/\n",
    "* Estratégias de dados:\n",
    "    * Modelagem orientada por consultas: Orientadas pelas consultas que serão realizadas com mais frequência pelo usuário (Identificar e listar quais seriam essas consultas mais realizadas)\n",
    "    * Inner documents: É comum denormalizar os sados para evitar operações de junção (join) custosas, ou seja, podem ser armazenados juntos em um único documento em vez de serem distribuídos em várias coleções. \n",
    "    * Usar: Os dados aninhados são específicos para o documento pai. Sempre acessados juntamente com o documento pai. A cardinalidade do relacionamento é um-para-muitos. \n",
    "    * Não usar: Os dados aninhados precisarem ser consultados e atualizados independentemente do documento pai. É mais adequado utilizar coleções seeparadas. \n",
    "    * Referências: Forma de relacionar os documentos entre si.\n"
   ]
  },
  {
   "cell_type": "markdown",
   "id": "a5d33f28",
   "metadata": {},
   "source": [
    "### Operações no MongoDB"
   ]
  },
  {
   "cell_type": "markdown",
   "id": "e6c8c198",
   "metadata": {},
   "source": [
    "* Compass:\n",
    "    * Criando um DataBase: use {{ < NomeDoBanco > }} >>> Enquanto o database não tiver uma collection ele não será apresentado na lista\n",
    "    * Criando uma Collection: db.createColletion(\"usuarios\") e db.createColletion(\"destinos\")\n",
    "    * Inserindo Documentos: \n",
    "        * apenas um documentos: db.usuarios.insertOne({}); \n",
    "        * vários documentos: db.usuarios.insertMany([{}]);\n",
    "    * Consultando Documentos: \n",
    "        * db.usuarios.find({});\n",
    "        * db.usuarios.findOne({});\n",
    "        * db.usuarios.findOneAndUpdate({},{});\n",
    "        * db.usuarios.findOneAndDelete({});\n",
    "    * Operadores: \n",
    "        * Igualdade: Realizar consultas baseadas em um valor específico para um campo. \n",
    "            * db.usuarios.find( {\"Tabela.Chave\":\"Valor\"} )\n",
    "        * Lógicos: AND, OR e NOT (Tem que colocar o cifrão na frente)\n",
    "            * {OperadorLógico: [{ChaveA:ValorA}, {ChaveZ:ValorZ}]}\n",
    "        * Comparação: eq: ==, ne: !=, gt: >, gte: >=, lt: <, lte: <=, in: [] e nin: [] (Tem que colocar o cifrão na frente)\n",
    "            * {OperadorLógico:[{ChaveA:{OperadorComparação: ValorA}}, {{ChaveZ:{OperadorComparação: ValorZ}}]}\n",
    "    * Projeções: Definir quais campos devem ser retornados em uma consulta.\n",
    "        * db.usuarios.find({Chave:Valor}, {Chave.Valor})\n",
    "    * Ordenação: Ordenar os resultados de uma consulta com base em um ou mais campos.\n",
    "        * db.usuarios.find({Chave:Valor}, {Chave.Valor}).sort({Chave:N°})\n",
    "        * Número positivo: Ordem crescente e número negativo: Ordem decrescente\n",
    "    * Paginação: db.usuarios.find().skip(10).limit(5)"
   ]
  },
  {
   "cell_type": "markdown",
   "id": "57c6fa7f",
   "metadata": {},
   "source": [
    "### Apresentação do Redis"
   ]
  },
  {
   "cell_type": "markdown",
   "id": "acb3ddfc",
   "metadata": {},
   "source": [
    "* O que é? É um sistema de armazenamento de dados em memória de alto desempenho.\n",
    "    * Armazenamento em memória\n",
    "    * Estrutura de dados versatil\n",
    "    * Operações atômicas\n",
    "    * Cache de alto Desempenho\n",
    "    * Pub/Sub (Publicação/Assinatura)\n",
    "* Principais utilizações:\n",
    "    * Cache de dados\n",
    "    * Filas de mensagens\n",
    "    * Contagem de acessos e estatisticas em tempo real\n",
    "    * Gerenciamento de sessões\n",
    "    * Cache de Resultados de Consultas\n",
    "* Principais comandos: SET, GET, DEL, EXPIRE, EXISTS, KEYS, , LPUSH, LRANGE, LLEN, INCR e DECR\n",
    "* Sintaxe: \n",
    "    * Adicionar: SET < Chave > \"Valor\"\n",
    "    * Mostrar: GET < Chave >\n",
    "    * Consultar Chave: KEYS < Chave* >\n",
    "    * Deletar: DEL < Chave >\n",
    "    * Verificar existência: EXISTS < Chave >\n",
    "    * Expirar em X segundos: EXPIRE < Chave > N°emSegundos\n",
    "    * Adicionar varios valores ao mesmo tempo: LPUSH < Chave > \"ValorA\" \"ValorB\" \"ValorZ\"\n",
    "    * Incrementar: INCR < Chave >\n",
    "    * Descrementar: DECR < Chave >\n",
    "    * Mostra todos os valores da chave do indice inicial ao indice final: LRANGE < Chave > N°inicial N°final \n",
    "        * Exemplo: LRANGE < Usuario > 0 -1 \n",
    "    * Informa a quantidade de valores da chave: LLEN < Chave >"
   ]
  }
 ],
 "metadata": {
  "kernelspec": {
   "display_name": "Python 3 (ipykernel)",
   "language": "python",
   "name": "python3"
  },
  "language_info": {
   "codemirror_mode": {
    "name": "ipython",
    "version": 3
   },
   "file_extension": ".py",
   "mimetype": "text/x-python",
   "name": "python",
   "nbconvert_exporter": "python",
   "pygments_lexer": "ipython3",
   "version": "3.9.16"
  }
 },
 "nbformat": 4,
 "nbformat_minor": 5
}
