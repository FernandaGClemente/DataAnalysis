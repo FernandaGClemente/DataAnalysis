{
 "cells": [
  {
   "cell_type": "markdown",
   "id": "231fc995",
   "metadata": {},
   "source": [
    "### Conceitos Básicos e Estrutura do Banco de dados relacional"
   ]
  },
  {
   "cell_type": "markdown",
   "id": "21c8ce19",
   "metadata": {},
   "source": [
    "* O que é Banco de Dados?\n",
    "* Tipos de Banco de Dados\n",
    "    * Relacionais / SQL\n",
    "    * Não Relacionais/NoSQL\n",
    "    * Orientado a objetos\n",
    "    * Hierárquico\n",
    "* O que são SGBD?\n",
    "    * Create\n",
    "    * Read\n",
    "    * Update\n",
    "    * Delete\n",
    "* Estrutura de um BD Relacional\n",
    "    * Banco de dados (Database)\n",
    "    * Tabela (Table)\n",
    "    * Registros (Tupla, Tuple e Linhas)\n",
    "    * Atributos Coluna (Column)\n",
    "    * Chaves primárias\n",
    "    * Chaves estrangeiras\n",
    "* Características \n",
    "    * Relacionamento entre tabelas\n",
    "    * Linguagem de Consulta Estruturada (SQL)\n",
    "    * Integridade referencial\n",
    "    * Normalização de dados\n",
    "    * Segurança\n",
    "    * Flexibilidade e extensibilidade\n",
    "    * Suporte a transações ACID (Atomicidade, Consistência, Isolamento e Durabilidade)"
   ]
  },
  {
   "cell_type": "markdown",
   "id": "e9d9d39b",
   "metadata": {},
   "source": [
    "### Introdução e Conceitos Básicos de SQL"
   ]
  },
  {
   "cell_type": "markdown",
   "id": "4ef5047c",
   "metadata": {},
   "source": [
    "* Organização da Linguegem SQL\n",
    "    * DQL - Linguagem de consulta de dados (Comando: SELECT)\n",
    "    * DML - Linguagem de Manipulação de Dados (Comandos: INSERT, UPDATE e DELETE) \n",
    "    * DDL - Linguagem de Denifição de Dados (Comandos: CREATE, ALTER e DROP)\n",
    "    * DCL - Linguagem de Controle de Dados (Comandos: GRANT e REVOKE)\n",
    "    * DTL - Linguagem de Transação de Dados (Comandos: BEGIN, COMMIT e ROLLBACK)"
   ]
  },
  {
   "cell_type": "markdown",
   "id": "3eb3fc86",
   "metadata": {},
   "source": [
    "### MER e DER: Modelagem de Bancos de Dados"
   ]
  },
  {
   "cell_type": "markdown",
   "id": "871f4fd5",
   "metadata": {},
   "source": [
    "O Modelo Entidade-Relacionamento (MER) é representado através de diagramas chamdos Diagrams Entidade-Relacionamento (DER)\n",
    "* Entidades - Substantivos\n",
    "* Atributos - Caracteristicas\n",
    "* Relacionamentos - Associações\n",
    "* Cardinalidade\n",
    "    * Um para um\n",
    "    * Um para muitos\n",
    "    * Muitos para muitos"
   ]
  },
  {
   "cell_type": "markdown",
   "id": "1db9b41f",
   "metadata": {},
   "source": [
    "### Modelagems de Dados Relacionais"
   ]
  },
  {
   "cell_type": "markdown",
   "id": "798562a7",
   "metadata": {},
   "source": [
    "* Tabelas \n",
    "* Colunas - Atributo específico\n",
    "* Linhas - Registros ou instância individual\n",
    "* Tipos de Dados\n",
    "    * Inteiro / Integer\n",
    "    * Decimal ou Numérico / Decimal ou Numeric\n",
    "    * Caractere ou Varchar / Character ou Varchar\n",
    "    * Data ou Hora / Date ou Time\n",
    "    * Booleano / Boolean\n",
    "    * Texto longo / Text\n",
    "* Comandos em SQL\n",
    "    * CREATE TABLE (Restrição de valor, Chaves primárias e estrangeiras e Auto Incremento)\n",
    "    * COMMENT \"Comentário\"\n",
    "    * INSERT INTO\n",
    "    * SELECT\n",
    "    * Operadores de comparação, lógico\n",
    "    * UPDATE\n",
    "    * DELETE\n",
    "    * DROP TABLE\n",
    "    * ALTER TABLE\n",
    "    * MODIFY COLUMN\n",
    "    * LIMIT \n",
    "    * OFFSET\n",
    "* Chave primária e estrangeira   \n",
    "    * ADD CONSTRAINT (PRIMARY KEY AUTO_INCREMENT, FOREIGN KEY, ON DELETE, ON UPDATE, CASCADE, SET NULL, SET DEAFULT e RESTRICT\n",
    "    * REFERENCES"
   ]
  },
  {
   "cell_type": "markdown",
   "id": "7f25e74e",
   "metadata": {},
   "source": [
    "### Normalização de Dados"
   ]
  },
  {
   "cell_type": "markdown",
   "id": "801402d1",
   "metadata": {},
   "source": [
    "É o processo no qual se organiza e estrutura um banco de dados relacional de forma a eliminar redundancias e anomalias, garantindo a consistencia e integridade dos dados.\n",
    "* Formas normais\n",
    "    * 1FN: Atomicidade de dados = Cada valor em um tabela dever ser indivisível, ou seja, nenhum campo deve conter múltipls valores ou listas (Usa-se SUBSTRING_INDEX para separar lista de strings)\n",
    "    * 2FN: Todos os atributos não chave devem depender totalmente da chave primária, evitando dependências parciais.\n",
    "    * 3FN: Nenhuma coluna não chave depender de outra coluna não chave, evitando dependências indiretas entre eles."
   ]
  },
  {
   "cell_type": "markdown",
   "id": "6756a03c",
   "metadata": {},
   "source": [
    "### Consultas Avançadas"
   ]
  },
  {
   "cell_type": "markdown",
   "id": "4f85c880",
   "metadata": {},
   "source": [
    "* JOIN\n",
    "* Subconsultas\n",
    "* Funções Agregadas (COUNT, SUM, AVG, MIN e MAX)\n",
    "* HAVING\n",
    "* GROUP BY\n",
    "* ORDER BY\n",
    "* Análise do plano de execução (Examinar as operações realizadas, as tabelas acessadas, os índices e outras informações para identificar possíveis melhorias de desempenho) >>> EXPLAIN SELECT * FROM < NomeDaTabela >\n",
    "* Índice de busca >>> CREATE INDEX < NomeDoIndice> ON < NomeDaTabela > (ColunaA, ColunaZ)"
   ]
  },
  {
   "cell_type": "markdown",
   "id": "a2a6496c",
   "metadata": {},
   "source": [
    "https://github.com/pamelaborges/dio-bd-relacional"
   ]
  }
 ],
 "metadata": {
  "kernelspec": {
   "display_name": "Python 3 (ipykernel)",
   "language": "python",
   "name": "python3"
  },
  "language_info": {
   "codemirror_mode": {
    "name": "ipython",
    "version": 3
   },
   "file_extension": ".py",
   "mimetype": "text/x-python",
   "name": "python",
   "nbconvert_exporter": "python",
   "pygments_lexer": "ipython3",
   "version": "3.9.16"
  }
 },
 "nbformat": 4,
 "nbformat_minor": 5
}
