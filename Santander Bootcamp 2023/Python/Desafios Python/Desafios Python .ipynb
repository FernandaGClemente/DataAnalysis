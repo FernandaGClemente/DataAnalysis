{
 "cells": [
  {
   "cell_type": "markdown",
   "id": "a075ebcd",
   "metadata": {},
   "source": [
    "## Desafios Python - Equilibrando Saldo"
   ]
  },
  {
   "cell_type": "markdown",
   "id": "e32eb771",
   "metadata": {},
   "source": [
    "### Descrição: <br>\n",
    "Para esse desafio, considere que você foi contratado por uma empresa bancária para auxiliar nas implementações e melhorias do sistema empresarial. Em uma análise inicial, foi identificado pela equipe financeira a necessidade de desenvolver uma solução que permita ao cliente equilibrar seu saldo bancário. Dessa forma, o programa deve solicitar uma entrada que representa o saldo atual do funcionário, e após, seja informado o valor de duas transações, sendo elas: um depósito e um saque. O programa deve atualizar o saldo com base nas transações e exibir o saldo final.\n",
    "\n",
    "<br>\n",
    "\n",
    "### Informação: <br>\n",
    "As transações de depósito e retirada devem ser tratadas como valores positivos e negativos, respectivamente, para garantir que o cálculo do saldo final seja realizado corretamente.\n",
    "\n",
    "<br>\n",
    "\n",
    "### Entrada: <br>\n",
    "* saldoAtual: um número decimal representando o saldo atual da conta bancária.\n",
    "* valorDeposito: um número decimal representando o valor a ser depositado na conta.\n",
    "* valorRetirada: um número decimal representando o valor a ser retirado da conta.\n",
    "\n",
    "<br>\n",
    "\n",
    "### Regra de Formatação: <br>\n",
    "Considere apenas uma casa decimal para esse desafio.\n",
    "\n",
    "<br>\n",
    "\n",
    "### Saída: <br>\n",
    "Um número decimal que representa o saldo atualizado na conta bancária após o processamento das transações."
   ]
  },
  {
   "cell_type": "code",
   "execution_count": 1,
   "id": "ec97b9ca",
   "metadata": {},
   "outputs": [
    {
     "name": "stdout",
     "output_type": "stream",
     "text": [
      "1000\n",
      "500\n",
      "200\n",
      "Saldo atualizado na conta: 1300.0\n"
     ]
    }
   ],
   "source": [
    "saldo_atual = float(input())\n",
    "valor_deposito = float(input())\n",
    "valor_retirada = float(input())\n",
    "\n",
    "def transacao(saldo_atual, valor_deposito, valor_retirada):\n",
    "    transacao = saldo_atual + valor_deposito - valor_retirada\n",
    "    return print(f'Saldo atualizado na conta: {transacao:.1f}')\n",
    "\n",
    "transacao(saldo_atual, valor_deposito, valor_retirada)"
   ]
  },
  {
   "cell_type": "markdown",
   "id": "d3b7e760",
   "metadata": {},
   "source": [
    "## Desafios Python: Organizando seus Ativos"
   ]
  },
  {
   "cell_type": "markdown",
   "id": "6a53a597",
   "metadata": {},
   "source": [
    "### Descrição: <br>\n",
    "Após uma análise cuidadosa realizada pela equipe de desenvolvimento de uma empresa bancaria, foi identificado a necessidade de uma nova funcionalidade para otimizar os processos e melhorias da experiência dos usuários. Agora, sua tarefa é implementar uma solução que organize em ordem alfabética uma lista de ativos que será informada pelos usuários. Os ativos são representados por strings que representam seus tipos, como por exemplo: Reservas de liquidez, Ativos intangiveis e dentre outros.\n",
    "\n",
    "<br>\n",
    "\n",
    "### Entrada: <br>\n",
    "A primeira entrada consiste em um número inteiro que representa a  quantidade de ativos que o usuário possui. Em seguida, o usuário deverá  informar, em linhas separadas, os tipos (strings) dos respectivos ativos.\n",
    "\n",
    "<br>\n",
    "\n",
    "### Saída: <br>\n",
    "Seu programa deve exibir a lista de Ativos organizada em ordem alfabética. Cada ativo deve ser apresentado em uma linha separada."
   ]
  },
  {
   "cell_type": "code",
   "execution_count": 1,
   "id": "7e81afba",
   "metadata": {},
   "outputs": [
    {
     "name": "stdout",
     "output_type": "stream",
     "text": [
      "3\n",
      "Carteiras de credito\n",
      "Investimentos em titulos\n",
      "Derivativos financeiros\n",
      "Carteiras de credito\n",
      "Derivativos financeiros\n",
      "Investimentos em titulos\n"
     ]
    }
   ],
   "source": [
    "ativos = []\n",
    "\n",
    "# Entrada da quantidade de ativos\n",
    "quantidadeAtivos = int(input())\n",
    "\n",
    "# Entrada dos códigos dos ativos\n",
    "for _ in range(quantidadeAtivos):\n",
    "    codigoAtivo = input()\n",
    "    ativos.append(codigoAtivo)\n",
    "\n",
    "# TODO: Ordenar os ativos em ordem alfabética.\n",
    "ativos.sort(reverse=False)\n",
    "# TODO: Imprimir a lista de ativos ordenada, conforme a tabela de exemplos.\n",
    "for a in ativos:\n",
    "    print(a)"
   ]
  },
  {
   "cell_type": "markdown",
   "id": "4ebc9413",
   "metadata": {},
   "source": [
    "## Desafios Python: Condicionalmente Rico"
   ]
  },
  {
   "cell_type": "markdown",
   "id": "53edc0be",
   "metadata": {},
   "source": [
    "### Descrição: <br>\n",
    "Uma nova feature para um sistema bancário foi analisada pela equipe de desenvolvimento e será uma das tarefas a serem trabalhadas durante a sprint, como desenvolvedor da empresa você recebeu os requisitos para a nova implementação que consiste em uma solução algorítmica que permita aos clientes realizarem saques em caixas eletrônicos. No entanto, existem algumas regras a serem seguidas para garantir que um saque possa ser realizado com sucesso.\n",
    "\n",
    "<br>\n",
    "\n",
    "### Regras do saque: <br>\n",
    "- Cada cliente digitará o valor do seu saldoTotal de sua conta bancária e o valorSaque.\n",
    "- Um saque só pode ser realizado se o saldoDisponível na conta for igual ou superior ao valor solicitado.\n",
    "- Se o saldo for suficiente, o valor solicitado deve ser subtraído do saldo disponível, indicando que o saque foi realizado.\n",
    "- Se o saldo for insuficiente, o saque não deve ser realizado e uma mensagem adequada deve ser exibida.\n",
    "\n",
    "<br>\n",
    "\n",
    "### Entrada: <br>\n",
    "A entrada consiste em dois valores inteiros que representam o total do saldo da conta e o valor do saque.\n",
    "\n",
    "<br>\n",
    "\n",
    "### Saída: <br>\n",
    "Se o saque for realizado com sucesso, exibir a mensagem \"Saque realizado com sucesso! Novo saldo: {saldo}\", onde {saldo} é o novo saldo disponível na conta.\n",
    "Se o saque não for possível devido a saldo insuficiente, exibir a mensagem \"Saldo insuficiente. Saque nao realizado!\""
   ]
  },
  {
   "cell_type": "code",
   "execution_count": 8,
   "id": "51b2357d",
   "metadata": {},
   "outputs": [
    {
     "name": "stdout",
     "output_type": "stream",
     "text": [
      "1000\n",
      "200\n",
      "Saque realizado com sucesso. Novo saldo: 800\n"
     ]
    }
   ],
   "source": [
    "saldo_total = int(input())\n",
    "valor_saque = int(input())\n",
    "\n",
    "def transacao(saldo_total, valor_saque):\n",
    "    if saldo_total < valor_saque:\n",
    "        print('Saldo insuficiente. Saque nao realizado!')        \n",
    "    else:\n",
    "        transacao = saldo_total - valor_saque\n",
    "        print(f'Saque realizado com sucesso. Novo saldo: {transacao:.0f}')\n",
    "\n",
    "transacao(saldo_total, valor_saque)"
   ]
  },
  {
   "cell_type": "markdown",
   "id": "82d0a8a2",
   "metadata": {},
   "source": [
    "## Desafios Python: Juros Compostos"
   ]
  },
  {
   "cell_type": "markdown",
   "id": "72b8c256",
   "metadata": {},
   "source": [
    "###  Descrição: <br>\n",
    "Imagine que você está desenvolvendo um aplicativo para um banco que deseja calcular os juros compostos de um investimento. Seu objetivo é criar uma função que receba três parâmetros: o valor inicial do investimento, a taxa de juros anual e o período de tempo em anos. A função deve calcular e retornar o valor final do investimento após o período determinado, levando em consideração os juros compostos.\n",
    "\n",
    "<br>\n",
    "\n",
    "### Entrada: <br>\n",
    "A função deve receber os seguintes parâmetros:\n",
    "* valor_inicial: um número inteiro ou decimal representando o valor inicial do investimento.\n",
    "* taxa_juros: um número decimal representando a taxa de juros anual. Por exemplo, se a taxa for de 5%, o valor passado será 0.05.\n",
    "* periodo: um número inteiro representando a quantidade de anos do investimento.\n",
    "\n",
    "<br>\n",
    "\n",
    "### Saída: <br>\n",
    "A função deve retornar o valor final do investimento após o período determinado, considerando os juros compostos. O valor final deve ser arredondado para duas casas decimais."
   ]
  },
  {
   "cell_type": "code",
   "execution_count": 15,
   "id": "8dfc8883",
   "metadata": {},
   "outputs": [
    {
     "name": "stdout",
     "output_type": "stream",
     "text": [
      "20000\n",
      "0.04\n",
      "10\n",
      "Valor final do investimento: R$ 29604.89\n"
     ]
    }
   ],
   "source": [
    "valor_inicial = float(input())\n",
    "taxa_juros = float(input())\n",
    "periodo = int(input())\n",
    "\n",
    "valor_final = valor_inicial\n",
    "\n",
    "def transacao(valor_inicial, taxa_juros, periodo):\n",
    "    valor_final = valor_inicial * (1 + taxa_juros) ** periodo\n",
    "    return print(f\"Valor final do investimento: R$ {valor_final:.2f}\")\n",
    "    \n",
    "transacao(valor_inicial, taxa_juros, periodo)"
   ]
  },
  {
   "cell_type": "markdown",
   "id": "d093df0e",
   "metadata": {},
   "source": [
    "## Desafios Python: O Grande Depósito"
   ]
  },
  {
   "cell_type": "markdown",
   "id": "5f0439c5",
   "metadata": {},
   "source": [
    "### Descrição: <br>\n",
    "Você foi contratado por um banco para desenvolver um programa que auxilie seus clientes a realizar depósitos em suas contas. O programa deve solicitar ao cliente o valor do depósito e verificar se o valor é válido. Se o valor for maior do que zero, o programa deve adicionar o valor ao saldo da conta. Caso contrário, o programa deve exibir uma mensagem de erro e solicitar um novo valor. O programa deve continuar solicitando valores de depósito até que seja digitado um valor válido.\n",
    "\n",
    "<br>\n",
    "\n",
    "### Entrada: <br>\n",
    "O programa deve utilizar o Scanner para receber os valores de depósito digitados pelo cliente. Os valores podem ser decimais, representando valores em reais.\n",
    "\n",
    "<br>\n",
    "\n",
    "### Saída: <br>\n",
    "O programa deve exibir uma mensagem de sucesso quando um valor de depósito válido for informado e o saldo da conta for atualizado. Caso um valor inválido seja digitado, o programa deve exibir uma mensagem de erro e solicitar um novo valor."
   ]
  },
  {
   "cell_type": "code",
   "execution_count": 21,
   "id": "a80f50a2",
   "metadata": {},
   "outputs": [
    {
     "name": "stdout",
     "output_type": "stream",
     "text": [
      "500.50\n",
      "Deposito realizado com sucesso!\n",
      "Saldo atual: R$ 500.50\n"
     ]
    }
   ],
   "source": [
    "valor = float(input())\n",
    "\n",
    "if valor > 0:\n",
    "    print(f'Deposito realizado com sucesso!\\nSaldo atual: R$ {valor:.2f}')\n",
    "elif valor < 0:\n",
    "    print('Valor invalido! Digite um valor maior que zero.')\n",
    "else:\n",
    "    print('Encerrando o programa...')"
   ]
  }
 ],
 "metadata": {
  "kernelspec": {
   "display_name": "Python 3 (ipykernel)",
   "language": "python",
   "name": "python3"
  },
  "language_info": {
   "codemirror_mode": {
    "name": "ipython",
    "version": 3
   },
   "file_extension": ".py",
   "mimetype": "text/x-python",
   "name": "python",
   "nbconvert_exporter": "python",
   "pygments_lexer": "ipython3",
   "version": "3.9.16"
  }
 },
 "nbformat": 4,
 "nbformat_minor": 5
}
