{
 "cells": [
  {
   "cell_type": "markdown",
   "id": "8a704989",
   "metadata": {},
   "source": [
    "<center><img width=\"25%\" src=\"https://www.camaramirimdoce.sc.gov.br/media/noticia/resumo-da-sessao-10-06-2019-111.png?w=848&h=450&t=P&c=f0f0f0&q=80&v=2\"></center>\n",
    "\n",
    "---\n",
    "\n",
    "<br>\n",
    "\n",
    "# Fundamentos e Técnicas de Machine Learning\n",
    "\n",
    "<br>"
   ]
  },
  {
   "cell_type": "markdown",
   "id": "8f714d08",
   "metadata": {},
   "source": [
    "## Introdução ao Machine Learning <br>\n",
    "### : \n",
    "\n",
    "## Métodos de Machine Learning Bioinspiradores <br>\n",
    "## Redes Neurais Artificiais <br>\n",
    "## Algoritmos Genéticos <br>\n",
    "## Algoritmos de SQM (Support Vector Machine) <br>\n",
    "## Classificação de Problemas: Explorando Datasets <br>\n",
    "## Linguagens de Programação para Machine Learning <br>\n",
    "## Python para Machine Learning na Prática <br>"
   ]
  },
  {
   "cell_type": "markdown",
   "id": "0fbd0e90",
   "metadata": {},
   "source": [
    "Neste projeto deve ser criada uma base de dados (dataset) para o treinamento de um algoritmo baseado em Redes Neurais Artificiais. Para essa tarefa será necessário criar ao menos duas classes de objetos com no mínimo 100 imagens para cada uma delas, que tenham uma qualidade boa (no mínimo 400x400 pixels). Esse dataset servirá como base para os projetos desenvolvidos ao longo de toda a trilha, em diferentes projetos.  "
   ]
  },
  {
   "cell_type": "markdown",
   "id": "eb696cb5",
   "metadata": {},
   "source": [
    "https://www.youtube.com/watch?v=P7XHzqZjXQs&ab_channel=IvanSeidel\n",
    "https://www.youtube.com/watch?v=pgaEE27nsQw&ab_channel=Goatstream"
   ]
  },
  {
   "cell_type": "code",
   "execution_count": null,
   "id": "d2683ed3",
   "metadata": {},
   "outputs": [],
   "source": []
  }
 ],
 "metadata": {
  "kernelspec": {
   "display_name": "Python 3 (ipykernel)",
   "language": "python",
   "name": "python3"
  },
  "language_info": {
   "codemirror_mode": {
    "name": "ipython",
    "version": 3
   },
   "file_extension": ".py",
   "mimetype": "text/x-python",
   "name": "python",
   "nbconvert_exporter": "python",
   "pygments_lexer": "ipython3",
   "version": "3.9.16"
  }
 },
 "nbformat": 4,
 "nbformat_minor": 5
}
