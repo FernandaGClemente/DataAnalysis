{
 "cells": [
  {
   "cell_type": "markdown",
   "id": "9dd48f35",
   "metadata": {},
   "source": [
    "<center><img width=\"25%\" src=\"https://www.camaramirimdoce.sc.gov.br/media/noticia/resumo-da-sessao-10-06-2019-111.png?w=848&h=450&t=P&c=f0f0f0&q=80&v=2\"></center>\n",
    "\n",
    "---\n",
    "\n",
    "<br>\n",
    "\n",
    "# Data Analystic da Microsoft\n",
    "> https://learn.microsoft.com/pt-br/training/modules/data-analytics-microsoft/1-introduction <br>\n",
    "> https://learn.microsoft.com/pt-br/training/paths/data-analytics-microsoft/\n",
    "\n",
    "<br>"
   ]
  },
  {
   "cell_type": "markdown",
   "id": "821d2bb1",
   "metadata": {},
   "source": [
    "# **Sumário:**\n",
    "1. [Comece a usar a análise de dados da Microsoft](#Comece-a-usar-a-análise-de-dados-da-Microsoft)\n",
    "2. [Preparar dados para análise](#Preparar-dados-para-análise)\n",
    "3. [Dados de modelo no Power BI](#Dados-de-modelo-no-Power-BI)\n",
    "4. [Visualizar dados no Power BI](#Visualizar-dados-no-Power-BI)\n",
    "5. [Análise de dados no Power BI](#Análise-de-dados-no-Power-BI)"
   ]
  },
  {
   "cell_type": "markdown",
   "id": "738b46be",
   "metadata": {},
   "source": [
    "### **Introdução** \n",
    "[&#x1F53C;](#Sumário:) Clique para voltar para o sumário"
   ]
  }
 ],
 "metadata": {
  "kernelspec": {
   "display_name": "Python 3 (ipykernel)",
   "language": "python",
   "name": "python3"
  },
  "language_info": {
   "codemirror_mode": {
    "name": "ipython",
    "version": 3
   },
   "file_extension": ".py",
   "mimetype": "text/x-python",
   "name": "python",
   "nbconvert_exporter": "python",
   "pygments_lexer": "ipython3",
   "version": "3.9.16"
  }
 },
 "nbformat": 4,
 "nbformat_minor": 5
}
