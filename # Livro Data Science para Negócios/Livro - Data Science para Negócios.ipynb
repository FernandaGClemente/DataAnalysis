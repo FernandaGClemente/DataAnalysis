{
 "cells": [
  {
   "cell_type": "markdown",
   "id": "a1f4057b",
   "metadata": {},
   "source": [
    "<center><img width=\"25%\" src=\"https://www.camaramirimdoce.sc.gov.br/media/noticia/resumo-da-sessao-10-06-2019-111.png?w=848&h=450&t=P&c=f0f0f0&q=80&v=2\"></center>\n",
    "\n",
    "---\n",
    "\n",
    "<br>\n",
    "\n",
    "# Livro - Data Science para Negócios\n",
    "#### O que você precisa saber sobre mineração de dados e pensamento analítico de dados\n",
    "\n",
    "<br>\n",
    "\n",
    "<center><img width=\"10%\" src=\"_imagens/Data Science para Negocios.png\"></center>"
   ]
  },
  {
   "cell_type": "markdown",
   "id": "bbce957e",
   "metadata": {},
   "source": [
    "# **<u>Sumário:</u>**\n",
    "1. [Capítulo 1: Introdução do pensamento analítico](#Capítulo-1:-Introdução-do-pensamento-analítico)\n",
    "2. [Capítulo 2: Problemas de negócios](#Capítulo-2:-Problemas-de-negócios)\n",
    "3. [Capítulo 3: Introdução a modelagem preditiva](#Capítulo-3:-Introdução-a-modelagem-preditiva)\n",
    "4. [Capítulo 4: Ajustando um modelo aos dados](#Capítulo-4:-Ajustando-um-modelo-aos-dados)\n",
    "5. [Capítulo 5: Sobreajuste e como evitá-lo](#Capítulo-5:-Sobreajuste-e-como-evitá-lo)\n",
    "6. [Capítulo 6: Similaridade, Vizinhos e Agrupamentos](#Capítulo-6:-Similaridade,-Vizinhos-e-Agrupamentos)\n",
    "7. [Capítulo 7: Decisão do pensamento analítico I](#Capítulo-7:-Decisão-do-pensamento-analítico-I)\n",
    "8. [Capítulo 8: Visualização do modelo de desempenho](#Capítulo-8:-Visualização-do-modelo-de-desempenho)\n",
    "9. [Capítulo 9: Evidência e Probabilidade](#Capítulo-9:-Evidência-e-Probabilidade)\n",
    "10. [Capítulo 10: Representação e mineração de texto](#Capítulo-10:-Representação-e-mineração-de-texto)\n",
    "11. [Capítulo 11: Decisão do pensamento analítico II](#Capítulo-11:-Decisão-do-pensamento-analítico-II)\n",
    "12. [Capítulo 12: Outras tarefas e técnicas](#Capítulo-12:-Outras-tarefas-e-técnicas)\n",
    "13. [Capítulo 13: Data Science e estratégia de negócios](#Capítulo-13:-Data-Science-e-estratégia-de-negócios)\n",
    "14. [Capítulo 14: Conclusão](#Capítulo-14:-Conclusão)"
   ]
  },
  {
   "cell_type": "markdown",
   "id": "775ce4e6",
   "metadata": {},
   "source": [
    "# Capítulo 1: Introdução do pensamento analítico\n",
    "[&#x1F53C;](#Sumário:) Clique para voltar para o sumário"
   ]
  },
  {
   "cell_type": "markdown",
   "id": "6e5f6ab2",
   "metadata": {},
   "source": [
    "# Capítulo 2: Problemas de negócios\n",
    "[&#x1F53C;](#Sumário:) Clique para voltar para o sumário"
   ]
  },
  {
   "cell_type": "markdown",
   "id": "8e2bb18c",
   "metadata": {},
   "source": [
    "# Capítulo 3: Introdução a modelagem preditiva\n",
    "[&#x1F53C;](#Sumário:) Clique para voltar para o sumário"
   ]
  },
  {
   "cell_type": "markdown",
   "id": "148c712d",
   "metadata": {},
   "source": [
    "# Capítulo 4: Ajustando um modelo aos dados\n",
    "[&#x1F53C;](#Sumário:) Clique para voltar para o sumário"
   ]
  },
  {
   "cell_type": "markdown",
   "id": "7098ab74",
   "metadata": {},
   "source": [
    "# Capítulo 5: Sobreajuste e como evitá-lo\n",
    "[&#x1F53C;](#Sumário:) Clique para voltar para o sumário"
   ]
  },
  {
   "cell_type": "markdown",
   "id": "efc113b1",
   "metadata": {},
   "source": [
    "# Capítulo 6: Similaridade, Vizinhos e Agrupamentos\n",
    "[&#x1F53C;](#Sumário:) Clique para voltar para o sumário"
   ]
  },
  {
   "cell_type": "markdown",
   "id": "a5a35258",
   "metadata": {},
   "source": [
    "# Capítulo 7: Decisão do pensamento analítico I\n",
    "[&#x1F53C;](#Sumário:) Clique para voltar para o sumário"
   ]
  },
  {
   "cell_type": "markdown",
   "id": "fd4cd9fa",
   "metadata": {},
   "source": [
    "# Capítulo 8: Visualização do modelo de desempenho\n",
    "[&#x1F53C;](#Sumário:) Clique para voltar para o sumário"
   ]
  },
  {
   "cell_type": "markdown",
   "id": "83d72e0d",
   "metadata": {},
   "source": [
    "# Capítulo 9: Evidência e Probabilidade\n",
    "[&#x1F53C;](#Sumário:) Clique para voltar para o sumário"
   ]
  },
  {
   "cell_type": "markdown",
   "id": "a1c5e07d",
   "metadata": {},
   "source": [
    "# Capítulo 10: Representação e mineração de texto\n",
    "[&#x1F53C;](#Sumário:) Clique para voltar para o sumário"
   ]
  },
  {
   "cell_type": "markdown",
   "id": "82308643",
   "metadata": {},
   "source": [
    "# Capítulo 11: Decisão do pensamento analítico II\n",
    "[&#x1F53C;](#Sumário:) Clique para voltar para o sumário"
   ]
  },
  {
   "cell_type": "markdown",
   "id": "5742072c",
   "metadata": {},
   "source": [
    "# Capítulo 12: Outras tarefas e técnicas\n",
    "[&#x1F53C;](#Sumário:) Clique para voltar para o sumário"
   ]
  },
  {
   "cell_type": "markdown",
   "id": "1cfc8999",
   "metadata": {},
   "source": [
    "# Capítulo 13: Data Science e estratégia de negócios\n",
    "[&#x1F53C;](#Sumário:) Clique para voltar para o sumário"
   ]
  },
  {
   "cell_type": "markdown",
   "id": "d0c1afa5",
   "metadata": {},
   "source": [
    "# Capítulo 14: Conclusão\n",
    "[&#x1F53C;](#Sumário:) Clique para voltar para o sumário"
   ]
  }
 ],
 "metadata": {
  "kernelspec": {
   "display_name": "Python 3 (ipykernel)",
   "language": "python",
   "name": "python3"
  },
  "language_info": {
   "codemirror_mode": {
    "name": "ipython",
    "version": 3
   },
   "file_extension": ".py",
   "mimetype": "text/x-python",
   "name": "python",
   "nbconvert_exporter": "python",
   "pygments_lexer": "ipython3",
   "version": "3.9.16"
  }
 },
 "nbformat": 4,
 "nbformat_minor": 5
}
