{
 "cells": [
  {
   "cell_type": "markdown",
   "id": "3894b408",
   "metadata": {},
   "source": [
    "<center><img width=\"25%\" src=\"https://www.camaramirimdoce.sc.gov.br/media/noticia/resumo-da-sessao-10-06-2019-111.png?w=848&h=450&t=P&c=f0f0f0&q=80&v=2\"></center>\n",
    "\n",
    "---\n",
    "\n",
    "<br>\n",
    "\n",
    "# Módulo 3 - Aplicações em ETL\n",
    "\n",
    "<br>"
   ]
  },
  {
   "cell_type": "markdown",
   "id": "f6073689",
   "metadata": {},
   "source": [
    "# **Sumário:**\n",
    "1. [Capítulo 1: Processo ETL](#Capítulo-1:-Processo-ETL)\n",
    "    * Definição de BI \n",
    "    * OLAP\n",
    "    * Relatórios Ad hoc\n",
    "    * Integração de dados\n",
    "    * Definição de ETL\n",
    "    * Como surgiu o ETL\n",
    "    * Extração\n",
    "    * Transformação \n",
    "    * Carga \n",
    "    * Importância do ETL \n",
    "    * Benefícios do ETL \n",
    "    * Principais Conceitos em ETL \n",
    "2. [Capítulo 2: Ferramentas ETL e Tendências](#Capítulo-2:-Ferramentas-ETL-e-Tendências)\n",
    "    * Quadrante Mágico de Gartner \n",
    "    * Ferramentas ETL \n",
    "    * Big Data \n",
    "    * Data Analytics \n",
    "    * Principais Fornecedores \n",
    "    * Pentaho \n",
    "    * Visão Geral do Pentaho \n",
    "    * Pentaho Data Integration \n",
    "    * Benefícios do Pentaho \n",
    "    * Pentaho Data Integration Suite \n",
    "    * Outras ferramentas ETL (Apache Hadoop, NoSQL) \n",
    "3. [Capítulo 3: Requisitos para ETL](#Capítulo-3:-Requisitos-para-ETL)\n",
    "    * Etapas do Projeto de BI \n",
    "    * Desafios da Implantação de um projeto de BI \n",
    "    * Componentes críticos para escolha da ferramenta \n",
    "    * Requisitos para ETL \n",
    "    * Componentes Críticos \n",
    "    * Definição de Ambiente \n",
    "    * Escalabilidade \n",
    "    * Recuperabilidade ou Rerunnability \n",
    "    * Chaves \n",
    "    * Performance\n",
    "    * Processamento Paralelo \n",
    "    * Ferramentas \n",
    "4. [Capítulo 4: Modelagem Dimensional](#Capítulo-4:-Modelagem-Dimensional)\n",
    "    * Modelo Star Schema \n",
    "    * Modelo SnowFlake \n",
    "    * Modelo StarFlake \n",
    "    * OLAP \n",
    "    * Regras essenciais para modelagem dimensional \n",
    "    * Tabela Dimensão \n",
    "    * Hierarquia de Dimensões \n",
    "    * Surrogate Key \n",
    "    * Tipos de Dimensão \n",
    "    * Degerate Dimension \n",
    "    * Junk Dimension \n",
    "    * Role-Playing Dimension \n",
    "    * Conformed Dimension \n",
    "    * Slowly Changing Dimension (SCD) \n",
    "    * Tabela Fato \n",
    "    * Fato Transacional \n",
    "    * Fato Agregada \n",
    "    * Fato Consolidada \n",
    "    * Fato SnapShot Periódico \n",
    "    * Fato SnapShot Acumulados \n",
    "    * Fato sem Fato \n",
    "    * Métricas \n",
    "    * Tipos de Métricas \n",
    "    * Métrica Aditiva \n",
    "    * Métrica Derivada \n",
    "    * Métrica Semi-Aditiva \n",
    "    * Métrica Não-Aditiva\n",
    "5. [Capítulo 5: Metadados](#Capítulo-5:-Metadados)\n",
    "    * Papel dos metadados no data warehouse\n",
    "    * Repositório de Metadados em ETL\n",
    "    * Como os metadados do data warehousing podem ser gerenciados?\n",
    "    * Desafios para o gerenciamento de metadados\n",
    "    * O que é ETL orientado a metadados?\n",
    "6. [Capítulo 6: Staging Area](#Capítulo-6:-Staging-Area)\n",
    "    * ODS – Operational Data Store\n",
    "    * Diferenças entre ODS e DW\n",
    "    * Staging area\n",
    "    * Tipos de Staging area\n",
    "    * Staging 1\n",
    "    * Staging 2\n",
    "    * Staging 2 Aux \n",
    "    * Tratamento de erros \n",
    "    * Categoria de erros \n",
    "    * Tipos de erros \n",
    "    * Tratamento de erros "
   ]
  },
  {
   "cell_type": "markdown",
   "id": "5a0a164d",
   "metadata": {},
   "source": [
    "### **Capítulo 1: Processo ETL** \n",
    "[&#x1F53C;](#Sumário:) Clique para voltar para o sumário"
   ]
  },
  {
   "cell_type": "markdown",
   "id": "1b4c4a39",
   "metadata": {},
   "source": [
    "### **Capítulo 2: Ferramentas ETL e Tendências** \n",
    "[&#x1F53C;](#Sumário:) Clique para voltar para o sumário"
   ]
  },
  {
   "cell_type": "markdown",
   "id": "40abc5c2",
   "metadata": {},
   "source": [
    "### **Capítulo 3: Requisitos para ETL** \n",
    "[&#x1F53C;](#Sumário:) Clique para voltar para o sumário"
   ]
  },
  {
   "cell_type": "markdown",
   "id": "fb18e1db",
   "metadata": {},
   "source": [
    "### **Capítulo 4: Modelagem Dimensional** \n",
    "[&#x1F53C;](#Sumário:) Clique para voltar para o sumário"
   ]
  },
  {
   "cell_type": "markdown",
   "id": "7ea3b191",
   "metadata": {},
   "source": [
    "### **Capítulo 5: Metadados** \n",
    "[&#x1F53C;](#Sumário:) Clique para voltar para o sumário"
   ]
  },
  {
   "cell_type": "markdown",
   "id": "b8068e6e",
   "metadata": {},
   "source": [
    "### **Capítulo 6: Staging Area** \n",
    "[&#x1F53C;](#Sumário:) Clique para voltar para o sumário"
   ]
  }
 ],
 "metadata": {
  "kernelspec": {
   "display_name": "Python 3 (ipykernel)",
   "language": "python",
   "name": "python3"
  },
  "language_info": {
   "codemirror_mode": {
    "name": "ipython",
    "version": 3
   },
   "file_extension": ".py",
   "mimetype": "text/x-python",
   "name": "python",
   "nbconvert_exporter": "python",
   "pygments_lexer": "ipython3",
   "version": "3.9.16"
  }
 },
 "nbformat": 4,
 "nbformat_minor": 5
}
