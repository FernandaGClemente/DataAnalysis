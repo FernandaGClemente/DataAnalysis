{
 "cells": [
  {
   "cell_type": "markdown",
   "id": "78cfbb08",
   "metadata": {},
   "source": [
    "<center><img width=\"25%\" src=\"https://www.camaramirimdoce.sc.gov.br/media/noticia/resumo-da-sessao-10-06-2019-111.png?w=848&h=450&t=P&c=f0f0f0&q=80&v=2\"></center>\n",
    "\n",
    "---\n",
    "\n",
    "<br>\n",
    "\n",
    "# Exemplo - Carta Projeto\n",
    "\n",
    "<br>"
   ]
  },
  {
   "cell_type": "markdown",
   "id": "846386d6",
   "metadata": {},
   "source": [
    "#### Justificativa do projeto: \n",
    "A justificativa deve conter os motivos pelo qual o projeto deverá ser realizado. Na verdade, a justificativa deve ser criada antes desta carta para justificar a criação do projeto, mas também pode estar presente na carta para consulta.\n",
    "\n",
    "<br>\n",
    "\n",
    "#### Metas e objetivos: \n",
    "Neste tópico será apresentado o que se deseja alcançar com o projeto, as metas devem quantificáveis. Ex. aumentar as vendas em 5% em um ano direcionando campanhas publicitárias.\n",
    "\n",
    "<br>\n",
    "\n",
    "#### Solução de BI proposta: \n",
    "Aqui será apresentado de fato o que será feito, levantamento de informações, criação de novas bases, etc. É citar o próprio projeto de BI.\n",
    "\n",
    "<br>\n",
    "\n",
    "#### Resultados da análise de lacunas de infraestrutura:\n",
    "Apresentar a infraestrutura técnica e não técnica, como está a infraestrutura da empresa? Irão reutilizar algo? Precisará adquirir? E os dados da empresa? A empresa já realiza a gestão do conhecimento? Possui normas e regulamentos que o BI irá necessitar?\n",
    "\n",
    "<br>\n",
    "\n",
    "#### Entrega de projetos funcionais:\n",
    "Relatórios, consultas, portal da Web. Apresentar como os dados deverão ser entregues e como deverão ser utilizados.\n",
    "\n",
    "<br>\n",
    "\n",
    "#### Condição de arquivos de origem e bancos de dados: \n",
    "Definir as bases que serão utilizadas no projeto, se elas são acessíveis, e se possível já informar alguma restrição ou problemas nos arquivos.\n",
    "\n",
    "<br>\n",
    "\n",
    "#### Plano de comunicação:\n",
    "Apresentar como o projeto poderá ser acompanhado pela equipe de negócio e demais interessados.\n",
    "\n",
    "<br>\n",
    "\n",
    "#### Premissas:\n",
    "Hipóteses, algo que se assume como verdadeiro para o bom desenvolvimento do projeto. São situações que se espera que a empresa tenha ou faça antes ou determinado momento do projeto.\n",
    "\n",
    "<br>\n",
    "\n",
    "#### Restrições:\n",
    "São pontos que o projeto deverá seguir. Restrições básicas da maioria dos projetos são escopo, tempo, custos, recursos e qualidade.\n",
    "\n",
    "<br>\n",
    "\n",
    "#### Riscos:\n",
    "Todo projeto possui riscos. Aqui é importante apontá-los e criar planos para evitá-los ou minimizá-los.\n",
    "\n",
    "<br>\n",
    "\n",
    "#### Fatores críticos de sucesso:\n",
    "Pontos essenciais para que o projeto dê certo. Fornecimentos de informações, contratações, etc.\n",
    "\n",
    "<br>\n",
    "\n",
    "#### Tarefas:\n",
    "Aqui será criado o cronograma do projeto com etapas, tarefas e pessoas que irão executá-las. Ideal a utilização de ferramentas como gráfico de Gant."
   ]
  }
 ],
 "metadata": {
  "kernelspec": {
   "display_name": "Python 3 (ipykernel)",
   "language": "python",
   "name": "python3"
  },
  "language_info": {
   "codemirror_mode": {
    "name": "ipython",
    "version": 3
   },
   "file_extension": ".py",
   "mimetype": "text/x-python",
   "name": "python",
   "nbconvert_exporter": "python",
   "pygments_lexer": "ipython3",
   "version": "3.9.16"
  }
 },
 "nbformat": 4,
 "nbformat_minor": 5
}
