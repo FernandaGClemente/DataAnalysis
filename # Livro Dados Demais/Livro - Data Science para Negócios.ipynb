{
 "cells": [
  {
   "cell_type": "markdown",
   "id": "a1f4057b",
   "metadata": {},
   "source": [
    "<center><img width=\"25%\" src=\"https://www.camaramirimdoce.sc.gov.br/media/noticia/resumo-da-sessao-10-06-2019-111.png?w=848&h=450&t=P&c=f0f0f0&q=80&v=2\"></center>\n",
    "\n",
    "---\n",
    "\n",
    "<br>\n",
    "\n",
    "# Livro - Dados Demais\n",
    "#### Como desenvolver habilidades analíticas para resolver problemas complexos, reduzir riscos e decidir melhor\n",
    "\n",
    "<br>\n",
    "\n",
    "<center><img width=\"15%\" src=\"_imagens/Dados demais.png\"></center>"
   ]
  },
  {
   "cell_type": "markdown",
   "id": "bbce957e",
   "metadata": {},
   "source": [
    "# **<u>Sumário:</u>**\n",
    "1. [Capítulo 1: Por que todos precisam de capacidade analítica](#Capítulo-1:-Por-que-todos-precisam-de-capacidade-analítica)\n",
    "2. [Capítulo 2: Formulação do problema](#Capítulo-2:-Formulação-do-problema)\n",
    "3. [Capítulo 3: Solução do problema](#Capítulo-3:-Solução-do-problema)\n",
    "4. [Capítulo 4: Resultados: Comunicação e ação](#Capítulo-4:-Resultados:-Comunicação-e-ação)\n",
    "5. [Capítulo 5: Análise quantitativa e criatividade](#Capítulo-5:-Análise-quantitativa-e-criatividade)\n",
    "6. [Capítulo 6: Desenvolvimento de recursos de análise quantitativa](#Capítulo-6:-Desenvolvimento-de-recursos-de-análise-quantitativa)\n",
    "7. [Capítulo 7: Trabalhando com os quants](#Capítulo-7:-Trabalhando-com-os-quants)"
   ]
  },
  {
   "cell_type": "markdown",
   "id": "775ce4e6",
   "metadata": {},
   "source": [
    "# Capítulo 1: Por que todos precisam de capacidade analítica\n",
    "[&#x1F53C;](#Sumário:) Clique para voltar para o sumário"
   ]
  },
  {
   "cell_type": "markdown",
   "id": "6e5f6ab2",
   "metadata": {},
   "source": [
    "# Capítulo 2: Formulação do problema\n",
    "[&#x1F53C;](#Sumário:) Clique para voltar para o sumário"
   ]
  },
  {
   "cell_type": "markdown",
   "id": "8e2bb18c",
   "metadata": {},
   "source": [
    "# Capítulo 3: Solução do problema\n",
    "[&#x1F53C;](#Sumário:) Clique para voltar para o sumário"
   ]
  },
  {
   "cell_type": "markdown",
   "id": "148c712d",
   "metadata": {},
   "source": [
    "# Capítulo 4: Resultados: Comunicação e ação\n",
    "[&#x1F53C;](#Sumário:) Clique para voltar para o sumário"
   ]
  },
  {
   "cell_type": "markdown",
   "id": "7098ab74",
   "metadata": {},
   "source": [
    "# Capítulo 5: Análise quantitativa e criatividade\n",
    "[&#x1F53C;](#Sumário:) Clique para voltar para o sumário"
   ]
  },
  {
   "cell_type": "markdown",
   "id": "efc113b1",
   "metadata": {},
   "source": [
    "# Capítulo 6: Desenvolvimento de recursos de análise quantitativa\n",
    "[&#x1F53C;](#Sumário:) Clique para voltar para o sumário"
   ]
  },
  {
   "cell_type": "markdown",
   "id": "a5a35258",
   "metadata": {},
   "source": [
    "# Capítulo 7: Trabalhando com os quants\n",
    "[&#x1F53C;](#Sumário:) Clique para voltar para o sumário"
   ]
  }
 ],
 "metadata": {
  "kernelspec": {
   "display_name": "Python 3 (ipykernel)",
   "language": "python",
   "name": "python3"
  },
  "language_info": {
   "codemirror_mode": {
    "name": "ipython",
    "version": 3
   },
   "file_extension": ".py",
   "mimetype": "text/x-python",
   "name": "python",
   "nbconvert_exporter": "python",
   "pygments_lexer": "ipython3",
   "version": "3.9.16"
  }
 },
 "nbformat": 4,
 "nbformat_minor": 5
}
