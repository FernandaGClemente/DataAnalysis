{
 "cells": [
  {
   "cell_type": "markdown",
   "id": "a1f4057b",
   "metadata": {},
   "source": [
    "<center><img width=\"25%\" src=\"https://www.camaramirimdoce.sc.gov.br/media/noticia/resumo-da-sessao-10-06-2019-111.png?w=848&h=450&t=P&c=f0f0f0&q=80&v=2\"></center>\n",
    "\n",
    "---\n",
    "\n",
    "<br>\n",
    "\n",
    "# Livro - Python para Análise de Dados \n",
    "#### Tratamento de dados com Pandas, NumPy e Ipython\n",
    "\n",
    "<br>\n",
    "\n",
    "<center><img width=\"10%\" src=\"_imagens/Livro Python para Analise de Dados.jpg\"></center>"
   ]
  },
  {
   "cell_type": "markdown",
   "id": "bbce957e",
   "metadata": {},
   "source": [
    "# **<u>Sumário:</u>**\n",
    "1. [Capítulo 1: Informações preliminares](#Capítulo-1:-Informações-preliminares)\n",
    "2. [Capítulo 2: Básico da linguagem Python](#Capítulo-2:-Básico-da-linguagem-Python)\n",
    "3. [Capítulo 3: Estrutura de dados embutidas, funções e arquivos](#Capítulo-3:-Estrutura-de-dados-embutidas,-funções-e-arquivos)\n",
    "4. [Capítulo 4: Básico sobre o Numpy](#Capítulo-4:-Básico-sobre-o-Numpy)\n",
    "5. [Capítulo 5: Introdução ao pandas](#Capítulo-5:-Introdução-ao-pandas)\n",
    "6. [Capítulo 6: Carga de dados, armazenamento e formatos de arquivo](#Capítulo-6:-Carga-de-dados,-armazenamento-e-formatos-de-arquivo)\n",
    "7. [Capítulo 7: Limpeza e preparação dos dados](#Capítulo-7:-Limpeza-e-preparação-dos-dados)\n",
    "8. [Capítulo 8: Tratamento de dados](#Capítulo-8:-Tratamento-de-dados)\n",
    "9. [Capítulo 9: Plotagem e visualização](#Capítulo-9:-Plotagem-e-visualização)\n",
    "10. [Capítulo 10: Agregação de dados](#Capítulo-10:-Agregação-de-dados)\n",
    "11. [Capítulo 11: Séries temporais](#Capítulo-11:-Séries-temporais)\n",
    "12. [Capítulo 12: Pandas avançado](#Capítulo-12:-Pandas-avançado)\n",
    "13. [Capítulo 13: Introdução as bibliotecas de modelagem](#Capítulo-13:-Introdução-as-bibliotecas-de-modelagem)\n",
    "14. [Capítulo 14: Exemplos](#Capítulo-14:-Exemplos)\n",
    "15. [Apêndice A: NumPy avançado](#Apêndice-A:-NumPy-avançado)\n",
    "16. [Apêndice B: Sistema IPython](#Apêndice-B:-Sistema-IPython)"
   ]
  },
  {
   "cell_type": "markdown",
   "id": "775ce4e6",
   "metadata": {},
   "source": [
    "# Capítulo 1: Informações preliminares\n",
    "[&#x1F53C;](#Sumário:) Clique para voltar para o sumário"
   ]
  },
  {
   "cell_type": "markdown",
   "id": "6e5f6ab2",
   "metadata": {},
   "source": [
    "# Capítulo 2: Básico da linguagem Python\n",
    "[&#x1F53C;](#Sumário:) Clique para voltar para o sumário"
   ]
  },
  {
   "cell_type": "markdown",
   "id": "8e2bb18c",
   "metadata": {},
   "source": [
    "# Capítulo 3: Estrutura de dados embutidas, funções e arquivos\n",
    "[&#x1F53C;](#Sumário:) Clique para voltar para o sumário"
   ]
  },
  {
   "cell_type": "markdown",
   "id": "148c712d",
   "metadata": {},
   "source": [
    "# Capítulo 4: Básico sobre o Numpy\n",
    "[&#x1F53C;](#Sumário:) Clique para voltar para o sumário"
   ]
  },
  {
   "cell_type": "markdown",
   "id": "7098ab74",
   "metadata": {},
   "source": [
    "# Capítulo 5: Introdução ao pandas\n",
    "[&#x1F53C;](#Sumário:) Clique para voltar para o sumário"
   ]
  },
  {
   "cell_type": "markdown",
   "id": "efc113b1",
   "metadata": {},
   "source": [
    "# Capítulo 6: Carga de dados, armazenamento e formatos de arquivo\n",
    "[&#x1F53C;](#Sumário:) Clique para voltar para o sumário"
   ]
  },
  {
   "cell_type": "markdown",
   "id": "a5a35258",
   "metadata": {},
   "source": [
    "# Capítulo 7: Limpeza e preparação dos dados\n",
    "[&#x1F53C;](#Sumário:) Clique para voltar para o sumário"
   ]
  },
  {
   "cell_type": "markdown",
   "id": "fd4cd9fa",
   "metadata": {},
   "source": [
    "# Capítulo 8: Tratamento de dados\n",
    "[&#x1F53C;](#Sumário:) Clique para voltar para o sumário"
   ]
  },
  {
   "cell_type": "markdown",
   "id": "83d72e0d",
   "metadata": {},
   "source": [
    "# Capítulo 9: Plotagem e visualização\n",
    "[&#x1F53C;](#Sumário:) Clique para voltar para o sumário"
   ]
  },
  {
   "cell_type": "markdown",
   "id": "a1c5e07d",
   "metadata": {},
   "source": [
    "# Capítulo 10: Agregação de dados\n",
    "[&#x1F53C;](#Sumário:) Clique para voltar para o sumário"
   ]
  },
  {
   "cell_type": "markdown",
   "id": "82308643",
   "metadata": {},
   "source": [
    "# Capítulo 11: Séries temporais\n",
    "[&#x1F53C;](#Sumário:) Clique para voltar para o sumário"
   ]
  },
  {
   "cell_type": "markdown",
   "id": "5742072c",
   "metadata": {},
   "source": [
    "# Capítulo 12: Pandas avançado\n",
    "[&#x1F53C;](#Sumário:) Clique para voltar para o sumário"
   ]
  },
  {
   "cell_type": "markdown",
   "id": "1cfc8999",
   "metadata": {},
   "source": [
    "# Capítulo 13: Introdução as bibliotecas de modelagem\n",
    "[&#x1F53C;](#Sumário:) Clique para voltar para o sumário"
   ]
  },
  {
   "cell_type": "markdown",
   "id": "d0c1afa5",
   "metadata": {},
   "source": [
    "# Capítulo 14: Exemplos\n",
    "[&#x1F53C;](#Sumário:) Clique para voltar para o sumário"
   ]
  },
  {
   "cell_type": "markdown",
   "id": "867d7f39",
   "metadata": {},
   "source": [
    "# Apêndice A: NumPy avançado\n",
    "[&#x1F53C;](#Sumário:) Clique para voltar para o sumário"
   ]
  },
  {
   "cell_type": "markdown",
   "id": "cf875749",
   "metadata": {},
   "source": [
    "# Apêndice B: Sistema IPython\n",
    "[&#x1F53C;](#Sumário:) Clique para voltar para o sumário"
   ]
  }
 ],
 "metadata": {
  "kernelspec": {
   "display_name": "Python 3 (ipykernel)",
   "language": "python",
   "name": "python3"
  },
  "language_info": {
   "codemirror_mode": {
    "name": "ipython",
    "version": 3
   },
   "file_extension": ".py",
   "mimetype": "text/x-python",
   "name": "python",
   "nbconvert_exporter": "python",
   "pygments_lexer": "ipython3",
   "version": "3.9.16"
  }
 },
 "nbformat": 4,
 "nbformat_minor": 5
}
